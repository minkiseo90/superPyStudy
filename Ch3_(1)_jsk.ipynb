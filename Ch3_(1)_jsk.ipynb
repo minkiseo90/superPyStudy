{
 "cells": [
  {
   "cell_type": "markdown",
   "metadata": {},
   "source": [
    "### 060 사용자입력받기(input)"
   ]
  },
  {
   "cell_type": "code",
   "execution_count": 2,
   "metadata": {},
   "outputs": [
    {
     "name": "stdout",
     "output_type": "stream",
     "text": [
      "값을 입력하세요:123\n",
      "<class 'str'>\n",
      "당신이 입력한 값은 123입니다.\n"
     ]
    }
   ],
   "source": [
    "k = input('값을 입력하세요:')\n",
    "print(type(k))\n",
    "print('당신이 입력한 값은 '+ k +'입니다.')"
   ]
  },
  {
   "cell_type": "markdown",
   "metadata": {},
   "source": [
    "### 061 자료형 확인하기(type)"
   ]
  },
  {
   "cell_type": "code",
   "execution_count": 6,
   "metadata": {},
   "outputs": [
    {
     "name": "stdout",
     "output_type": "stream",
     "text": [
      "<class 'int'>\n",
      "<class 'str'>\n",
      "<class 'list'>\n",
      "<class 'dict'>\n",
      "<class 'function'>\n"
     ]
    }
   ],
   "source": [
    "numdata = 57\n",
    "strdata = '파이썬'\n",
    "listdata = [1,2,3]\n",
    "dictdata = {'a':1, 'b':2}\n",
    "\n",
    "def func():\n",
    "    print('안녕하세요')\n",
    "    \n",
    "print(type(numdata))\n",
    "print(type(strdata))\n",
    "print(type(listdata))\n",
    "print(type(dictdata))\n",
    "print(type(func))"
   ]
  },
  {
   "cell_type": "markdown",
   "metadata": {},
   "source": [
    "- 파이썬의 자료형은 하나의 클래스임\n",
    "- 파이썬은 숫자나 문자, 문자열, 리스트 튜플, 사전, 함수 등을 각각 하나의 클래스로 취급함."
   ]
  },
  {
   "cell_type": "markdown",
   "metadata": {},
   "source": [
    "### 062 나눗셈에서 나머지만 구하기(%)"
   ]
  },
  {
   "cell_type": "code",
   "execution_count": 9,
   "metadata": {},
   "outputs": [
    {
     "name": "stdout",
     "output_type": "stream",
     "text": [
      "11113를 23로 나누면 4가 나머지로 남슴니다.\n",
      "2\n"
     ]
    }
   ],
   "source": [
    "a = 11113\n",
    "b = 23\n",
    "ret = 11113 % 23\n",
    "print('%d를 %d로 나누면 %d가 나머지로 남슴니다.'%(a,b,ret))\n",
    "print(12 % 5)\n"
   ]
  },
  {
   "cell_type": "markdown",
   "metadata": {},
   "source": [
    "### 063 몫과 나머지 구하기(divmod)"
   ]
  },
  {
   "cell_type": "code",
   "execution_count": 10,
   "metadata": {},
   "outputs": [
    {
     "name": "stdout",
     "output_type": "stream",
     "text": [
      "11113 를 23로 나누면 몫은 483 이고 나머지는 4이다\n"
     ]
    }
   ],
   "source": [
    "a = 11113\n",
    "b= 23\n",
    "ret1, ret2 = divmod(a,b)\n",
    "print('%d 를 %d로 나누면 몫은 %d 이고 나머지는 %d이다'%(a,b,ret1,ret2))"
   ]
  },
  {
   "cell_type": "markdown",
   "metadata": {},
   "source": [
    "### 064 10진수를 16진수로 변환하기(hex)"
   ]
  },
  {
   "cell_type": "code",
   "execution_count": 19,
   "metadata": {},
   "outputs": [
    {
     "name": "stdout",
     "output_type": "stream",
     "text": [
      "<class 'str'> <class 'str'> <class 'str'>\n",
      "0x61 0x62 0x610x62\n",
      "97 98 195\n",
      "0xc3\n",
      "9F\n",
      "9f\n"
     ]
    }
   ],
   "source": [
    "h1 = hex(97)\n",
    "h2 = hex(98)\n",
    "ret1 = h1 + h2  # 문자열로 인식되어 문자열을 합침.\n",
    "print(type(h1), type(h2), type(ret1))\n",
    "print(h1, h2, ret1)\n",
    "\n",
    "a = int(h1, 16)\n",
    "b = int(h2, 16)\n",
    "ret1 = a + b\n",
    "print(a,b,ret1)\n",
    "h_ret1 = hex(ret1)\n",
    "print(h_ret1)\n",
    "\n",
    "\n",
    "# 10진수를 16진수로 print 하기\n",
    "n = 159\n",
    "print('%X'%n)\n",
    "print('%x'%n)"
   ]
  },
  {
   "cell_type": "markdown",
   "metadata": {},
   "source": [
    "- int() 함수의 두번째인자가 없을 경우 default로 첫번째 인수를 10진수로 인식하게 됨.[주의할것]"
   ]
  },
  {
   "cell_type": "markdown",
   "metadata": {},
   "source": [
    "### 065 10진수를 2진수로 변환하기(bin)"
   ]
  },
  {
   "cell_type": "code",
   "execution_count": 26,
   "metadata": {},
   "outputs": [
    {
     "name": "stdout",
     "output_type": "stream",
     "text": [
      "0b1100001 0b1100010 0b11000010b1100010\n",
      "0b1100001 0b1100010 0b11000011\n"
     ]
    }
   ],
   "source": [
    "b1 = bin(97)\n",
    "b2 = bin(98)\n",
    "ret1 = b1 + b2\n",
    "print(b1, b2 ,ret1) # 16진수와 동일한 논리적오류 발생\n",
    "\n",
    "a = int(b1, 2)\n",
    "b = int(b2, 2)\n",
    "ret1 = a + b\n",
    "b_ret1 = bin(ret1)\n",
    "print(b1, b2, b_ret1)\n"
   ]
  },
  {
   "cell_type": "markdown",
   "metadata": {},
   "source": [
    "### 066 2진수를 16진수, 10진수로 변환하기(int)"
   ]
  },
  {
   "cell_type": "code",
   "execution_count": 31,
   "metadata": {},
   "outputs": [
    {
     "name": "stdout",
     "output_type": "stream",
     "text": [
      "<class 'int'>\n",
      "240 240 240\n"
     ]
    }
   ],
   "source": [
    "bnum = 0b11110000\n",
    "bstr = '0b11110000'\n",
    "\n",
    "print(type(bnum))\n",
    "b1 = int(bnum)\n",
    "b2 = int(bstr,0)\n",
    "b3 = int(bstr,2)\n",
    "print(b1, b2, b3)"
   ]
  },
  {
   "cell_type": "code",
   "execution_count": 40,
   "metadata": {},
   "outputs": [
    {
     "name": "stdout",
     "output_type": "stream",
     "text": [
      "<class 'int'>\n",
      "240 240 240\n"
     ]
    }
   ],
   "source": [
    "onum = 0o360\n",
    "ostr = '0o360'\n",
    "print(type(onum))\n",
    "\n",
    "o1 = int(onum)\n",
    "o2 = int(ostr,0)\n",
    "o3 = int(ostr,8)\n",
    "\n",
    "print(o1, o2, o3)"
   ]
  },
  {
   "cell_type": "code",
   "execution_count": 41,
   "metadata": {},
   "outputs": [
    {
     "name": "stdout",
     "output_type": "stream",
     "text": [
      "240 240 240\n"
     ]
    }
   ],
   "source": [
    "hnum = 0xf0\n",
    "hstr = '0xf0'\n",
    "\n",
    "h1 = int(hnum)\n",
    "h2 = int(hstr,0)\n",
    "h3 = int(hstr, 16)\n",
    "print(h1, h2, h3)"
   ]
  },
  {
   "cell_type": "markdown",
   "metadata": {},
   "source": [
    "- int()함수의 첫번째 인자가 int형 일경우 알아서 10진수로 변환  \n",
    "첫번째 인자가 str 형 일경우 두번째 인자로 0 or 본래의 진수형태 int값을 넣어주면 10진수로 변환"
   ]
  },
  {
   "cell_type": "markdown",
   "metadata": {},
   "source": [
    "### 067 절대값 구하기(abs)"
   ]
  },
  {
   "cell_type": "code",
   "execution_count": 44,
   "metadata": {},
   "outputs": [
    {
     "name": "stdout",
     "output_type": "stream",
     "text": [
      "3\n",
      "5.72\n",
      "5.0\n"
     ]
    }
   ],
   "source": [
    "abs1 = abs(-3)\n",
    "abs2 = abs(-5.72)\n",
    "abs3 = abs(3+4j)\n",
    "\n",
    "print(abs1)\n",
    "print(abs2)\n",
    "print(abs3) # a + bj 복소수의 크기는 root(a^2 + b^2)"
   ]
  },
  {
   "cell_type": "markdown",
   "metadata": {},
   "source": [
    "### 068 반올림수 구하기(round)"
   ]
  },
  {
   "cell_type": "code",
   "execution_count": 46,
   "metadata": {},
   "outputs": [
    {
     "name": "stdout",
     "output_type": "stream",
     "text": [
      "1118\n",
      "17\n",
      "1120\n",
      "16.55\n"
     ]
    }
   ],
   "source": [
    "ret1 = round(1118) # 소수점 첫재자리에서 반올림(1의 자리까지 보자)\n",
    "ret2 = round(16.554) # 소수점 첫째자리에서 반올림\n",
    "ret3 = round(1118, -1) # 1의 자리에서 반올림 (10의 자리까지만 보자)\n",
    "ret4 = round(16.554,2) # 소수점 셋째자리에서 반올림 (소수 2번째 까지만 보자)\n",
    "\n",
    "print(ret1)\n",
    "print(ret2)\n",
    "print(ret3)\n",
    "print(ret4)"
   ]
  },
  {
   "cell_type": "code",
   "execution_count": 62,
   "metadata": {},
   "outputs": [
    {
     "name": "stdout",
     "output_type": "stream",
     "text": [
      "1124.0\n"
     ]
    }
   ],
   "source": [
    "ret = round(1123.545,0)\n",
    "print(ret)"
   ]
  },
  {
   "cell_type": "markdown",
   "metadata": {},
   "source": [
    "### 069 실수형자료를 정수형 자료로 변환하기(int)"
   ]
  },
  {
   "cell_type": "code",
   "execution_count": 63,
   "metadata": {},
   "outputs": [
    {
     "name": "stdout",
     "output_type": "stream",
     "text": [
      "-5\n",
      "17\n",
      "171\n"
     ]
    }
   ],
   "source": [
    "idata1 = int(-5.4)\n",
    "idata2 = int(1.78e1)\n",
    "idata3 = int(171.56)\n",
    "\n",
    "print(idata1)\n",
    "print(idata2)\n",
    "print(idata3)"
   ]
  },
  {
   "cell_type": "markdown",
   "metadata": {},
   "source": [
    "### 070 정수형 자료를 실수형 자료로 변환하기(float)"
   ]
  },
  {
   "cell_type": "code",
   "execution_count": 64,
   "metadata": {},
   "outputs": [
    {
     "name": "stdout",
     "output_type": "stream",
     "text": [
      "10.0\n"
     ]
    }
   ],
   "source": [
    "fdata = float(10)\n",
    "print(fdata)"
   ]
  },
  {
   "cell_type": "markdown",
   "metadata": {},
   "source": [
    "### 071 정수 리스트에서 소수만 걸러내기(filter)"
   ]
  },
  {
   "cell_type": "code",
   "execution_count": 13,
   "metadata": {},
   "outputs": [],
   "source": [
    "def getPrime(x):\n",
    "    if x%2 == 0:\n",
    "        return\n",
    "#         pass\n",
    "    \n",
    "    for i in range(3, int(x/2),2):\n",
    "        if x%i ==0:\n",
    "            break\n",
    "    else:\n",
    "        return x"
   ]
  },
  {
   "cell_type": "code",
   "execution_count": 19,
   "metadata": {},
   "outputs": [
    {
     "name": "stdout",
     "output_type": "stream",
     "text": [
      "[11113, 11119]\n"
     ]
    }
   ],
   "source": [
    "listdata = [117,119,1113,11113,11119]\n",
    "ret = filter(getPrime,listdata)\n",
    "print(list(ret))\n"
   ]
  },
  {
   "cell_type": "markdown",
   "metadata": {},
   "source": [
    "### 072 최대값, 최소값 구하기(max, min)"
   ]
  },
  {
   "cell_type": "code",
   "execution_count": 22,
   "metadata": {},
   "outputs": [
    {
     "name": "stdout",
     "output_type": "stream",
     "text": [
      "9.96 0.93\n",
      "y A\n",
      "9 a12\n"
     ]
    }
   ],
   "source": [
    "listdata = [9.96, 1.27, 5.07, 6.45, 8.38, 9.29, 4.93, 7.73, 3.71, 0.93]\n",
    "maxval = max(listdata)\n",
    "minval = min(listdata)\n",
    "\n",
    "print(maxval, minval)\n",
    "\n",
    "txt = 'Alotofthingsocrrureachday'\n",
    "maxval = max(txt)\n",
    "minval = min(txt)\n",
    "print(maxval, minval)\n",
    "\n",
    "maxval = max(2+3, 2*3, 2**3, 3**2)\n",
    "minval = min('abz', 'a12')\n",
    "print(maxval, minval)"
   ]
  },
  {
   "cell_type": "markdown",
   "metadata": {},
   "source": [
    "### 073 1바이트에서 하위 4비트 추출하기"
   ]
  },
  {
   "cell_type": "code",
   "execution_count": 24,
   "metadata": {},
   "outputs": [
    {
     "name": "stdout",
     "output_type": "stream",
     "text": [
      "107\n",
      "11\n"
     ]
    }
   ],
   "source": [
    "a = 107\n",
    "b = a & 0x0f\n",
    "print(a)\n",
    "print(b)"
   ]
  },
  {
   "cell_type": "markdown",
   "metadata": {},
   "source": [
    "### 074 1바이트에서 상위 4비트 추출하기"
   ]
  },
  {
   "cell_type": "code",
   "execution_count": 25,
   "metadata": {},
   "outputs": [
    {
     "name": "stdout",
     "output_type": "stream",
     "text": [
      "107\n",
      "6\n"
     ]
    }
   ],
   "source": [
    "a = 107\n",
    "b = (a>>4) & 0x0f\n",
    "print(a)\n",
    "print(b)"
   ]
  },
  {
   "cell_type": "markdown",
   "metadata": {},
   "source": [
    "### 075 문자열에서 특정 위치의 문자 얻기"
   ]
  },
  {
   "cell_type": "code",
   "execution_count": 26,
   "metadata": {},
   "outputs": [
    {
     "name": "stdout",
     "output_type": "stream",
     "text": [
      "e\n",
      "리\n"
     ]
    }
   ],
   "source": [
    "txt1 = 'A tale that was not right'\n",
    "txt2 = '이 또한 지나가리라'\n",
    "print(txt1[5])\n",
    "print(txt2[-2])"
   ]
  },
  {
   "cell_type": "markdown",
   "metadata": {},
   "source": [
    "### 076 문자열에서 지정한 구간의 문자열 얻기"
   ]
  },
  {
   "cell_type": "code",
   "execution_count": 27,
   "metadata": {},
   "outputs": [
    {
     "name": "stdout",
     "output_type": "stream",
     "text": [
      "ale \n",
      "A tale\n",
      "나가리라\n"
     ]
    }
   ],
   "source": [
    "txt1 = 'A tale that was not right'\n",
    "txt2 = '이 또한 지나가리라'\n",
    "\n",
    "print(txt1[3:7])\n",
    "print(txt1[:6])\n",
    "print(txt2[-4:])"
   ]
  },
  {
   "cell_type": "markdown",
   "metadata": {},
   "source": [
    "### 077 문자열에서 홀수 번째 문자만 추출하기"
   ]
  },
  {
   "cell_type": "code",
   "execution_count": 28,
   "metadata": {},
   "outputs": [
    {
     "name": "stdout",
     "output_type": "stream",
     "text": [
      "abcdefghijk\n"
     ]
    }
   ],
   "source": [
    "txt = 'aAbBcCdDeEfFgGhHiIjJkK'\n",
    "ret = txt[::2]\n",
    "print(ret)"
   ]
  },
  {
   "cell_type": "markdown",
   "metadata": {},
   "source": [
    "### 078 문자열을 거꾸로 만들기"
   ]
  },
  {
   "cell_type": "code",
   "execution_count": 29,
   "metadata": {},
   "outputs": [
    {
     "name": "stdout",
     "output_type": "stream",
     "text": [
      "kjihgfedcba\n"
     ]
    }
   ],
   "source": [
    "txt = 'abcdefghijk'\n",
    "ret = txt[::-1]\n",
    "print(ret)"
   ]
  },
  {
   "cell_type": "markdown",
   "metadata": {},
   "source": [
    "### 079 두 개의 문자열 합치기(+)"
   ]
  },
  {
   "cell_type": "code",
   "execution_count": 30,
   "metadata": {},
   "outputs": [
    {
     "name": "stdout",
     "output_type": "stream",
     "text": [
      "저장할 파일이름을 입력하세요:123\n",
      "당신이 저장한 파일은 <123.jpg>입니다.\n"
     ]
    }
   ],
   "source": [
    "filename = input('저장할 파일이름을 입력하세요:')\n",
    "filename = filename +'.jpg'\n",
    "display_msg = '당신이 저장한 파일은 <'+filename+'>입니다.'\n",
    "print(display_msg)"
   ]
  },
  {
   "cell_type": "markdown",
   "metadata": {},
   "source": [
    "### 080 문자열을 반복해서 새로운 문자열로 만들기(*)"
   ]
  },
  {
   "cell_type": "code",
   "execution_count": 31,
   "metadata": {},
   "outputs": [
    {
     "name": "stdout",
     "output_type": "stream",
     "text": [
      "여러분,화이팅!화이팅!화이팅!~!\n"
     ]
    }
   ],
   "source": [
    "msg1 = '여러분'\n",
    "msg2 = '화이팅!'\n",
    "display_msg = msg1+','+msg2*3+'~!'\n",
    "print(display_msg)"
   ]
  },
  {
   "cell_type": "markdown",
   "metadata": {},
   "source": [
    "### 081 문자열에서 특정 문자가 있는지 확인하기(in)"
   ]
  },
  {
   "cell_type": "code",
   "execution_count": 35,
   "metadata": {},
   "outputs": [
    {
     "name": "stdout",
     "output_type": "stream",
     "text": [
      "임의의 문장을 입력하세요:gdgwgwg\n",
      "당신이 입력한 문장에는 a 가 없습니다.\n"
     ]
    }
   ],
   "source": [
    "msg = input('임의의 문장을 입력하세요:')\n",
    "if 'a' in msg:\n",
    "    print('당신이 입력한 문장에는 a 가 있습니다')\n",
    "else:\n",
    "    print('당신이 입력한 문장에는 a 가 없습니다.')\n"
   ]
  },
  {
   "cell_type": "markdown",
   "metadata": {},
   "source": [
    "### 082 문자열에서 특정 문자열이 있는지 확인하기 (in)"
   ]
  },
  {
   "cell_type": "code",
   "execution_count": 36,
   "metadata": {},
   "outputs": [
    {
     "name": "stdout",
     "output_type": "stream",
     "text": [
      "임의의 문장을 입력하세요:is the\n",
      "당신이 입력한 문장에는 is 가 있습니다\n"
     ]
    }
   ],
   "source": [
    "msg = input('임의의 문장을 입력하세요:')\n",
    "if 'is' in msg:\n",
    "    print('당신이 입력한 문장에는 is 가 있습니다')\n",
    "else:\n",
    "    print('당신이 입력한 문장에는 is가 없습니다.')\n"
   ]
  },
  {
   "cell_type": "markdown",
   "metadata": {},
   "source": [
    "### 083 문자열 길이 구하기(len)"
   ]
  },
  {
   "cell_type": "code",
   "execution_count": 39,
   "metadata": {},
   "outputs": [
    {
     "name": "stdout",
     "output_type": "stream",
     "text": [
      "임의의 문장을 입력하세요:정상교\n",
      "당신이 입력한 문장의 길이는 <9>입니다.\n"
     ]
    }
   ],
   "source": [
    "msg = input('임의의 문장을 입력하세요:')\n",
    "# msglen = len(msg)\n",
    "msglen = len(msg.encode())\n",
    "print('당신이 입력한 문장의 길이는 <%d>입니다.' %msglen)"
   ]
  },
  {
   "cell_type": "markdown",
   "metadata": {},
   "source": [
    "### 084 문자열이 알파벳인지 검사하기(isalpha)"
   ]
  },
  {
   "cell_type": "code",
   "execution_count": 40,
   "metadata": {},
   "outputs": [
    {
     "name": "stdout",
     "output_type": "stream",
     "text": [
      "True\n",
      "True\n",
      "False\n",
      "False\n"
     ]
    }
   ],
   "source": [
    "txt1='A'\n",
    "txt2 = '안녕'\n",
    "txt3 = 'Warcraft Three'\n",
    "txt4 = '3PO'\n",
    "ret1 = txt1.isalpha()\n",
    "ret2 = txt2.isalpha()\n",
    "ret3 = txt3.isalpha()\n",
    "ret4 = txt4.isalpha()\n",
    "print(ret1)\n",
    "print(ret2)\n",
    "print(ret3)\n",
    "print(ret4)"
   ]
  },
  {
   "cell_type": "markdown",
   "metadata": {},
   "source": [
    "### 085 문자열이 숫자인지 검사하기(isdigit)"
   ]
  },
  {
   "cell_type": "code",
   "execution_count": 41,
   "metadata": {},
   "outputs": [
    {
     "name": "stdout",
     "output_type": "stream",
     "text": [
      "False\n",
      "False\n",
      "True\n"
     ]
    }
   ],
   "source": [
    "txt1 = '010-1234-5678'\n",
    "txt2 = 'R2D2'\n",
    "txt3 = '1212'\n",
    "ret1 = txt1.isdigit()\n",
    "ret2 = txt2.isdigit()\n",
    "ret3 = txt3.isdigit()\n",
    "print(ret1)\n",
    "print(ret2)\n",
    "print(ret3)"
   ]
  }
 ],
 "metadata": {
  "kernelspec": {
   "display_name": "Python 3",
   "language": "python",
   "name": "python3"
  },
  "language_info": {
   "codemirror_mode": {
    "name": "ipython",
    "version": 3
   },
   "file_extension": ".py",
   "mimetype": "text/x-python",
   "name": "python",
   "nbconvert_exporter": "python",
   "pygments_lexer": "ipython3",
   "version": "3.5.3"
  }
 },
 "nbformat": 4,
 "nbformat_minor": 2
}
