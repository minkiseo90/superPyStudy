{
 "cells": [
  {
   "cell_type": "markdown",
   "metadata": {},
   "source": [
    "### 086 문자열이 알파벳인지 검사하기(isalnum)"
   ]
  },
  {
   "cell_type": "code",
   "execution_count": 1,
   "metadata": {},
   "outputs": [
    {
     "name": "stdout",
     "output_type": "stream",
     "text": [
      "False False True\n"
     ]
    }
   ],
   "source": [
    "txt1 = '안녕하세요?'\n",
    "txt2 = '1. Title-제목을 넣으세요'\n",
    "txt3 = '3피오R2D2'\n",
    "ret1 = txt1.isalnum()\n",
    "ret2 = txt2.isalnum()\n",
    "ret3 = txt3.isalnum()\n",
    "print(ret1, ret2, ret3)"
   ]
  },
  {
   "cell_type": "markdown",
   "metadata": {},
   "source": [
    "### 087 문자열에서 대소문자 변환하기(upper, lower)"
   ]
  },
  {
   "cell_type": "code",
   "execution_count": 2,
   "metadata": {},
   "outputs": [
    {
     "name": "stdout",
     "output_type": "stream",
     "text": [
      "A LOT OF THINGS OCCUR EACH DAY\n",
      "a lot of things occur each day\n"
     ]
    }
   ],
   "source": [
    "txt = 'A lot of Things occur each day'\n",
    "ret1 = txt.upper()\n",
    "ret2 = txt.lower()\n",
    "print(ret1)\n",
    "print(ret2)"
   ]
  },
  {
   "cell_type": "code",
   "execution_count": 4,
   "metadata": {},
   "outputs": [
    {
     "data": {
      "text/plain": [
       "str"
      ]
     },
     "execution_count": 4,
     "metadata": {},
     "output_type": "execute_result"
    }
   ],
   "source": [
    "type(txt.upper())"
   ]
  },
  {
   "cell_type": "markdown",
   "metadata": {},
   "source": [
    "### 088 문자열에서 좌우 공백 제거하기(lstrip, rstrip, strip)"
   ]
  },
  {
   "cell_type": "code",
   "execution_count": 7,
   "metadata": {},
   "outputs": [
    {
     "name": "stdout",
     "output_type": "stream",
     "text": [
      "< 양쪽에 공백이 있는 문자열 입니다. >\n",
      "<양쪽에 공백이 있는 문자열 입니다. >\n",
      "< 양쪽에 공백이 있는 문자열 입니다.>\n",
      "<양쪽에 공백이 있는 문자열 입니다.>\n"
     ]
    }
   ],
   "source": [
    "txt = ' 양쪽에 공백이 있는 문자열 입니다. '\n",
    "ret1 = txt.lstrip()\n",
    "ret2 = txt.rstrip()\n",
    "ret3 = txt.strip()\n",
    "\n",
    "print('<'+txt+'>')\n",
    "print('<'+ret1+'>')\n",
    "print('<'+ret2+'>')\n",
    "print('<'+ret3+'>')"
   ]
  },
  {
   "cell_type": "markdown",
   "metadata": {},
   "source": [
    "### 089 문자열을 수치형 자료로 변환하기(int, float)"
   ]
  },
  {
   "cell_type": "code",
   "execution_count": 11,
   "metadata": {},
   "outputs": [
    {
     "name": "stdout",
     "output_type": "stream",
     "text": [
      "숫자를 입력하세요ㄴㅇㄹ\n",
      "+++숫자를 입력하세요+++\n"
     ]
    }
   ],
   "source": [
    "numstr = input('숫자를 입력하세요')\n",
    "\n",
    "try:\n",
    "    num = int(numstr)\n",
    "    print('당신이 입력한 숫자는 정수<%d>입니다.'%num)\n",
    "except:\n",
    "    try:\n",
    "        num = float(numstr)\n",
    "        print('당신이 입력한 숫자는 실수<%f>입니다.'%num)\n",
    "    except:\n",
    "        print('+++숫자를 입력하세요+++')"
   ]
  },
  {
   "cell_type": "markdown",
   "metadata": {},
   "source": [
    "### 090 수치형자료를 문자열로 변환하기(str)"
   ]
  },
  {
   "cell_type": "code",
   "execution_count": 13,
   "metadata": {},
   "outputs": [
    {
     "name": "stdout",
     "output_type": "stream",
     "text": [
      "num1을 문자열로 변환한 값은 12314입니다.\n",
      "num2을 문자열로 변환한 값은 123.213입니다.\n"
     ]
    }
   ],
   "source": [
    "num1 = 12314\n",
    "num2 = 123.213\n",
    "numstr1 = str(num1)\n",
    "numstr2 = str(num2)\n",
    "print('num1을 문자열로 변환한 값은 %s입니다.'%numstr1)\n",
    "print('num2을 문자열로 변환한 값은 %s입니다.'%numstr2)"
   ]
  },
  {
   "cell_type": "markdown",
   "metadata": {},
   "source": [
    "### 091 문자열에 있는 문자(열) 개수 구하기(count)"
   ]
  },
  {
   "cell_type": "code",
   "execution_count": 14,
   "metadata": {},
   "outputs": [
    {
     "name": "stdout",
     "output_type": "stream",
     "text": [
      "3 2 8\n"
     ]
    }
   ],
   "source": [
    "txt1 = 'A lot of things occur each day, every day'\n",
    "word_count1 = txt1.count('o')\n",
    "word_count2 = txt1.count('day')\n",
    "word_count3 = txt1.count(' ')\n",
    "print(word_count1, word_count2, word_count3)"
   ]
  },
  {
   "cell_type": "markdown",
   "metadata": {},
   "source": [
    "### 092 문자열에서 특정 문자(열) 위치 찾기(find)"
   ]
  },
  {
   "cell_type": "code",
   "execution_count": 15,
   "metadata": {},
   "outputs": [
    {
     "name": "stdout",
     "output_type": "stream",
     "text": [
      "22 27 38\n"
     ]
    }
   ],
   "source": [
    "txt = 'A lot of things occur each day, every day'\n",
    "offset1 = txt.find('e')\n",
    "offset2 = txt.find('day')\n",
    "offset3 = txt.find('day',30)\n",
    "print(offset1, offset2, offset3)"
   ]
  },
  {
   "cell_type": "markdown",
   "metadata": {},
   "source": [
    "- find() 메소드는 첫번째 인자가 최초로 나타나는 인덱스를 반환\n",
    "- find() 메소드의 두번째 인자는 두번째 인자 위치 이후에 첫번째 인자가 최초로 나타나는 인덱스를 반환\n",
    "- 찾을수 없으면 -1을 반환"
   ]
  },
  {
   "cell_type": "markdown",
   "metadata": {},
   "source": [
    "### 093 문자열을 특정 문자(열)로 분리하기(split)"
   ]
  },
  {
   "cell_type": "code",
   "execution_count": 20,
   "metadata": {},
   "outputs": [
    {
     "name": "stdout",
     "output_type": "stream",
     "text": [
      "['http:', '', 'www.naver.com', 'news', 'today=20160831']\n",
      "['name:홍길동', 'age:17', 'sex:남자', 'nation:조선']\n",
      "name => 홍길동\n",
      "age => 17\n",
      "sex => 남자\n",
      "nation => 조선\n"
     ]
    }
   ],
   "source": [
    "url = 'http://www.naver.com/news/today=20160831'\n",
    "log = 'name:홍길동 age:17 sex:남자 nation:조선'\n",
    "\n",
    "ret1 = url.split('/')\n",
    "print(ret1)\n",
    "\n",
    "ret2 = log.split() # splip 메소드에 인자가 없을 경우 공백을 구분자로 인식\n",
    "# ret2 = log.split(' ') \n",
    "\n",
    "print(ret2)\n",
    "for data in ret2:\n",
    "    d1, d2 = data.split(':')\n",
    "    print('%s => %s'%(d1,d2))"
   ]
  },
  {
   "cell_type": "markdown",
   "metadata": {},
   "source": [
    "### 094 문자열을 특정 문자(열)로 결합하기(join)"
   ]
  },
  {
   "cell_type": "code",
   "execution_count": 22,
   "metadata": {},
   "outputs": [
    {
     "name": "stdout",
     "output_type": "stream",
     "text": [
      "2016/08/26 10:12:11-200-OK-이 또한 지나가리다\n"
     ]
    }
   ],
   "source": [
    "loglist = ['2016/08/26 10:12:11','200','OK','이 또한 지나가리다']\n",
    "bond = '-'\n",
    "log = bond.join(loglist)\n",
    "print(log)"
   ]
  },
  {
   "cell_type": "markdown",
   "metadata": {},
   "source": [
    "### 095 문자열에서 특정 문자(열)을 다른 문자(열)로 바꾸기(replace)"
   ]
  },
  {
   "cell_type": "code",
   "execution_count": 25,
   "metadata": {},
   "outputs": [
    {
     "name": "stdout",
     "output_type": "stream",
     "text": [
      "My password is 0234\n",
      "My password is python234\n",
      "항상 많은 일들이 일어납니다.\n",
      "항상 많은 사건들이 사건어납니다.\n"
     ]
    }
   ],
   "source": [
    "txt = 'My password is 1234'\n",
    "ret1 = txt.replace('1','0')\n",
    "ret2 = txt.replace('1','python')\n",
    "print(ret1)\n",
    "print(ret2)\n",
    "\n",
    "txt = '매일 많은 일들이 일어납니다.'\n",
    "ret3 = txt.replace('매일','항상')\n",
    "ret4 = ret3.replace('일','사건')\n",
    "print(ret3)\n",
    "print(ret4)"
   ]
  },
  {
   "cell_type": "markdown",
   "metadata": {},
   "source": [
    "### 096 문자열을 바이트 객체로 바꾸기(encode)"
   ]
  },
  {
   "cell_type": "code",
   "execution_count": 28,
   "metadata": {},
   "outputs": [
    {
     "name": "stdout",
     "output_type": "stream",
     "text": [
      "I love python\n",
      "b'I love python'\n",
      "True False\n",
      "73\n"
     ]
    }
   ],
   "source": [
    "u_txt = 'I love python'\n",
    "b_txt = u_txt.encode()\n",
    "print(u_txt)\n",
    "print(b_txt)\n",
    "\n",
    "ret1 = 'I'==u_txt[0]\n",
    "ret2 = 'I'==b_txt[0]\n",
    "print(ret1, ret2)\n",
    "print(b_txt[0])"
   ]
  },
  {
   "cell_type": "markdown",
   "metadata": {},
   "source": [
    "- 바이트 객체는 2진 스트림 데이터로써 컴퓨터의 메모리에 기록되는 값\n",
    "- 파이썬 3에서 모든 무나열은 유니코드 문자열로 취급됨 => ex) 대문자 'I'는 73으로 인식됨\n",
    "- encode() 메소드는 유니코드로 되어 있는 문자열을 지정된 인코딩 방슥으로 인코딩하여 바이트 객체로 변환함\n",
    "- encode() 메소드의 인자가 없을경우 디폴트로 'UTF-8'로 인코딩함"
   ]
  },
  {
   "cell_type": "markdown",
   "metadata": {},
   "source": [
    "### 097 바이트 객체를 문자열로 바꾸기(decode)"
   ]
  },
  {
   "cell_type": "code",
   "execution_count": 31,
   "metadata": {},
   "outputs": [
    {
     "name": "stdout",
     "output_type": "stream",
     "text": [
      "A lot of things occur each day\n",
      "b'A lot of things occur each day'\n",
      "65\n"
     ]
    }
   ],
   "source": [
    "b_txt = b'A lot of things occur each day'\n",
    "u_txt = b_txt.decode()\n",
    "print(u_txt)\n",
    "print(b_txt)\n",
    "print(b_txt[0])"
   ]
  },
  {
   "cell_type": "markdown",
   "metadata": {},
   "source": [
    "- decode() 메소드는 바이트 객체를 유니코드 문자열로 변환해줌\n",
    "- 파일을 바이너리 모드로 읽거나 네트워크를 통해 읽어들인 데이터는 대부분 2진 데이터 스트림인 바이트 객체임."
   ]
  },
  {
   "cell_type": "markdown",
   "metadata": {},
   "source": [
    "### 098 문자열을 정렬하기(sorted, join)"
   ]
  },
  {
   "cell_type": "code",
   "execution_count": 36,
   "metadata": {},
   "outputs": [
    {
     "name": "stdout",
     "output_type": "stream",
     "text": [
      "정렬할 문자열을 입력하세요:나가하카차사자아\n",
      "['가', '나', '사', '아', '자', '차', '카', '하']\n",
      "['하', '카', '차', '자', '아', '사', '나', '가']\n",
      "오름차순으로 정렬된 문자열은 <가나사아자차카하>입니다.\n",
      "내림차순으로 정렬된 문자열은 <하카차자아사나가>입니다.\n"
     ]
    }
   ],
   "source": [
    "strdata = input('정렬할 문자열을 입력하세요:')\n",
    "ret1 = sorted(strdata) # 오름차순\n",
    "ret2 = sorted(strdata,reverse=True) # 내림차순\n",
    "print(ret1)\n",
    "print(ret2)\n",
    "\n",
    "ret1 = \"\".join(ret1)\n",
    "ret2 = \"\".join(ret2)\n",
    "print('오름차순으로 정렬된 문자열은 <'+ret1+'>입니다.')\n",
    "print('내림차순으로 정렬된 문자열은 <'+ret2+'>입니다.')"
   ]
  },
  {
   "cell_type": "markdown",
   "metadata": {},
   "source": [
    "### 099 순차적인 정수 리스트 만들기(range)"
   ]
  },
  {
   "cell_type": "code",
   "execution_count": 37,
   "metadata": {},
   "outputs": [
    {
     "name": "stdout",
     "output_type": "stream",
     "text": [
      "range(0, 10)\n",
      "[0, 1, 2, 3, 4, 5, 6, 7, 8, 9]\n",
      "[10, 11, 12, 13, 14, 15, 16, 17, 18, 19]\n"
     ]
    }
   ],
   "source": [
    "range1 = range(10)\n",
    "range2 = range(10,20)\n",
    "print(range1)\n",
    "print(list(range1))\n",
    "print(list(range2))"
   ]
  },
  {
   "cell_type": "markdown",
   "metadata": {},
   "source": [
    "### 100 리스트에서 특정 위치의 요소 얻기"
   ]
  },
  {
   "cell_type": "code",
   "execution_count": 39,
   "metadata": {},
   "outputs": [
    {
     "name": "stdout",
     "output_type": "stream",
     "text": [
      "2\n",
      "a\n",
      "5\n"
     ]
    }
   ],
   "source": [
    "listdata = [1, 2, 'a', 'b', 'c', [4, 5, 6]]\n",
    "var1 = listdata[1]\n",
    "var2 = listdata[2]\n",
    "var3 = listdata[5][1]\n",
    "\n",
    "print(var1)\n",
    "print(var2)\n",
    "print(var3)"
   ]
  },
  {
   "cell_type": "markdown",
   "metadata": {},
   "source": [
    "### 101 리스트에서 특정 요소의 위치 구하기(index)"
   ]
  },
  {
   "cell_type": "code",
   "execution_count": 44,
   "metadata": {},
   "outputs": [
    {
     "name": "stdout",
     "output_type": "stream",
     "text": [
      "3\n",
      "지구\n",
      "지구는 태양계에서 3 번째에 위치하고 있습니다\n",
      "지구는 태양계에서 10 번째에 위치하고 있습니다.\n"
     ]
    }
   ],
   "source": [
    "solarsys = ['태양', '수성', '금성', '지구', '화성', '목성', '토성', '천왕성', '해왕성', '명왕성', '지구']\n",
    "plant = '지구'\n",
    "pos = solarsys.index(plant)\n",
    "print(pos)\n",
    "print(solarsys[pos])\n",
    "print('%s는 태양계에서 %d 번째에 위치하고 있습니다' %(plant,pos))\n",
    "pos = solarsys.index(plant,5) #index()메소드의 두번째 인자는 해당 위치 뒤에 나오는 첫번째 인자의 위치를 반환\n",
    "print('%s는 태양계에서 %d 번째에 위치하고 있습니다.' %(plant, pos))"
   ]
  },
  {
   "cell_type": "markdown",
   "metadata": {},
   "source": [
    "### 102 리스트에서 특정 위치의 요소를 변경하기"
   ]
  },
  {
   "cell_type": "code",
   "execution_count": 45,
   "metadata": {},
   "outputs": [
    {
     "name": "stdout",
     "output_type": "stream",
     "text": [
      "['태양', '수성', '금성', '지구', 'Mars', '목성', '토성', '천왕성', '해왕성', '명왕성']\n"
     ]
    }
   ],
   "source": [
    "solarsys = ['태양', '수성', '금성', '지구', '화성', '목성', '토성', '천왕성', '해왕성', '명왕성']\n",
    "plant = '화성'\n",
    "pos = solarsys.index(plant)\n",
    "solarsys[pos] = 'Mars'\n",
    "print(solarsys)"
   ]
  },
  {
   "cell_type": "markdown",
   "metadata": {},
   "source": [
    "### 103 리스트에서 특정 구간에 있는 요소 추출하기"
   ]
  },
  {
   "cell_type": "code",
   "execution_count": 48,
   "metadata": {},
   "outputs": [
    {
     "name": "stdout",
     "output_type": "stream",
     "text": [
      "태양계의 암석형 행성:['수성', '금성', '지구']\n",
      "태양계의 가스형 행성:['화성', '목성', '토성', '천왕성', '해왕성', '명왕성']\n",
      "화성\n"
     ]
    }
   ],
   "source": [
    "solarsys = ['태양', '수성', '금성', '지구', '화성', '목성', '토성', '천왕성', '해왕성', '명왕성']\n",
    "\n",
    "rock_plants = solarsys[1:4] # 4번재 요소 포함 X\n",
    "gas_plants = solarsys[4:] # 4번재 요소 포함\n",
    "print('태양계의 암석형 행성:',end=\"\");print(rock_plants)\n",
    "print('태양계의 가스형 행성:',end=\"\");print(gas_plants)\n",
    "print(solarsys[4])"
   ]
  },
  {
   "cell_type": "markdown",
   "metadata": {},
   "source": [
    "### 104 리스트에서 짝수 번재 요소만 추출하기"
   ]
  },
  {
   "cell_type": "code",
   "execution_count": 58,
   "metadata": {},
   "outputs": [
    {
     "name": "stdout",
     "output_type": "stream",
     "text": [
      "[1, 2, 3, 4, 5, 6, 7, 8, 9, 10, 11, 12, 13, 14, 15, 16, 17, 18, 19, 20]\n",
      "[2, 4, 6, 8, 10, 12, 14, 16, 18, 20]\n",
      "[1, 3, 5, 7, 9, 11, 13, 15, 17, 19]\n"
     ]
    }
   ],
   "source": [
    "listdata = list(range(1,21))\n",
    "print(listdata)\n",
    "evenlist = listdata[1::2]\n",
    "print(evenlist)\n",
    "oddlist = listdata[::2]\n",
    "print(oddlist)"
   ]
  },
  {
   "cell_type": "markdown",
   "metadata": {},
   "source": [
    "### 105 리스트 요소 순서를 역순으로 만들기 1) (reverse)"
   ]
  },
  {
   "cell_type": "code",
   "execution_count": 61,
   "metadata": {},
   "outputs": [
    {
     "name": "stdout",
     "output_type": "stream",
     "text": [
      "[0, 1, 2, 3, 4]\n",
      "[4, 3, 2, 1, 0]\n"
     ]
    }
   ],
   "source": [
    "listdata = list(range(5))\n",
    "print(listdata)\n",
    "listdata.reverse()\n",
    "print(listdata)"
   ]
  },
  {
   "cell_type": "markdown",
   "metadata": {},
   "source": [
    "### 106 리스트 요소 순서를 역순으로 만들기 2) (reversed)"
   ]
  },
  {
   "cell_type": "code",
   "execution_count": 67,
   "metadata": {},
   "outputs": [
    {
     "name": "stdout",
     "output_type": "stream",
     "text": [
      "원본 리스트[0, 1, 2, 3, 4]\n",
      "역순 리스트[4, 3, 2, 1, 0]\n",
      "슬라이싱이용[4, 3, 2, 1, 0]\n"
     ]
    }
   ],
   "source": [
    "listdata = list(range(5))\n",
    "ret1 = reversed(listdata)\n",
    "print('원본 리스트',end=\"\");print(listdata)\n",
    "print('역순 리스트',end=\"\");print(list(ret1))\n",
    "\n",
    "ret2 = listdata[::-1]\n",
    "print('슬라이싱이용',end=\"\");print(ret2)"
   ]
  },
  {
   "cell_type": "markdown",
   "metadata": {},
   "source": [
    "### 107 리스트 합치기 (+)"
   ]
  },
  {
   "cell_type": "code",
   "execution_count": 68,
   "metadata": {},
   "outputs": [
    {
     "name": "stdout",
     "output_type": "stream",
     "text": [
      "['a', 'b', 'c', 'd', 'e', 'f', 'g', 'h', 'i', 'j']\n",
      "['f', 'g', 'h', 'i', 'j', 'a', 'b', 'c', 'd', 'e']\n"
     ]
    }
   ],
   "source": [
    "listdata1 = ['a','b','c','d','e']\n",
    "listdata2 = ['f','g','h','i','j']\n",
    "listdata3 = listdata1 + listdata2\n",
    "listdata4 = listdata2 + listdata1\n",
    "print(listdata3)\n",
    "print(listdata4)"
   ]
  },
  {
   "cell_type": "markdown",
   "metadata": {},
   "source": [
    "### 108 리스트 반복하기 (*)"
   ]
  },
  {
   "cell_type": "code",
   "execution_count": 69,
   "metadata": {},
   "outputs": [
    {
     "name": "stdout",
     "output_type": "stream",
     "text": [
      "[0, 1, 2, 0, 1, 2, 0, 1, 2]\n"
     ]
    }
   ],
   "source": [
    "listdata = list(range(3))\n",
    "ret = listdata * 3\n",
    "print(ret)"
   ]
  }
 ],
 "metadata": {
  "kernelspec": {
   "display_name": "Python 3",
   "language": "python",
   "name": "python3"
  },
  "language_info": {
   "codemirror_mode": {
    "name": "ipython",
    "version": 3
   },
   "file_extension": ".py",
   "mimetype": "text/x-python",
   "name": "python",
   "nbconvert_exporter": "python",
   "pygments_lexer": "ipython3",
   "version": "3.5.3"
  }
 },
 "nbformat": 4,
 "nbformat_minor": 2
}
