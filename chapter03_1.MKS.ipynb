{
 "cells": [
  {
   "cell_type": "markdown",
   "metadata": {},
   "source": [
    "### 60.사용자 입력받기(input)"
   ]
  },
  {
   "cell_type": "code",
   "execution_count": 2,
   "metadata": {},
   "outputs": [
    {
     "name": "stdout",
     "output_type": "stream",
     "text": [
      "<값>을 입력하세요:야호\n",
      "당신이 입력한 값은 <야호> 입니다\n"
     ]
    }
   ],
   "source": [
    "k = input(\"<값>을 입력하세요:\")\n",
    "print(\"당신이 입력한 값은 <\"+k+\"> 입니다\")"
   ]
  },
  {
   "cell_type": "markdown",
   "metadata": {},
   "source": [
    "### 61.자료형 확인하기"
   ]
  },
  {
   "cell_type": "code",
   "execution_count": 6,
   "metadata": {},
   "outputs": [
    {
     "name": "stdout",
     "output_type": "stream",
     "text": [
      "<class 'dict'>\n",
      "<class 'list'>\n",
      "<class 'function'>\n"
     ]
    }
   ],
   "source": [
    "numdata = 57\n",
    "strdata = \"파이선\"\n",
    "listdata = [1,2,3]\n",
    "dicdata = {\"a\":1, \"b\":2}\n",
    "\n",
    "def func():\n",
    "    print(\"안녕하세요\")\n",
    "\n",
    "print(type(dicdata))\n",
    "print(type(listdata)))"
   ]
  },
  {
   "cell_type": "markdown",
   "metadata": {},
   "source": [
    "### 62. 나눗셈에서 나머지만 구하기(%)"
   ]
  },
  {
   "cell_type": "code",
   "execution_count": 34,
   "metadata": {},
   "outputs": [
    {
     "ename": "SyntaxError",
     "evalue": "invalid syntax (<ipython-input-34-903a37574f8a>, line 6)",
     "output_type": "error",
     "traceback": [
      "\u001b[1;36m  File \u001b[1;32m\"<ipython-input-34-903a37574f8a>\"\u001b[1;36m, line \u001b[1;32m6\u001b[0m\n\u001b[1;33m    print('%d를 %d로 나누면 %d가 나머지로 남습니다.'%(a,b ret))\u001b[0m\n\u001b[1;37m                                              ^\u001b[0m\n\u001b[1;31mSyntaxError\u001b[0m\u001b[1;31m:\u001b[0m invalid syntax\n"
     ]
    }
   ],
   "source": [
    "a = 11113\n",
    "b = 23\n",
    "\n",
    "ret = 11113 % 23\n",
    "\n",
    "print('%d를 %d로 나누면 %d가 나머지로 남습니다.'%(a,b ret))\n",
    "print('%d를 %d로 나누면 %d가 나머지로 남슴니다.'%(a,b,ret))"
   ]
  },
  {
   "cell_type": "markdown",
   "metadata": {},
   "source": [
    "### 63. 몫과 나머지 구하기"
   ]
  },
  {
   "cell_type": "code",
   "execution_count": 36,
   "metadata": {},
   "outputs": [
    {
     "name": "stdout",
     "output_type": "stream",
     "text": [
      "11113/23는 몫이 483, 나머지가 4입니다.\n",
      "2\n"
     ]
    }
   ],
   "source": [
    "\n",
    "a = 11113\n",
    "b = 23\n",
    "ret1, ret2 = divmod(a,b)\n",
    "print('%d/%d는 몫이 %d, 나머지가 %d입니다.'%(a,b,ret1,ret2))\n",
    "print(12 % 5)"
   ]
  },
  {
   "cell_type": "markdown",
   "metadata": {},
   "source": [
    "### 64. 10진수를 16진수로 변환하기"
   ]
  },
  {
   "cell_type": "code",
   "execution_count": 37,
   "metadata": {},
   "outputs": [
    {
     "name": "stdout",
     "output_type": "stream",
     "text": [
      "0x610x62\n"
     ]
    }
   ],
   "source": [
    "h1 = hex(97)\n",
    "h2 = hex(98)\n",
    "\n",
    "ret1 = h1 + h2\n",
    "print(ret1)"
   ]
  },
  {
   "cell_type": "code",
   "execution_count": 38,
   "metadata": {},
   "outputs": [
    {
     "name": "stdout",
     "output_type": "stream",
     "text": [
      "0xc3\n"
     ]
    }
   ],
   "source": [
    "a = int(h1, 16)\n",
    "b = int(h2, 16)\n",
    "\n",
    "ret2 = a+b\n",
    "print(hex(ret2))"
   ]
  },
  {
   "cell_type": "code",
   "execution_count": 40,
   "metadata": {},
   "outputs": [
    {
     "name": "stdout",
     "output_type": "stream",
     "text": [
      "9F\n"
     ]
    }
   ],
   "source": [
    "n = 159\n",
    "print(\"%X\"%n)"
   ]
  },
  {
   "cell_type": "markdown",
   "metadata": {},
   "source": [
    "### 65. 10진수를 2진수로 변환하기"
   ]
  },
  {
   "cell_type": "code",
   "execution_count": 41,
   "metadata": {},
   "outputs": [
    {
     "name": "stdout",
     "output_type": "stream",
     "text": [
      "0x610x62\n"
     ]
    }
   ],
   "source": [
    "b1 = bin(97)\n",
    "b2 = bin(98)\n",
    "ret = b1 + b2\n",
    "print(ret1)"
   ]
  },
  {
   "cell_type": "code",
   "execution_count": 42,
   "metadata": {},
   "outputs": [
    {
     "name": "stdout",
     "output_type": "stream",
     "text": [
      "0b11000011\n"
     ]
    }
   ],
   "source": [
    "a = int(b1, 2)\n",
    "b = int(b2, 2)\n",
    "ret = a + b\n",
    "print(bin(ret2))"
   ]
  },
  {
   "cell_type": "markdown",
   "metadata": {},
   "source": [
    "### 66. 2진수, 16진수를 10진수로 변환하기"
   ]
  },
  {
   "cell_type": "code",
   "execution_count": 45,
   "metadata": {},
   "outputs": [],
   "source": [
    "bnum = 0b11110000; bstr = \"0b11110000\"\n",
    "onum = 0o360; ostr = \"0o360\"\n",
    "hnum = 0xf0; hstr = \"0xf0\"\n",
    "b1 = int(bnum); b2 = int(bstr,2)\n",
    "o1 = int(onum); o2 = int(ostr,8)\n",
    "h1 = int(hnum); h2 = int(hstr,16)"
   ]
  },
  {
   "cell_type": "code",
   "execution_count": 46,
   "metadata": {},
   "outputs": [
    {
     "name": "stdout",
     "output_type": "stream",
     "text": [
      "240\n",
      "240\n",
      "240\n",
      "240\n",
      "240\n",
      "240\n"
     ]
    }
   ],
   "source": [
    "print(b1);print(b2)\n",
    "print(o1);print(o2)\n",
    "print(h1);print(h2)"
   ]
  },
  {
   "cell_type": "markdown",
   "metadata": {},
   "source": [
    "### 67. 절대값 구하기"
   ]
  },
  {
   "cell_type": "code",
   "execution_count": 47,
   "metadata": {},
   "outputs": [
    {
     "name": "stdout",
     "output_type": "stream",
     "text": [
      "5.0\n"
     ]
    }
   ],
   "source": [
    "abs1 = abs(-3)\n",
    "abs3 = abs(3+4j) #복소수는 크기를 리턴\n",
    "print(abs3)"
   ]
  },
  {
   "cell_type": "markdown",
   "metadata": {},
   "source": [
    "### 68. 반올림수 구하기 "
   ]
  },
  {
   "cell_type": "code",
   "execution_count": 48,
   "metadata": {},
   "outputs": [
    {
     "name": "stdout",
     "output_type": "stream",
     "text": [
      "1120\n",
      "16.55\n"
     ]
    }
   ],
   "source": [
    "ret1 = round(1118)\n",
    "ret3 = round(1118, -1)\n",
    "ret4 = round(16.554, 2)\n",
    "\n",
    "print(ret3)\n",
    "print(ret4)"
   ]
  },
  {
   "cell_type": "markdown",
   "metadata": {},
   "source": [
    "### 69. 실수형 자료를 정수형 자료로 변환하기"
   ]
  },
  {
   "cell_type": "code",
   "execution_count": 51,
   "metadata": {
    "collapsed": true
   },
   "outputs": [],
   "source": [
    "idata1 = int(-5.4)\n",
    "idata2 = int(1.78e1)\n",
    "idata3 = int(171.56)"
   ]
  },
  {
   "cell_type": "code",
   "execution_count": 52,
   "metadata": {},
   "outputs": [
    {
     "name": "stdout",
     "output_type": "stream",
     "text": [
      "-5\n",
      "17\n",
      "171\n"
     ]
    }
   ],
   "source": [
    "print(idata1)\n",
    "print(idata2)\n",
    "print(idata3)"
   ]
  },
  {
   "cell_type": "markdown",
   "metadata": {},
   "source": [
    "### 70. 정수형 자료를 실수형 자료로 변환하기"
   ]
  },
  {
   "cell_type": "code",
   "execution_count": 53,
   "metadata": {},
   "outputs": [
    {
     "name": "stdout",
     "output_type": "stream",
     "text": [
      "10.0\n"
     ]
    }
   ],
   "source": [
    "fdata = float(10)\n",
    "print(fdata)"
   ]
  },
  {
   "cell_type": "markdown",
   "metadata": {},
   "source": [
    "### 71. 정수 리스트에서 소수만 걸러내기"
   ]
  },
  {
   "cell_type": "code",
   "execution_count": 55,
   "metadata": {},
   "outputs": [
    {
     "name": "stdout",
     "output_type": "stream",
     "text": [
      "[119, 11113, 11119]\n"
     ]
    }
   ],
   "source": [
    "def getPrime(x):\n",
    "    if x%2 == 0:\n",
    "        return\n",
    "    \n",
    "    for i in range(3,int(x/2), 2):\n",
    "        if x%i == 0:\n",
    "            break\n",
    "        else:\n",
    "            return x\n",
    "\n",
    "listdata = [117, 119, 1113, 11113, 11119]\n",
    "ret = filter(getPrime, listdata)\n",
    "print(list(ret)) \n",
    "\n",
    "################71번 다시보기"
   ]
  },
  {
   "cell_type": "markdown",
   "metadata": {},
   "source": [
    "###  72. 최대값 최소값 구하기"
   ]
  },
  {
   "cell_type": "code",
   "execution_count": 59,
   "metadata": {},
   "outputs": [
    {
     "name": "stdout",
     "output_type": "stream",
     "text": [
      "9.96\n"
     ]
    }
   ],
   "source": [
    "listdata = [9.96, 1.27, 5.07, 6.45, 8.38, 9.29, 4.93, 7.73, 3.71, 0.93]\n",
    "maxval = max(listdata)\n",
    "print(maxval)"
   ]
  },
  {
   "cell_type": "code",
   "execution_count": 61,
   "metadata": {},
   "outputs": [
    {
     "name": "stdout",
     "output_type": "stream",
     "text": [
      "v\n",
      "a\n"
     ]
    }
   ],
   "source": [
    "txt = \"adklqjlkvnadlknqeklnfdas\"\n",
    "print(max(txt))\n",
    "print(min(txt)) ##알파벳 순서"
   ]
  },
  {
   "cell_type": "markdown",
   "metadata": {},
   "source": [
    "### 73. 1바이트에서 하위 4비트 추출하기"
   ]
  },
  {
   "cell_type": "code",
   "execution_count": 62,
   "metadata": {},
   "outputs": [
    {
     "name": "stdout",
     "output_type": "stream",
     "text": [
      "11\n"
     ]
    }
   ],
   "source": [
    "a = 107\n",
    "b = a & 0x0f\n",
    "print(b)"
   ]
  },
  {
   "cell_type": "code",
   "execution_count": null,
   "metadata": {
    "collapsed": true
   },
   "outputs": [],
   "source": []
  }
 ],
 "metadata": {
  "kernelspec": {
   "display_name": "Python 3",
   "language": "python",
   "name": "python3"
  },
  "language_info": {
   "codemirror_mode": {
    "name": "ipython",
    "version": 3
   },
   "file_extension": ".py",
   "mimetype": "text/x-python",
   "name": "python",
   "nbconvert_exporter": "python",
   "pygments_lexer": "ipython3",
   "version": "3.6.3"
  }
 },
 "nbformat": 4,
 "nbformat_minor": 2
}
