{
 "cells": [
  {
   "cell_type": "markdown",
   "metadata": {},
   "source": [
    "### 036 리스트 이해하기([])"
   ]
  },
  {
   "cell_type": "code",
   "execution_count": null,
   "metadata": {
    "collapsed": true
   },
   "outputs": [],
   "source": [
    "list1 = [1,2,3,4,5]\n",
    "list2 = ['a','b','c']\n",
    "list3 = [1,'a','abc',[1,2,3,4,5],['a','b','b']]\n",
    "# print(list1)\n",
    "list1[0] = 6\n",
    "# print(list1)\n",
    "def myfunc():\n",
    "    print('안녕하세요')\n",
    "list4 = [1,2,myfunc]\n",
    "# print(list4)\n",
    "list4[2]()\n",
    "# print(list4[2]())"
   ]
  },
  {
   "cell_type": "markdown",
   "metadata": {},
   "source": [
    "-"
   ]
  },
  {
   "cell_type": "markdown",
   "metadata": {},
   "source": [
    "- 리스트의 요소로는 임의의 객체가 가능  \n",
    "임의의 객체란 - 숫자 / 문자 / 문자열 / 리스트 / 튜플 / 사전 등 파이썬 자료형  \n",
    "함수 / 클래스 등\n",
    "- 함수를 list에 포함 가능\n",
    "- 실행은 list[ 위치 ]\\( 인수 )"
   ]
  },
  {
   "cell_type": "markdown",
   "metadata": {},
   "source": [
    "### 037 튜플 이해하기 (())"
   ]
  },
  {
   "cell_type": "code",
   "execution_count": 12,
   "metadata": {},
   "outputs": [
    {
     "name": "stdout",
     "output_type": "stream",
     "text": [
      "(1, 2, 3, 4, 5)\n",
      "안녕하세요\n"
     ]
    }
   ],
   "source": [
    "tuple1 = (1,2,3,4,5)\n",
    "tuple2 = ('a','b','c')\n",
    "tuple3 = (1,'a','abc',[1,2,3,4,5],['a','b','c'])\n",
    "# tuple1[0] = 6 # tuple은 값 변경 못함\n",
    "print(tuple1)\n",
    "\n",
    "def myfunc():\n",
    "    print('안녕하세요')\n",
    "tuple4 = (1,2,myfunc)\n",
    "tuple4[2]()"
   ]
  },
  {
   "cell_type": "markdown",
   "metadata": {},
   "source": [
    "- 리스트와 마찬가지로 튜플 열시 임의의 객체를 요소로 가질수 있는 시퀸스 자료형\n",
    "- 그러나 튜플의 값은 변경 불가"
   ]
  },
  {
   "cell_type": "markdown",
   "metadata": {},
   "source": [
    "### 038 딕셔너리 이해하기 [{}]"
   ]
  },
  {
   "cell_type": "code",
   "execution_count": 18,
   "metadata": {},
   "outputs": [
    {
     "name": "stdout",
     "output_type": "stream",
     "text": [
      "1\n",
      "{'d': 4, 'b': 2, 'c': 3, 'a': 1}\n",
      "{'d': 4, 'b': 7, 'c': 3, 'a': 1}\n",
      "4\n"
     ]
    }
   ],
   "source": [
    "dict1 = {'a':1,'b':2,'c':3}\n",
    "print(dict1['a'])\n",
    "dict1['d']= 4\n",
    "print(dict1)\n",
    "dict1['b']=7\n",
    "print(dict1)\n",
    "print(len(dict1))"
   ]
  },
  {
   "cell_type": "markdown",
   "metadata": {},
   "source": [
    "- 딕셔너리는 키와 값을 하나의 요소로 하는 순서가 없는 집합\n",
    "- 딕셔너리는 시퀸스 자료형도 아니고 따라서 인덱스로 접근 불가\n",
    "- 사전의 키와 값은 임의의 객체 가능"
   ]
  },
  {
   "cell_type": "markdown",
   "metadata": {},
   "source": [
    "### 039 함수 이해하기 def"
   ]
  },
  {
   "cell_type": "code",
   "execution_count": 20,
   "metadata": {},
   "outputs": [
    {
     "name": "stdout",
     "output_type": "stream",
     "text": [
      "25\n",
      "대한민국~만세!!\n"
     ]
    }
   ],
   "source": [
    "def add_number(n1, n2):\n",
    "    ret = n1 + n2\n",
    "    return ret\n",
    "def add_txt(t1,t2):\n",
    "    print(t1+t2)\n",
    "\n",
    "ans = add_number(10,15)\n",
    "print(ans)\n",
    "text1 = '대한민국~'\n",
    "text2 = '만세!!'\n",
    "add_txt(text1, text2)"
   ]
  },
  {
   "cell_type": "markdown",
   "metadata": {},
   "source": [
    "- 함수정의 하는 방법  \n",
    "def 함수명 (인자1, 인자2, ...)  \n",
    "         코드들  \n",
    "    return 결과값"
   ]
  },
  {
   "cell_type": "markdown",
   "metadata": {},
   "source": [
    "### 040 함수 인자 이해하기"
   ]
  },
  {
   "cell_type": "code",
   "execution_count": 26,
   "metadata": {},
   "outputs": [
    {
     "name": "stdout",
     "output_type": "stream",
     "text": [
      "베스트:파이썬\n",
      "1등:대한민국\n",
      "()\n",
      "(3, 5, 1, 5)\n",
      "{}\n",
      "{'depth': 50, 'color': 'blue'}\n"
     ]
    }
   ],
   "source": [
    "def add_txt(t1, t2 = '파이썬'):\n",
    "    print(t1+':'+t2)\n",
    "\n",
    "add_txt('베스트')\n",
    "add_txt(t2 = '대한민국', t1 = '1등')\n",
    "\n",
    "def func1(*args):\n",
    "    print(args)\n",
    "\n",
    "def func2(width, height, **kwargs):\n",
    "    print(kwargs)\n",
    "\n",
    "func1() # 빈 튜플출력\n",
    "func1(3,5,1,5)\n",
    "func2(10,20) # 빈 딕셔너리 출력\n",
    "func2(10,20, depth=50, color='blue')\n"
   ]
  },
  {
   "cell_type": "markdown",
   "metadata": {},
   "source": [
    "- 함수에 값을 전달하는 기본적인 방법 이외에 방법들  \n",
    "1) 기본 인자를 이용해 값을 전달하는 방법 : 기본 인자 사용  \n",
    "2) 인자 이름을 이용해 값을 전달하는 방법 : 키워드 인자 이용  \n",
    "3) 가변 인자 튜플을 이용해 값을 전달하는 방법 : 가변 인자 이용  \n",
    "4) 미정 키워드 인자 딕셔너리를 이용해 값을 전달하는 방법 : 미정 키워드 인자 이용"
   ]
  },
  {
   "cell_type": "markdown",
   "metadata": {},
   "source": [
    "- 기본값을 대인한 기본인자는 마지막에 위치해야함, 아니면 오류남"
   ]
  },
  {
   "cell_type": "code",
   "execution_count": 31,
   "metadata": {},
   "outputs": [
    {
     "ename": "SyntaxError",
     "evalue": "non-default argument follows default argument (<ipython-input-31-2014bb485458>, line 1)",
     "output_type": "error",
     "traceback": [
      "\u001b[1;36m  File \u001b[1;32m\"<ipython-input-31-2014bb485458>\"\u001b[1;36m, line \u001b[1;32m1\u001b[0m\n\u001b[1;33m    def add_txt(t1='파이썬',t2):\u001b[0m\n\u001b[1;37m               ^\u001b[0m\n\u001b[1;31mSyntaxError\u001b[0m\u001b[1;31m:\u001b[0m non-default argument follows default argument\n"
     ]
    }
   ],
   "source": [
    "def add_txt(t1='파이썬',t2):\n",
    "    return t1"
   ]
  },
  {
   "cell_type": "code",
   "execution_count": 32,
   "metadata": {
    "collapsed": true
   },
   "outputs": [],
   "source": [
    "def add_txt(t2, t1 = '파이썬'):\n",
    "    return t2"
   ]
  },
  {
   "cell_type": "code",
   "execution_count": 40,
   "metadata": {},
   "outputs": [
    {
     "name": "stdout",
     "output_type": "stream",
     "text": [
      "{'b': 3, 'c': 13, 'a': 1}\n"
     ]
    }
   ],
   "source": [
    "def add_tuple(**kwargs):\n",
    "    print(kwargs)\n",
    "add_tuple(a = 1, b= 3, c = 13)"
   ]
  },
  {
   "cell_type": "markdown",
   "metadata": {},
   "source": [
    "### 041 지역변수와 전역변수 이해하기 (global)"
   ]
  },
  {
   "cell_type": "code",
   "execution_count": 44,
   "metadata": {},
   "outputs": [
    {
     "name": "stdout",
     "output_type": "stream",
     "text": [
      "지역변수\n",
      "전역변수\n",
      "10\n",
      "10\n",
      "50\n"
     ]
    }
   ],
   "source": [
    "param = 10\n",
    "strdata = '전역변수'\n",
    "\n",
    "def func1():\n",
    "    strdata = '지역변수'\n",
    "    print(strdata)\n",
    "\n",
    "def func2(param):\n",
    "    param = 1\n",
    "\n",
    "def func3():\n",
    "    global param\n",
    "    param = 50\n",
    "\n",
    "func1()\n",
    "print(strdata)\n",
    "print(param)\n",
    "func2(param)\n",
    "print(param)\n",
    "func3()\n",
    "print(param)\n",
    "    "
   ]
  },
  {
   "cell_type": "markdown",
   "metadata": {},
   "source": [
    "### 042 함수 리턴값 이해하기 (return)"
   ]
  },
  {
   "cell_type": "code",
   "execution_count": 51,
   "metadata": {},
   "outputs": [
    {
     "name": "stdout",
     "output_type": "stream",
     "text": [
      "(2, 3, 1)\n",
      "2\n",
      "3\n",
      "1\n",
      "2 3 1\n"
     ]
    }
   ],
   "source": [
    "def reverse(x,y,z):\n",
    "    return y,z,x\n",
    "\n",
    "ret = reverse(1,2,3)\n",
    "print(ret)\n",
    "\n",
    "r1, r2, r3 = reverse(1,2,3)\n",
    "print(r1)\n",
    "print(r2)\n",
    "print(r3)\n",
    "print(r1,r2,r3)"
   ]
  },
  {
   "cell_type": "markdown",
   "metadata": {},
   "source": [
    "- 함수의 리턴값이 여러개인데 하나의 객체로 받을 경우 튜플 형식으로 리턴값 만들어짐"
   ]
  },
  {
   "cell_type": "markdown",
   "metadata": {},
   "source": [
    "### 043 파이썬 모듈 이해하기"
   ]
  },
  {
   "cell_type": "code",
   "execution_count": 52,
   "metadata": {},
   "outputs": [
    {
     "name": "stdout",
     "output_type": "stream",
     "text": [
      "5초간 프로그램을 정지합니다.\n",
      "5초가 지났습니다.\n"
     ]
    }
   ],
   "source": [
    "import time\n",
    "print('5초간 프로그램을 정지합니다.')\n",
    "time.sleep(5)\n",
    "print('5초가 지났습니다.')"
   ]
  },
  {
   "cell_type": "markdown",
   "metadata": {},
   "source": [
    "- 모듈 : 안정성이 검증된 함수들을 성격에 맞게 하나의 파이썬 파일에 묶어 만들어 놓은 것"
   ]
  },
  {
   "cell_type": "code",
   "execution_count": 54,
   "metadata": {},
   "outputs": [
    {
     "name": "stdout",
     "output_type": "stream",
     "text": [
      "대한민국 1등\n",
      "(2, 3, 1)\n"
     ]
    }
   ],
   "source": [
    "import mylib\n",
    "\n",
    "ret1 = mylib.add_txt('대한민국','1등')\n",
    "ret2 = mylib.reverse(1,2,3)\n",
    "print(ret1)\n",
    "print(ret2)"
   ]
  },
  {
   "cell_type": "markdown",
   "metadata": {},
   "source": [
    "### 044 파이썬 패키지 이해하기"
   ]
  },
  {
   "cell_type": "code",
   "execution_count": 55,
   "metadata": {},
   "outputs": [
    {
     "name": "stdout",
     "output_type": "stream",
     "text": [
      "대한민국 1등\n",
      "(2, 3, 1)\n"
     ]
    }
   ],
   "source": [
    "import mypackage.mylib\n",
    "\n",
    "ret1 = mypackage.mylib.add_txt('대한민국','1등')\n",
    "ret2 = mypackage.mylib.reverse(1,2,3)\n",
    "print(ret1)\n",
    "print(ret2)"
   ]
  },
  {
   "cell_type": "markdown",
   "metadata": {},
   "source": [
    "### 045 파이썬 모듈 임포트 이해하기 1) import"
   ]
  },
  {
   "cell_type": "code",
   "execution_count": 57,
   "metadata": {},
   "outputs": [
    {
     "data": {
      "text/plain": [
       "(2, 3, 1)"
      ]
     },
     "execution_count": 57,
     "metadata": {},
     "output_type": "execute_result"
    }
   ],
   "source": [
    "import time\n",
    "import mylib\n",
    "import mypackage.mylib\n",
    "\n",
    "time.sleep(1)\n",
    "mylib.add_txt('나는','파이썬이다.')\n",
    "mypackage.mylib.reverse(1,2,3)"
   ]
  },
  {
   "cell_type": "markdown",
   "metadata": {},
   "source": [
    "- 모듈을 임포트하는 방법  \n",
    "import 모듈이름  \n",
    "import 패키지이름.모듈이름"
   ]
  },
  {
   "cell_type": "markdown",
   "metadata": {},
   "source": [
    "- 주의 할것"
   ]
  },
  {
   "cell_type": "code",
   "execution_count": 58,
   "metadata": {},
   "outputs": [
    {
     "name": "stdout",
     "output_type": "stream",
     "text": [
      "a b\n"
     ]
    }
   ],
   "source": [
    "import mypackage\n",
    "ret = mypackage.mylib.add_txt('a','b')\n",
    "print(ret)"
   ]
  },
  {
   "cell_type": "markdown",
   "metadata": {},
   "source": [
    "### 046 파이썬 모듈 임포트 이해하기 2) from ~ import"
   ]
  },
  {
   "cell_type": "code",
   "execution_count": 59,
   "metadata": {},
   "outputs": [
    {
     "data": {
      "text/plain": [
       "(2, 3, 1)"
      ]
     },
     "execution_count": 59,
     "metadata": {},
     "output_type": "execute_result"
    }
   ],
   "source": [
    "from time import sleep\n",
    "from mypackage import mylib\n",
    "from mypackage.mylib import reverse\n",
    "\n",
    "sleep(1)\n",
    "mylib.add_txt('나는','파이썬이다.')\n",
    "reverse(1,2,3,)"
   ]
  },
  {
   "cell_type": "markdown",
   "metadata": {},
   "source": [
    "- from 모듈이름 import 함수이름\n",
    "- from 패키지이름 import 모듈이름"
   ]
  },
  {
   "cell_type": "markdown",
   "metadata": {},
   "source": [
    "### 047 파이썬 모듈 임포트 이해하기 3) import ~ as"
   ]
  },
  {
   "cell_type": "code",
   "execution_count": 62,
   "metadata": {},
   "outputs": [
    {
     "name": "stdout",
     "output_type": "stream",
     "text": [
      "대한민국 1등 (5, 6, 4)\n"
     ]
    }
   ],
   "source": [
    "import mypackage as mp\n",
    "import mypackage.mylib as ml\n",
    "\n",
    "ret1 = mp.mylib.add_txt('대한민국','1등')\n",
    "ret2 = ml.reverse(4,5,6)\n",
    "print(ret1, ret2)"
   ]
  },
  {
   "cell_type": "markdown",
   "metadata": {},
   "source": [
    "- 이름이 긴 모듈이나 계층구조가 복잡한 모듈의 경우, 별명 붙일수 있음  \n",
    "import 이름이 긴 모듈명 as 별명"
   ]
  },
  {
   "cell_type": "markdown",
   "metadata": {},
   "source": [
    "### 048 파일 열고 닫기(open, close)"
   ]
  },
  {
   "cell_type": "code",
   "execution_count": null,
   "metadata": {
    "collapsed": true
   },
   "outputs": [],
   "source": [
    "f1 = open('text.txt','r')\n",
    "f2 = open('d:/myimages/mypicture.jpg','rb')\n",
    "\n",
    "\n",
    "f1.close()\n",
    "f2.close()"
   ]
  },
  {
   "cell_type": "markdown",
   "metadata": {},
   "source": [
    "### 049 클래스 이해하기(class)"
   ]
  },
  {
   "cell_type": "code",
   "execution_count": 2,
   "metadata": {},
   "outputs": [
    {
     "name": "stdout",
     "output_type": "stream",
     "text": [
      "안녕하세요\n",
      "안녕하세요\n"
     ]
    }
   ],
   "source": [
    "class MyClass:\n",
    "    var = '안녕하세요'\n",
    "    def sayHello(self):\n",
    "        print(self.var)\n",
    "obj = MyClass()\n",
    "print(obj.var)\n",
    "obj.sayHello()"
   ]
  },
  {
   "cell_type": "markdown",
   "metadata": {},
   "source": [
    "- 클래스는 프로그래머가 지정한 이름으로 만든 하나의 독립공간이며, name space라 부름\n",
    "- 클래스의 구성요소 : 클래스 멤버(변수역할) / 클래스 메소드(함수역할)  \n",
    "클래스 멤버 - 클래스 메소드 내에서 정의되는 지역변수나 인스턴스 멤버와는 성질이 다름  \n",
    "클래스 메소드 - 클래스 내에서 정의되는 함수, 첫번째 인자는 반드시 self(클래스의 인스턴스 객체를 가르키는 참조자) 로 시작해야함\n"
   ]
  },
  {
   "cell_type": "markdown",
   "metadata": {},
   "source": [
    "### 050 클래스 멤버와 인스턴스 멤버 이해하기"
   ]
  },
  {
   "cell_type": "code",
   "execution_count": 7,
   "metadata": {},
   "outputs": [
    {
     "name": "stdout",
     "output_type": "stream",
     "text": [
      "안녕하세요\n",
      "안녕\n",
      "안녕하세요\n",
      "하이\n"
     ]
    }
   ],
   "source": [
    "class MyClass():\n",
    "    var = '안녕하세요'\n",
    "    def sayHello(self):\n",
    "        param1 = '안녕'\n",
    "        self.param2 = '하이'\n",
    "        print(param1)\n",
    "        print(self.var)\n",
    "\n",
    "obj = MyClass()\n",
    "print(obj.var)\n",
    "obj.sayHello()\n",
    "print(obj.param2)\n"
   ]
  },
  {
   "cell_type": "markdown",
   "metadata": {},
   "source": [
    "- 클래스 멤버 : 클래스 메소드 밖에서 선언되는 변수\n",
    "- 인스턴스 멤버 : 클래스 메소드 안에서 선언되는 변수  \n",
    "따라서 인스턴스 멤버는 해당 클래스 메소드가 호출되고 난뒤에서 사용가능 => 주로 생성자 메소드에서 활용  \n",
    "또한 self 참조자를 통해 선언되므로 클래스 메소드내에서 선언되는 일반적인 변수와는 다름"
   ]
  },
  {
   "cell_type": "markdown",
   "metadata": {},
   "source": [
    "### 051 클래스 메소드 이해하기"
   ]
  },
  {
   "cell_type": "code",
   "execution_count": 8,
   "metadata": {},
   "outputs": [
    {
     "name": "stdout",
     "output_type": "stream",
     "text": [
      "안녕하세요\n",
      "상교야! 다음에보자\n"
     ]
    }
   ],
   "source": [
    "class MyClass():\n",
    "    def sayHello(self):\n",
    "        print('안녕하세요')\n",
    "    \n",
    "    def sayBye(self,name):\n",
    "        print('%s! 다음에보자' %name)\n",
    "obj = MyClass()\n",
    "obj.sayHello()\n",
    "obj.sayBye('상교야')"
   ]
  },
  {
   "cell_type": "markdown",
   "metadata": {},
   "source": [
    "- 클래스 내에서 선언되는 함수인 클래스 메소드의 경우 첫번째 인자는 무조건!!! self(해당 클래스의 인스턴트 객체를 지시하는 참조자) 임\n",
    "- 두번째 인자는 self 다음에 선언하면 됨."
   ]
  },
  {
   "cell_type": "markdown",
   "metadata": {},
   "source": [
    "### 052 클래스 생성자 이해하기"
   ]
  },
  {
   "cell_type": "code",
   "execution_count": 14,
   "metadata": {},
   "outputs": [
    {
     "name": "stdout",
     "output_type": "stream",
     "text": [
      "(3,)\n",
      "MyClass 인스턴트 객체가 생성되었습니다\n",
      "안녕하세요\n"
     ]
    }
   ],
   "source": [
    "class MyClass():\n",
    "    def __init__(self,*args):\n",
    "        self.var = '안녕하세요'\n",
    "#         print(args)\n",
    "        print('MyClass 인스턴트 객체가 생성되었습니다')\n",
    "# a =3\n",
    "obj = MyClass(a)\n",
    "print(obj.var)"
   ]
  },
  {
   "cell_type": "code",
   "execution_count": 20,
   "metadata": {},
   "outputs": [
    {
     "name": "stdout",
     "output_type": "stream",
     "text": [
      "생성자 인자로 전달받은 값은 <123>입니다.\n"
     ]
    }
   ],
   "source": [
    "class MyClass():\n",
    "    def __init__(self, txt):\n",
    "        self.var = txt\n",
    "        print('생성자 인자로 전달받은 값은 <'+str(self.var)+'>입니다.')\n",
    "        \n",
    "obj = MyClass(123)\n"
   ]
  },
  {
   "cell_type": "markdown",
   "metadata": {},
   "source": [
    "### 053 클래스 소멸자 이해하기"
   ]
  },
  {
   "cell_type": "code",
   "execution_count": 27,
   "metadata": {},
   "outputs": [
    {
     "name": "stdout",
     "output_type": "stream",
     "text": [
      "MyClass 인스턴트 객체가 메모리에서 제거됩니다.\n"
     ]
    }
   ],
   "source": [
    "class MyClass():\n",
    "    def __del__(self):\n",
    "        print('MyClass 인스턴트 객체가 메모리에서 제거됩니다.')\n",
    "\n",
    "obj = MyClass()\n",
    "del obj"
   ]
  },
  {
   "cell_type": "markdown",
   "metadata": {},
   "source": [
    "- 클래스 소멸자는 클래스의 인스턴트 객체가 메모리에서 제거될 때 자동적으로 호출되는 클래스 메소드임\n",
    "- 인스턴트 객체를 메모리에서 제거하려면 del 키워드 이용"
   ]
  },
  {
   "cell_type": "markdown",
   "metadata": {},
   "source": [
    "### 054 클래스상속 이해하기"
   ]
  },
  {
   "cell_type": "code",
   "execution_count": 29,
   "metadata": {},
   "outputs": [
    {
     "name": "stdout",
     "output_type": "stream",
     "text": [
      "3\n",
      "-1\n"
     ]
    }
   ],
   "source": [
    "class Add():\n",
    "    def add(self,n1,n2):\n",
    "        return n1+n2\n",
    "    \n",
    "class Calculator(Add):\n",
    "    def sub(self, n1, n2):\n",
    "        return n1-n2\n",
    "    \n",
    "obj = Calculator()\n",
    "print(obj.add(1,2))\n",
    "print(obj.sub(1,2))"
   ]
  },
  {
   "cell_type": "markdown",
   "metadata": {},
   "source": [
    "- 클래스 상속이란 특정 클래스가 가지고 있는 멤버나 메소드를 상속받는 클래스가 모두 사용가능하도록 해주는 것\n",
    "- 부모(슈퍼)클래스 : 상속을 해주는 클래스\n",
    "- 자식(서브)클래스 : 상속을 받는 클래스\n",
    "- 정의 방법 : class 자식클래스(부모클래스)\n",
    "- 자식 클래스는 부모클래스의 멤버와 메소드들을 그대로 상속받음  \n",
    "만약 자식 클래스에 부모클래스와 동일한 이름의 멤버나 메소드가 존재하는 경우 자식클래스에서 선언된것을 우선으로 함"
   ]
  },
  {
   "cell_type": "markdown",
   "metadata": {},
   "source": [
    "- 다중 상속도 가능\n",
    "- 정의방법 - class 자식클래스(부모 클래스1, 부모 클래스2, ....)"
   ]
  },
  {
   "cell_type": "code",
   "execution_count": 32,
   "metadata": {},
   "outputs": [
    {
     "name": "stdout",
     "output_type": "stream",
     "text": [
      "3\n",
      "2\n",
      "-1\n"
     ]
    }
   ],
   "source": [
    "class Add():\n",
    "    def add(self, n1, n2):\n",
    "        return n1 + n2\n",
    "\n",
    "class Multiply():\n",
    "    def multiply(self, n1, n2):\n",
    "        return n1 * n2\n",
    "\n",
    "class Calculator(Add, Multiply):\n",
    "    def sub(self, n1, n2):\n",
    "        return n1 - n2\n",
    "\n",
    "obj = Calculator()\n",
    "print(obj.add(1,2))\n",
    "print(obj.multiply(1,2))\n",
    "print(obj.sub(1,2))"
   ]
  },
  {
   "cell_type": "markdown",
   "metadata": {},
   "source": [
    "### 055 예외처리 이해하기 1) try~ except"
   ]
  },
  {
   "cell_type": "markdown",
   "metadata": {},
   "source": [
    "- 코드에서 예외상황이 발생했을대 프로그램을 종료시키지 않고 예외를 처리하는 방법에 대해 배우기"
   ]
  },
  {
   "cell_type": "code",
   "execution_count": 34,
   "metadata": {},
   "outputs": [
    {
     "name": "stdout",
     "output_type": "stream",
     "text": [
      "안녕하세요\n"
     ]
    },
    {
     "ename": "NameError",
     "evalue": "name 'param' is not defined",
     "output_type": "error",
     "traceback": [
      "\u001b[1;31m---------------------------------------------------------------------------\u001b[0m",
      "\u001b[1;31mNameError\u001b[0m                                 Traceback (most recent call last)",
      "\u001b[1;32m<ipython-input-34-8bcbb651e023>\u001b[0m in \u001b[0;36m<module>\u001b[1;34m()\u001b[0m\n\u001b[0;32m      1\u001b[0m \u001b[0mprint\u001b[0m\u001b[1;33m(\u001b[0m\u001b[1;34m'안녕하세요'\u001b[0m\u001b[1;33m)\u001b[0m\u001b[1;33m\u001b[0m\u001b[0m\n\u001b[1;32m----> 2\u001b[1;33m \u001b[0mprint\u001b[0m\u001b[1;33m(\u001b[0m\u001b[0mparam\u001b[0m\u001b[1;33m)\u001b[0m\u001b[1;33m\u001b[0m\u001b[0m\n\u001b[0m",
      "\u001b[1;31mNameError\u001b[0m: name 'param' is not defined"
     ]
    }
   ],
   "source": [
    "print('안녕하세요')\n",
    "print(param)"
   ]
  },
  {
   "cell_type": "code",
   "execution_count": 33,
   "metadata": {},
   "outputs": [
    {
     "name": "stdout",
     "output_type": "stream",
     "text": [
      "안녕하세요\n",
      "예외가 발생했습니다.\n"
     ]
    }
   ],
   "source": [
    "try:\n",
    "    print('안녕하세요')\n",
    "    print(param)\n",
    "except:\n",
    "    print('예외가 발생했습니다.')"
   ]
  },
  {
   "cell_type": "markdown",
   "metadata": {},
   "source": [
    "- 프로그램이 실행되는 동안 오류가 발생하면 프로그램이 더 이상 진행될 수 없는 상태가 되는데 이를 예외(exception) 상황이라고 함\n",
    "- 프로그램의 논리적 오류가 발생할 가능성이 큰 부분은 try ~ except 사이에 두고 예외가 발생할 경우 except 부분에서 적절한 처리를 해줌"
   ]
  },
  {
   "cell_type": "markdown",
   "metadata": {},
   "source": [
    "### 056 예외처리 이해하기 2) try ~ except ~ else"
   ]
  },
  {
   "cell_type": "code",
   "execution_count": 39,
   "metadata": {},
   "outputs": [
    {
     "name": "stdout",
     "output_type": "stream",
     "text": [
      "하이\n",
      "예외발생\n"
     ]
    }
   ],
   "source": [
    "try:\n",
    "    print('하이')\n",
    "    print(param)\n",
    "    print('실행 안되나 확인')\n",
    "except:\n",
    "    print('예외발생')\n",
    "else:\n",
    "    print('예외발생 안함')"
   ]
  },
  {
   "cell_type": "markdown",
   "metadata": {},
   "source": [
    "### 057 예외처리 이해하기 3) try ~ except ~ finally"
   ]
  },
  {
   "cell_type": "code",
   "execution_count": 41,
   "metadata": {},
   "outputs": [
    {
     "name": "stdout",
     "output_type": "stream",
     "text": [
      "하이\n",
      "예외발생\n",
      "무조건 실행하는 코드\n"
     ]
    }
   ],
   "source": [
    "try:\n",
    "    print('하이')\n",
    "    print(param)\n",
    "except:\n",
    "    print('예외발생')\n",
    "finally:\n",
    "    print('무조건 실행하는 코드')"
   ]
  },
  {
   "cell_type": "markdown",
   "metadata": {},
   "source": [
    "- 오류 발생 유무와 상관없이 어떤 코드를 무조건 실행 시키려면 try ~ except ~ finally 구문 활용\n",
    "- 무조건 실행하려는 코드는 finally 부분에 작성\n"
   ]
  },
  {
   "cell_type": "markdown",
   "metadata": {},
   "source": [
    "### 058 예외처리 이해하기 4) try ~ except Except as e"
   ]
  },
  {
   "cell_type": "code",
   "execution_count": 47,
   "metadata": {},
   "outputs": [
    {
     "name": "stdout",
     "output_type": "stream",
     "text": [
      "실행은??\n",
      "name 'param' is not defined\n",
      "무조건 출력\n"
     ]
    }
   ],
   "source": [
    "try:\n",
    "    print('실행은??')\n",
    "    print(param)\n",
    "except Exception as e:\n",
    "    print(e)\n",
    "\n",
    "else:\n",
    "    print('예외 발생안함')\n",
    "finally:\n",
    "    print('무조건 출력')\n",
    "    "
   ]
  },
  {
   "cell_type": "markdown",
   "metadata": {},
   "source": [
    "- 예외가 발생할 경우 이에 대한 자세한 내용을 파악하는 것이 중요\n",
    "- 파이썬은 발생 가능한 예외에 대해 exception 객체로 미리 정의해 두고 있음 (참고)https://docs.python.org/3/library/exceptions.html#bltin-exceptions"
   ]
  },
  {
   "cell_type": "markdown",
   "metadata": {},
   "source": [
    "### 059 예외처리 이해하기 5) try ~ except 특정 예외"
   ]
  },
  {
   "cell_type": "code",
   "execution_count": 50,
   "metadata": {},
   "outputs": [
    {
     "name": "stdout",
     "output_type": "stream",
     "text": [
      "1\n",
      "2\n",
      "3\n",
      "4\n",
      "5\n",
      "사용자의 의해 프로그램이 중단되었습니다.\n"
     ]
    }
   ],
   "source": [
    "import time\n",
    "count = 1\n",
    "\n",
    "try:\n",
    "    while True:\n",
    "        print(count)\n",
    "        count +=1\n",
    "        time.sleep(0.5)\n",
    "except KeyboardInterrupt:\n",
    "    print('사용자의 의해 프로그램이 중단되었습니다.')\n"
   ]
  }
 ],
 "metadata": {
  "kernelspec": {
   "display_name": "Python 3",
   "language": "python",
   "name": "python3"
  },
  "language_info": {
   "codemirror_mode": {
    "name": "ipython",
    "version": 3
   },
   "file_extension": ".py",
   "mimetype": "text/x-python",
   "name": "python",
   "nbconvert_exporter": "python",
   "pygments_lexer": "ipython3",
   "version": "3.5.3"
  }
 },
 "nbformat": 4,
 "nbformat_minor": 2
}
