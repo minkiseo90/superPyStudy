{
 "cells": [
  {
   "cell_type": "markdown",
   "metadata": {},
   "source": [
    "### 016 정수형 자료 이해하기"
   ]
  },
  {
   "cell_type": "code",
   "execution_count": 5,
   "metadata": {},
   "outputs": [
    {
     "name": "stdout",
     "output_type": "stream",
     "text": [
      "10\n",
      "2\n",
      "8\n",
      "16\n",
      "123456890123456789\n"
     ]
    }
   ],
   "source": [
    "int_data = 10\n",
    "bin_data = 0b10\n",
    "oct_data = 0o10\n",
    "hex_data = 0x10\n",
    "long_data = 123456890123456789\n",
    "print(int_data)\n",
    "print(bin_data)\n",
    "print(oct_data)\n",
    "print(hex_data)\n",
    "print(long_data)\n"
   ]
  },
  {
   "cell_type": "markdown",
   "metadata": {},
   "source": [
    "- 정수형 상수를 대입한 변수를 출력하면 모두 10진수로 출력됨"
   ]
  },
  {
   "cell_type": "markdown",
   "metadata": {},
   "source": [
    "### 017 실수형 자료 이해하기"
   ]
  },
  {
   "cell_type": "code",
   "execution_count": 6,
   "metadata": {},
   "outputs": [
    {
     "name": "stdout",
     "output_type": "stream",
     "text": [
      "1.0 3.14 1560.0 -7e-05\n"
     ]
    }
   ],
   "source": [
    "f1 = 1.0\n",
    "f2 = 3.14\n",
    "f3 = 1.56e3\n",
    "f4 = -0.7e-4\n",
    "print(f1,f2,f3,f4)"
   ]
  },
  {
   "cell_type": "markdown",
   "metadata": {},
   "source": [
    "- 실수형 자료와 정수형 자료를 연산해서 나오는 결과 => 실수형자료\n",
    "- 나눗셈의 결과는 자료형과 관계없이 모두 실수형자료"
   ]
  },
  {
   "cell_type": "markdown",
   "metadata": {},
   "source": [
    "### 018 복소수형 자료 이해하기"
   ]
  },
  {
   "cell_type": "code",
   "execution_count": 8,
   "metadata": {},
   "outputs": [
    {
     "name": "stdout",
     "output_type": "stream",
     "text": [
      "1.0 7.0\n",
      "2.0 3.0\n"
     ]
    }
   ],
   "source": [
    "cl = 1 +7j\n",
    "print(cl.real, cl.imag)\n",
    "c2 = complex(2,3)\n",
    "print(c2.real, c2.imag)"
   ]
  },
  {
   "cell_type": "markdown",
   "metadata": {},
   "source": [
    "### 019 대입연산자 이해하기"
   ]
  },
  {
   "cell_type": "code",
   "execution_count": 9,
   "metadata": {},
   "outputs": [
    {
     "name": "stdout",
     "output_type": "stream",
     "text": [
      "a와 b를 더한값은3입니다\n"
     ]
    }
   ],
   "source": [
    "a = 1\n",
    "b = 2\n",
    "ret = a + b\n",
    "print('a와 b를 더한값은',end='')\n",
    "print(ret,end='')\n",
    "print('입니다')"
   ]
  },
  {
   "cell_type": "markdown",
   "metadata": {},
   "source": [
    "### 020 사칙연산자 이해하기"
   ]
  },
  {
   "cell_type": "code",
   "execution_count": 11,
   "metadata": {},
   "outputs": [
    {
     "name": "stdout",
     "output_type": "stream",
     "text": [
      "6 -2 8 0.5\n",
      "16 6.0 -12 32\n"
     ]
    }
   ],
   "source": [
    "a = 2\n",
    "b = 4\n",
    "ret1 = a + b # 6\n",
    "ret2 = a - b # -2\n",
    "ret3 = a * b # 8\n",
    "ret4 = a / b # 0.5\n",
    "ret5 = a**b # 16\n",
    "ret6 = a + a * b /a # 6\n",
    "ret7 = (a + b) * (a - b) # -12\n",
    "ret8 = a * b **a # 32  b**a 먼저 연산\n",
    "print(ret1, ret2, ret3, ret4)\n",
    "print(ret5, ret6, ret7, ret8)"
   ]
  },
  {
   "cell_type": "markdown",
   "metadata": {},
   "source": [
    "### 021 연산자 축약 이해하기"
   ]
  },
  {
   "cell_type": "code",
   "execution_count": 13,
   "metadata": {},
   "outputs": [
    {
     "name": "stdout",
     "output_type": "stream",
     "text": [
      "0\n",
      "1\n",
      "-4\n",
      "-8\n",
      "-2.0\n"
     ]
    }
   ],
   "source": [
    "a = 0\n",
    "print(a)\n",
    "a += 1 # 1\n",
    "print(a)\n",
    "a -= 5 # -4\n",
    "print(a)\n",
    "a *= 2 # -8\n",
    "print(a)\n",
    "a /= 4 # -2.0\n",
    "print(a)"
   ]
  },
  {
   "cell_type": "markdown",
   "metadata": {},
   "source": [
    "### 022 True와 False 이해하기"
   ]
  },
  {
   "cell_type": "code",
   "execution_count": 17,
   "metadata": {},
   "outputs": [
    {
     "name": "stdout",
     "output_type": "stream",
     "text": [
      "True\n",
      "True\n",
      "False\n"
     ]
    }
   ],
   "source": [
    "a = True\n",
    "b = False\n",
    "print(a==1)\n",
    "print(b == 0)\n",
    "print(b != 0)"
   ]
  },
  {
   "cell_type": "markdown",
   "metadata": {},
   "source": [
    "- 일반적으로 True = 1, False = 0 \n",
    "- 무한루프 using while  \n",
    "while True  \n",
    "(무한 반복코드)  \n",
    "if 조건 == True  \n",
    "      break\n"
   ]
  },
  {
   "cell_type": "markdown",
   "metadata": {},
   "source": [
    "### 023 관계연산자 이해하기"
   ]
  },
  {
   "cell_type": "code",
   "execution_count": 18,
   "metadata": {},
   "outputs": [
    {
     "name": "stdout",
     "output_type": "stream",
     "text": [
      "False\n",
      "True\n",
      "False\n",
      "True\n",
      "True\n"
     ]
    }
   ],
   "source": [
    "x = 1\n",
    "y = 2\n",
    "str1 = 'abc'\n",
    "str2 = 'python'\n",
    "print(x==y)\n",
    "print(x!=y)\n",
    "print(str1==str2)\n",
    "print(str2 == 'python')\n",
    "print(str1 < str2)"
   ]
  },
  {
   "cell_type": "markdown",
   "metadata": {},
   "source": [
    "### 024 논리연산자 이해하기( and, or, not)"
   ]
  },
  {
   "cell_type": "code",
   "execution_count": 20,
   "metadata": {},
   "outputs": [
    {
     "name": "stdout",
     "output_type": "stream",
     "text": [
      "False\n",
      "True\n",
      "True\n",
      "False\n",
      "False\n",
      "True\n"
     ]
    }
   ],
   "source": [
    "bool1 = True\n",
    "bool2 = False\n",
    "bool3 = True\n",
    "bool4 = False\n",
    "print(bool1 and bool2) # false\n",
    "print(bool1 and bool3) # true\n",
    "print(bool2 or bool3) # true\n",
    "print(bool2 or bool4) # false\n",
    "print(not bool1) # false\n",
    "print(not bool2) # true"
   ]
  },
  {
   "cell_type": "markdown",
   "metadata": {},
   "source": [
    "### 025 비트연산자 이해하기( & , | , ~ , ^ , >> , <<)"
   ]
  },
  {
   "cell_type": "code",
   "execution_count": 23,
   "metadata": {},
   "outputs": [
    {
     "name": "stdout",
     "output_type": "stream",
     "text": [
      "0x60\n",
      "0x63\n",
      "-0x63\n",
      "0x3\n",
      "0x30\n",
      "0x184\n"
     ]
    }
   ],
   "source": [
    "bit1 = 0x61\n",
    "bit2 = 0x62\n",
    "print(hex(bit1 & bit2)) # 0x60\n",
    "print(hex(bit1 | bit2)) # 0x63\n",
    "print(hex(~ bit2)) # 0110 0010 => 1001 1101 (0x913)\n",
    "print(hex(bit1 ^ bit2)) # ????\n",
    "print(hex(bit1 >> 1)) # 0110 0001 => 0011 0000 (0x30)\n",
    "print(hex(bit1 << 2)) # 0110 0001 =>0001 1000 0101 (0x 183)"
   ]
  },
  {
   "cell_type": "markdown",
   "metadata": {},
   "source": [
    "- & :bit and\n",
    "- | : bit or\n",
    "- ~ : bit 반전\n",
    "- ^ : bit xor ( 같은 값이면 0 , 다른면 1)\n",
    "- />> : right shift ( 오른쪽 값은 버림, 왼쪽은 0 채워짐)\n",
    "- << : left shift ( 오른쪽은 0 채워짐, 왼쪽은 계속 이동)\n"
   ]
  },
  {
   "cell_type": "markdown",
   "metadata": {},
   "source": [
    "### 026 시퀸스 자료형 이해하기"
   ]
  },
  {
   "cell_type": "code",
   "execution_count": null,
   "metadata": {
    "collapsed": true
   },
   "outputs": [],
   "source": [
    "strdata = 'abcde'\n",
    "listdata = [1, [2,3], '안녕']\n",
    "tupledata = (100, 200, 300)"
   ]
  },
  {
   "cell_type": "markdown",
   "metadata": {},
   "source": [
    "- 시퀸스 자료형 : 어떤 객체가 순서를 가지고 나열되어 있는것\n",
    "- 문자열 / 리스트 / 튜플\n",
    "- 문자열 : 문자나 기호들이 순서대로 나열되어 있는 시퀸스 자료형\n",
    "- 리스트 : 임의의 객체가 순서대로 나열되어 있는 시퀸스 자료형\n",
    "- 튜플 : 값을 변경할수 없는 임의의 객체가 나열되어 있는 시퀸스 자료형\n",
    "- 특성</br>\n",
    "1. 인덱싱 - 인덱스를 통해 해당 값에 접근 가능\n",
    "2. 슬라이싱 - 특정 구간의 값을 취할 수 있음\n",
    "3. 연결 - '+' 연산자를 이용해 두 시퀸스 자료를 연결하여 새로운 시퀴스 자료로 생성  \n",
    "4. 반복 - '*' 연산자를 이용해 시퀸스 자료를 여러번 반복하여 새로운 시퀸스 자료로 생성\n",
    "5. 멤버체크 - 'in' 키워드를 사용하여 특정 값이 시퀸스 자료의 요소로 속해 있는지 확인\n",
    "6. 크기정보 - len() 을 이용해 시퀸스 자료의 크기를 알수 있음"
   ]
  },
  {
   "cell_type": "markdown",
   "metadata": {},
   "source": [
    "### 027 시퀸스 자료 인덱싱 이해하기"
   ]
  },
  {
   "cell_type": "code",
   "execution_count": 1,
   "metadata": {},
   "outputs": [
    {
     "name": "stdout",
     "output_type": "stream",
     "text": [
      "i\n",
      "!\n",
      "1\n",
      "[1, 2, 3]\n",
      "3\n"
     ]
    }
   ],
   "source": [
    "strdata = 'Time is money!!'\n",
    "listdata = [1, 2, [1, 2, 3]]\n",
    "print(strdata[5])\n",
    "print(strdata[-2])\n",
    "print(listdata[0])\n",
    "print(listdata[-1])\n",
    "print(listdata[2][-1])"
   ]
  },
  {
   "cell_type": "markdown",
   "metadata": {},
   "source": [
    "### 028 시퀸스 자료 스라이싱 이해하기"
   ]
  },
  {
   "cell_type": "code",
   "execution_count": 8,
   "metadata": {},
   "outputs": [
    {
     "name": "stdout",
     "output_type": "stream",
     "text": [
      "ime \n",
      "Time is\n",
      "oney!!\n",
      "Time is mone\n",
      "y!!\n",
      "Time is money!!\n",
      "Tm smny!\n"
     ]
    }
   ],
   "source": [
    "strdata = \"Time is money!!\"\n",
    "print(strdata[1:5])\n",
    "print(strdata[:7])\n",
    "print(strdata[9:])\n",
    "print(strdata[:-3])\n",
    "print(strdata[-3:])\n",
    "print(strdata[:])\n",
    "print(strdata[::2])"
   ]
  },
  {
   "cell_type": "markdown",
   "metadata": {},
   "source": [
    "- 인덱싱은 인덱스에 해당하는 요소 하나를 취하는 방법 but  \n",
    "- 슬라이싱은 시퀸스 자료에서 일정 범위에 해당하는 부분을 취하는 방법\n",
    "- [시작시퀸스 : 끝 시퀸스 : 스텝]\n",
    "- 스텝은 생략가능 => 스텝=1\n"
   ]
  },
  {
   "cell_type": "markdown",
   "metadata": {},
   "source": [
    "### 029 시퀸스 자료 연결 이해하기(+)"
   ]
  },
  {
   "cell_type": "code",
   "execution_count": 11,
   "metadata": {},
   "outputs": [
    {
     "name": "stdout",
     "output_type": "stream",
     "text": [
      "I Love Python\n",
      "I Love you\n",
      "[1, 2, 3, 4, 5, 6]\n"
     ]
    }
   ],
   "source": [
    "strdata1 = 'I Love '\n",
    "strdata2 = 'Python'\n",
    "strdata3 = 'you'\n",
    "listdata1 = [1,2,3]\n",
    "listdata2 = [4,5,6]\n",
    "print(strdata1 + strdata2)\n",
    "print(strdata1 + strdata3)\n",
    "print(listdata1 + listdata2)"
   ]
  },
  {
   "cell_type": "markdown",
   "metadata": {},
   "source": [
    "### 030 시퀀스 자료 반복 이해하기(*)"
   ]
  },
  {
   "cell_type": "code",
   "execution_count": 13,
   "metadata": {},
   "outputs": [
    {
     "name": "stdout",
     "output_type": "stream",
     "text": [
      "빅뱅이 부르는 ~ 뱅~뱅~뱅~뱅~뱅~\n",
      "[1, 2, 3, 1, 2, 3, 1, 2, 3]\n"
     ]
    }
   ],
   "source": [
    "artist = '빅뱅'\n",
    "sing = '뱅~'\n",
    "dispdata = artist +'이 부르는 ~ '+sing * 5\n",
    "print(dispdata)\n",
    "listdata = [1, 2, 3]\n",
    "print(listdata*3)"
   ]
  },
  {
   "cell_type": "markdown",
   "metadata": {},
   "source": [
    "### 031 시퀀스 자료 크기 이해하기(len)"
   ]
  },
  {
   "cell_type": "code",
   "execution_count": 14,
   "metadata": {},
   "outputs": [
    {
     "name": "stdout",
     "output_type": "stream",
     "text": [
      "13\n",
      "13\n",
      "5\n",
      "13\n"
     ]
    }
   ],
   "source": [
    "strdata1 = 'I Love Python'\n",
    "strdata2 = '나는 파이썬을 사랑합니다'\n",
    "listdata = ['a', 'b', 'c', strdata1, strdata2]\n",
    "print(len(strdata1))\n",
    "print(len(strdata2))\n",
    "print(len(listdata))\n",
    "print(len(listdata[3]))"
   ]
  },
  {
   "cell_type": "markdown",
   "metadata": {},
   "source": [
    "### 032 멤버체크 이해하기"
   ]
  },
  {
   "cell_type": "code",
   "execution_count": 16,
   "metadata": {},
   "outputs": [
    {
     "name": "stdout",
     "output_type": "stream",
     "text": [
      "False\n",
      "True\n",
      "True\n",
      "False\n"
     ]
    }
   ],
   "source": [
    "listdata = [1,2,3,4]\n",
    "ret1 = 5 in listdata\n",
    "ret2 = 4 in listdata\n",
    "print(ret1)\n",
    "print(ret2)\n",
    "strdata = 'abcde'\n",
    "ret3 = 'c' in strdata\n",
    "ret4 = 'l' in strdata\n",
    "print(ret3)\n",
    "print(ret4)"
   ]
  },
  {
   "cell_type": "markdown",
   "metadata": {},
   "source": [
    "- 'in'은 자료에 어떤 값이 있는지 없는지 확인 할 때 사용하는 키워드\n",
    "- <값> in <자료형>\n",
    "- 있으면 True / 없으면 False"
   ]
  },
  {
   "cell_type": "markdown",
   "metadata": {},
   "source": [
    "### 033 문자열 이해하기"
   ]
  },
  {
   "cell_type": "code",
   "execution_count": 19,
   "metadata": {},
   "outputs": [
    {
     "name": "stdout",
     "output_type": "stream",
     "text": [
      "나는 파이썬 프로그래머이다\n",
      "You are a programmer\n",
      " I love\n",
      "    python. You love\n",
      "python too!\n",
      "\n",
      "My son's name is John\n",
      "문자열 \"abc\"의 길이는 3입니다.\n"
     ]
    }
   ],
   "source": [
    "strdata1 = '나는 파이썬 프로그래머이다'\n",
    "strdata2 = \"You are a programmer\"\n",
    "strdata3 = \"\"\" I love\n",
    "    python. You love\n",
    "python too!\n",
    "\"\"\"\n",
    "print(strdata1)\n",
    "print(strdata2)\n",
    "print(strdata3)\n",
    "strdata4 = \"My son's name is John\"\n",
    "strdata5 = '문자열 \"abc\"의 길이는 3입니다.'\n",
    "print(strdata4)\n",
    "print(strdata5)"
   ]
  },
  {
   "cell_type": "markdown",
   "metadata": {},
   "source": [
    "- 문자열은 문자나 기호가 순서로 나열되어 잇는 시퀸스\n",
    "- 문자열 선언방법  \n",
    "1) ' '이용  \n",
    "2) \" \"이용  \n",
    "3) \"\"\" \"\"\"이용  \n",
    "- strdata4와 같이 문자열 내에 ' 포함시 \" \"로 선언\n",
    "- strdata5와 같이 문자열 내에 \"\" 포함시 ' '로 선언\n",
    "- \"\" 와 '/ ' ' 이 섞여있을 경우 \"\"\" \"\"\"로 선언"
   ]
  },
  {
   "cell_type": "markdown",
   "metadata": {},
   "source": [
    "### 034 문자열 포멧팅 이해하기"
   ]
  },
  {
   "cell_type": "code",
   "execution_count": 47,
   "metadata": {},
   "outputs": [
    {
     "name": "stdout",
     "output_type": "stream",
     "text": [
      "나는 자바 보다 파이썬에 더 익숙합니다\n",
      "파이썬은 자바보다 5배 더 쉽습니다.\n",
      "5 + 10 = 15\n",
      "작년 세계 경제 성장률은 전년에 비해 5%포인트 증가했다.\n"
     ]
    }
   ],
   "source": [
    "txt1 = '자바'\n",
    "txt2 = '파이썬'\n",
    "num1 = 5\n",
    "num2 = 10\n",
    "print('나는 %s 보다 %s에 더 익숙합니다' %(txt1,txt2))\n",
    "print('%s은 %s보다 %d배 더 쉽습니다.' %(txt2,txt1, num1))\n",
    "print( '%d + %d = %d' %(num1, num2, num1+num2))\n",
    "print('작년 세계 경제 성장률은 전년에 비해 %d%%포인트 증가했다.'%num1)"
   ]
  },
  {
   "cell_type": "markdown",
   "metadata": {},
   "source": [
    "- %s : 문자열에 대응됨\n",
    "- %c : 문자나 기호 하나에 대응됨\n",
    "- %f : 실수에 대응됨\n",
    "- %d : 정수에 대응됨\n",
    "- %%: '%'라는 기호 자체를 표시함."
   ]
  },
  {
   "cell_type": "code",
   "execution_count": 54,
   "metadata": {},
   "outputs": [
    {
     "name": "stdout",
     "output_type": "stream",
     "text": [
      "진행률 100%"
     ]
    }
   ],
   "source": [
    "from time import sleep\n",
    "for i in range(100):\n",
    "    msg = '\\r진행률 %d%%' %(i+1)\n",
    "    print(''*len(msg),end='')\n",
    "    print(msg,end='')\n",
    "    sleep(0.1)"
   ]
  },
  {
   "cell_type": "markdown",
   "metadata": {},
   "source": [
    "### 035 이스케이프 문자 이해하기"
   ]
  },
  {
   "cell_type": "code",
   "execution_count": 62,
   "metadata": {},
   "outputs": [
    {
     "name": "stdout",
     "output_type": "stream",
     "text": [
      "나는 파이썬을 사랑합니다.\n",
      "파이썬은 자바보다 훨씬 쉽습니다.\n",
      "Name:John Smith \tSex:Male\tAge:22\n",
      "이문장은 화면폭에 비해 너무 길어 보기가 힘듭니다.그래서 \\Enter키를 이용해 문장을 다음줄과 연속되도록 했습니다.\n",
      "작은따옴표(')와 큰 따옴표(\")는 문자열을 정의할 때 사용합니다.\n"
     ]
    }
   ],
   "source": [
    "print('나는 파이썬을 사랑합니다.\\n파이썬은 자바보다 훨씬 쉽습니다.')\n",
    "print('Name:John Smith \\tSex:Male\\tAge:22')\n",
    "print('이문장은 화면폭에 비해 너무 길어 보기가 힘듭니다.\\\n",
    "그래서 \\\\Enter키를 이용해 문장을 다음줄과 연속되도록 했습니다.')\n",
    "print('작은따옴표(\\')와 큰 따옴표(\")는 문자열을 정의할 때 사용합니다.')"
   ]
  },
  {
   "cell_type": "markdown",
   "metadata": {},
   "source": [
    "- 이스케이프 문자 : 키보드로 입력하기 어려운 기호를 나타태기 위해 역슬래쉬 '\\'로 시작하는 문자\n",
    "- \\n : 줄 바꾸기\n",
    "- \\t : 탭\n",
    "- \\Enter 줄 계속(다음줄에도 계속되는 줄이라는 표시)\n",
    "- \\\\ - '\\'기호 자체\n",
    "- \\' or \\\" - ' 기호 또는 \" 기호 자체"
   ]
  }
 ],
 "metadata": {
  "kernelspec": {
   "display_name": "Python 3",
   "language": "python",
   "name": "python3"
  },
  "language_info": {
   "codemirror_mode": {
    "name": "ipython",
    "version": 3
   },
   "file_extension": ".py",
   "mimetype": "text/x-python",
   "name": "python",
   "nbconvert_exporter": "python",
   "pygments_lexer": "ipython3",
   "version": "3.5.3"
  }
 },
 "nbformat": 4,
 "nbformat_minor": 2
}
