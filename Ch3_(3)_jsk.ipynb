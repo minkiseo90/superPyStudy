{
 "cells": [
  {
   "cell_type": "markdown",
   "metadata": {},
   "source": [
    "### 109 리스트에 요소 추가하기(append)"
   ]
  },
  {
   "cell_type": "code",
   "execution_count": 2,
   "metadata": {},
   "outputs": [
    {
     "name": "stdout",
     "output_type": "stream",
     "text": [
      "리스트에 추가할 값을 입력하세요[1/3]:123\n",
      "['123']\n",
      "리스트에 추가할 값을 입력하세요[2/3]:4\n",
      "['123', '4']\n",
      "리스트에 추가할 값을 입력하세요[3/3]:56\n",
      "['123', '4', '56']\n"
     ]
    }
   ],
   "source": [
    "listdata = []\n",
    "for i in range(3):\n",
    "    txt = input('리스트에 추가할 값을 입력하세요[%d/3]:'%(i+1))\n",
    "    listdata.append(txt)\n",
    "    print(listdata)"
   ]
  },
  {
   "cell_type": "markdown",
   "metadata": {},
   "source": [
    "### 110 리스트의 특정 위치에 요소 삽입하기(insert)"
   ]
  },
  {
   "cell_type": "code",
   "execution_count": 3,
   "metadata": {},
   "outputs": [
    {
     "name": "stdout",
     "output_type": "stream",
     "text": [
      "['태양', '수성', '금성', '지구', '화성', '소행성', '목성', '토성', '천왕성', '해왕성']\n"
     ]
    }
   ],
   "source": [
    "solarsys = ['태양','수성','금성','지구','화성','목성','토성','천왕성','해왕성']\n",
    "pos = solarsys.index('목성')\n",
    "solarsys.insert(pos,'소행성')\n",
    "print(solarsys)"
   ]
  },
  {
   "cell_type": "markdown",
   "metadata": {},
   "source": [
    "- insert() 메소드의 경우 해당 위치에 요소 삽입후 나머지 요소 뒤로 밀기"
   ]
  },
  {
   "cell_type": "markdown",
   "metadata": {},
   "source": [
    "### 111 리스트의 특정 위치의 요소 제거하기(del)"
   ]
  },
  {
   "cell_type": "code",
   "execution_count": 5,
   "metadata": {},
   "outputs": [
    {
     "name": "stdout",
     "output_type": "stream",
     "text": [
      "['수성', '금성', '지구', '화성', '목성', '토성', '천왕성', '해왕성']\n",
      "['수성', '금성', '지구', '화성', '목성', '토성', '해왕성']\n"
     ]
    }
   ],
   "source": [
    "solarsys = ['태양','수성','금성','지구','화성','목성','토성','천왕성','해왕성']\n",
    "del solarsys[0]\n",
    "print(solarsys)\n",
    "del solarsys[-2]\n",
    "print(solarsys)"
   ]
  },
  {
   "cell_type": "markdown",
   "metadata": {},
   "source": [
    "### 112 리스트에서 특정 요소 제거하기(remove)"
   ]
  },
  {
   "cell_type": "code",
   "execution_count": 6,
   "metadata": {},
   "outputs": [
    {
     "name": "stdout",
     "output_type": "stream",
     "text": [
      "['태양', '수성', '지구', '화성', '목성', '토성', '천왕성', '해왕성']\n"
     ]
    }
   ],
   "source": [
    "solarsys = ['태양','수성','금성','지구','화성','목성','토성','천왕성','해왕성']\n",
    "solarsys.remove('금성')\n",
    "print(solarsys)"
   ]
  },
  {
   "cell_type": "markdown",
   "metadata": {},
   "source": [
    "### 113 리스트에서 특정 구간에 있는 모든 요소 제거하기"
   ]
  },
  {
   "cell_type": "code",
   "execution_count": 9,
   "metadata": {},
   "outputs": [
    {
     "name": "stdout",
     "output_type": "stream",
     "text": [
      "['태양', '지구', '화성', '목성', '토성', '천왕성', '해왕성']\n"
     ]
    }
   ],
   "source": [
    "solarsys = ['태양','수성','금성','지구','화성','목성','토성','천왕성','해왕성']\n",
    "del solarsys[1:3]\n",
    "print(solarsys)"
   ]
  },
  {
   "cell_type": "markdown",
   "metadata": {},
   "source": [
    "### 114 리스트에 있는 요고 개수 구하기(len)"
   ]
  },
  {
   "cell_type": "code",
   "execution_count": 10,
   "metadata": {},
   "outputs": [
    {
     "name": "stdout",
     "output_type": "stream",
     "text": [
      "15\n"
     ]
    }
   ],
   "source": [
    "listdata = [2, 2, 1, 3, 8, 5, 7, 6, 3, 6, 2, 3, 9, 4, 4]\n",
    "listsize = len(listdata)\n",
    "print(listsize)"
   ]
  },
  {
   "cell_type": "markdown",
   "metadata": {},
   "source": [
    "### 115 리스트에 특정 요소 개수 구하기(count)"
   ]
  },
  {
   "cell_type": "code",
   "execution_count": 13,
   "metadata": {},
   "outputs": [
    {
     "name": "stdout",
     "output_type": "stream",
     "text": [
      "3 1\n"
     ]
    }
   ],
   "source": [
    "listdata = [2, 2, 1, 3, 8, 5, 7, 6, 3, 6, 2, 3, 9, 4, 4]\n",
    "c1 = listdata.count(2)\n",
    "c2 = listdata.count(8)\n",
    "print(c1, c2)\n"
   ]
  },
  {
   "cell_type": "markdown",
   "metadata": {},
   "source": [
    "### 116 리스트 제거하기(del)"
   ]
  },
  {
   "cell_type": "code",
   "execution_count": 14,
   "metadata": {},
   "outputs": [
    {
     "ename": "NameError",
     "evalue": "name 'listdata' is not defined",
     "output_type": "error",
     "traceback": [
      "\u001b[1;31m---------------------------------------------------------------------------\u001b[0m",
      "\u001b[1;31mNameError\u001b[0m                                 Traceback (most recent call last)",
      "\u001b[1;32m<ipython-input-14-859d69a42e92>\u001b[0m in \u001b[0;36m<module>\u001b[1;34m()\u001b[0m\n\u001b[0;32m      1\u001b[0m \u001b[0mlistdata\u001b[0m \u001b[1;33m=\u001b[0m \u001b[1;33m[\u001b[0m\u001b[1;36m2\u001b[0m\u001b[1;33m,\u001b[0m \u001b[1;36m2\u001b[0m\u001b[1;33m,\u001b[0m \u001b[1;36m1\u001b[0m\u001b[1;33m,\u001b[0m \u001b[1;36m3\u001b[0m\u001b[1;33m,\u001b[0m \u001b[1;36m8\u001b[0m\u001b[1;33m,\u001b[0m \u001b[1;36m5\u001b[0m\u001b[1;33m,\u001b[0m \u001b[1;36m7\u001b[0m\u001b[1;33m,\u001b[0m \u001b[1;36m6\u001b[0m\u001b[1;33m,\u001b[0m \u001b[1;36m3\u001b[0m\u001b[1;33m,\u001b[0m \u001b[1;36m6\u001b[0m\u001b[1;33m,\u001b[0m \u001b[1;36m2\u001b[0m\u001b[1;33m,\u001b[0m \u001b[1;36m3\u001b[0m\u001b[1;33m,\u001b[0m \u001b[1;36m9\u001b[0m\u001b[1;33m,\u001b[0m \u001b[1;36m4\u001b[0m\u001b[1;33m,\u001b[0m \u001b[1;36m4\u001b[0m\u001b[1;33m]\u001b[0m\u001b[1;33m\u001b[0m\u001b[0m\n\u001b[0;32m      2\u001b[0m \u001b[1;32mdel\u001b[0m \u001b[0mlistdata\u001b[0m\u001b[1;33m\u001b[0m\u001b[0m\n\u001b[1;32m----> 3\u001b[1;33m \u001b[0mprint\u001b[0m\u001b[1;33m(\u001b[0m\u001b[0mlistdata\u001b[0m\u001b[1;33m)\u001b[0m\u001b[1;33m\u001b[0m\u001b[0m\n\u001b[0m",
      "\u001b[1;31mNameError\u001b[0m: name 'listdata' is not defined"
     ]
    }
   ],
   "source": [
    "listdata = [2, 2, 1, 3, 8, 5, 7, 6, 3, 6, 2, 3, 9, 4, 4]\n",
    "del listdata\n",
    "print(listdata)"
   ]
  },
  {
   "cell_type": "markdown",
   "metadata": {},
   "source": [
    "- del 명령으로 list 객체를 메모리에서 제거"
   ]
  },
  {
   "cell_type": "markdown",
   "metadata": {},
   "source": [
    "### 117 리스트 요소 정렬하기 1)(sort)"
   ]
  },
  {
   "cell_type": "code",
   "execution_count": 16,
   "metadata": {},
   "outputs": [
    {
     "name": "stdout",
     "output_type": "stream",
     "text": [
      "['Aimy', 'Bob', 'Kelly', 'Mary', 'Michle', 'Sams', 'Tom']\n",
      "['Tom', 'Sams', 'Michle', 'Mary', 'Kelly', 'Bob', 'Aimy']\n"
     ]
    }
   ],
   "source": [
    "namelist = ['Mary','Sams','Aimy','Tom','Michle','Bob','Kelly']\n",
    "namelist.sort()\n",
    "print(namelist)\n",
    "namelist.sort(reverse = True)\n",
    "print(namelist)"
   ]
  },
  {
   "cell_type": "markdown",
   "metadata": {},
   "source": [
    "### 118 리스트 요소 정렬하기 2)(sorted)"
   ]
  },
  {
   "cell_type": "code",
   "execution_count": 19,
   "metadata": {},
   "outputs": [
    {
     "name": "stdout",
     "output_type": "stream",
     "text": [
      "['Mary', 'Sams', 'Aimy', 'Tom', 'Michle', 'Bob', 'Kelly']\n",
      "['Aimy', 'Bob', 'Kelly', 'Mary', 'Michle', 'Sams', 'Tom']\n",
      "['Tom', 'Sams', 'Michle', 'Mary', 'Kelly', 'Bob', 'Aimy']\n"
     ]
    }
   ],
   "source": [
    "namelist = ['Mary','Sams','Aimy','Tom','Michle','Bob','Kelly']\n",
    "ret1 = sorted(namelist)\n",
    "ret2 = sorted(namelist, reverse = True)\n",
    "print(namelist)\n",
    "print(ret1)\n",
    "print(ret2)"
   ]
  },
  {
   "cell_type": "markdown",
   "metadata": {},
   "source": [
    "### 119 리스트 요소 무작위로 섞기(shuffle)"
   ]
  },
  {
   "cell_type": "code",
   "execution_count": 20,
   "metadata": {},
   "outputs": [
    {
     "name": "stdout",
     "output_type": "stream",
     "text": [
      "[4, 8, 7, 2, 3, 5, 6, 10, 1, 9]\n",
      "[5, 1, 10, 8, 7, 6, 4, 9, 3, 2]\n",
      "[2, 9, 8, 5, 7, 3, 6, 1, 4, 10]\n"
     ]
    }
   ],
   "source": [
    "from random import shuffle\n",
    "\n",
    "listdata = list(range(1,11))\n",
    "for i in range(3):\n",
    "    shuffle(listdata)\n",
    "    print(listdata)"
   ]
  },
  {
   "cell_type": "markdown",
   "metadata": {},
   "source": [
    "### 120 리스트의 모든 요소를 인덱스와 쌍으로 추출하기(enumerate)"
   ]
  },
  {
   "cell_type": "code",
   "execution_count": 22,
   "metadata": {},
   "outputs": [
    {
     "name": "stdout",
     "output_type": "stream",
     "text": [
      "[(0, '태양'), (1, '수성'), (2, '금성'), (3, '지구'), (4, '화성'), (5, '목성'), (6, '토성'), (7, '천왕성'), (8, '해왕성')]\n",
      "태양계의 0번째 천체:태양\n",
      "태양계의 1번째 천체:수성\n",
      "태양계의 2번째 천체:금성\n",
      "태양계의 3번째 천체:지구\n",
      "태양계의 4번째 천체:화성\n",
      "태양계의 5번째 천체:목성\n",
      "태양계의 6번째 천체:토성\n",
      "태양계의 7번째 천체:천왕성\n",
      "태양계의 8번째 천체:해왕성\n"
     ]
    }
   ],
   "source": [
    "solarsys = ['태양','수성','금성','지구','화성','목성','토성','천왕성','해왕성']\n",
    "ret = list(enumerate(solarsys))\n",
    "print(ret)\n",
    "\n",
    "for i, body in enumerate(solarsys):\n",
    "    print('태양계의 %d번째 천체:%s'%(i, body))"
   ]
  },
  {
   "cell_type": "markdown",
   "metadata": {},
   "source": [
    "### 121 리스트의 모든 요소의 합 구하기(sum)"
   ]
  },
  {
   "cell_type": "code",
   "execution_count": 23,
   "metadata": {},
   "outputs": [
    {
     "name": "stdout",
     "output_type": "stream",
     "text": [
      "65\n"
     ]
    }
   ],
   "source": [
    "listdata = [2, 2, 1, 3, 8, 5, 7, 6, 3, 6, 2, 3, 9, 4, 4]\n",
    "ret1 = sum(listdata)\n",
    "print(ret1)"
   ]
  },
  {
   "cell_type": "markdown",
   "metadata": {},
   "source": [
    "### 122 리스트의 요소가 모두 참인지 확인하기(all,any)"
   ]
  },
  {
   "cell_type": "code",
   "execution_count": 25,
   "metadata": {},
   "outputs": [
    {
     "name": "stdout",
     "output_type": "stream",
     "text": [
      "False\n",
      "True\n",
      "True\n",
      "True\n",
      "False\n",
      "False\n"
     ]
    }
   ],
   "source": [
    "listdata1 = [0, 1, 2, 3, 4]\n",
    "listdata2 = [True, True, True]\n",
    "listdata3 = [\"\",[], (), {}, None, False]\n",
    "\n",
    "print(all(listdata1))\n",
    "print(any(listdata1))\n",
    "print(all(listdata2))\n",
    "print(any(listdata2))\n",
    "print(all(listdata3))\n",
    "print(any(listdata3))"
   ]
  },
  {
   "cell_type": "markdown",
   "metadata": {},
   "source": [
    "- 아래의 값은 모두 거짓  \n",
    "숫자 0  \n",
    "빈 문자열 '', \"\"  \n",
    "빈 리스트 []  \n",
    "빈 튜플 ()  \n",
    "빈 사전 {}  \n",
    "None  \n",
    "- 이외의 0이 아닌 숫자나 한 문자 이상의 문자열, 요소를 가진 리스트, 튜플, 사전 등은 모두 참"
   ]
  },
  {
   "cell_type": "markdown",
   "metadata": {},
   "source": [
    "### 123 사전에 요소 추가하기"
   ]
  },
  {
   "cell_type": "code",
   "execution_count": 27,
   "metadata": {},
   "outputs": [
    {
     "name": "stdout",
     "output_type": "stream",
     "text": [
      "{'지구': 'Earth', '목성': 'Jupiter', '금성': 'Venus', '수성': 'Mercury', '천왕성': 'Uranus', '해왕성': 'Neptune', '토성': 'Saturn', '화성': 'Mars', '태양': 'sun'}\n"
     ]
    }
   ],
   "source": [
    "solar1 = ['태양','수성','금성','지구','화성','목성','토성','천왕성','해왕성']\n",
    "solar2 = ['sun','Mercury','Venus','Earth','Mars','Jupiter','Saturn','Uranus','Neptune']\n",
    "solardict ={}\n",
    "for i, k in enumerate(solar1):\n",
    "    val = solar2[i]\n",
    "    solardict[k] = val\n",
    "print(solardict)"
   ]
  },
  {
   "cell_type": "markdown",
   "metadata": {},
   "source": [
    "### 124 사전의 특정 요소값 변경하기"
   ]
  },
  {
   "cell_type": "code",
   "execution_count": 29,
   "metadata": {},
   "outputs": [
    {
     "name": "stdout",
     "output_type": "stream",
     "text": [
      "{'Tom': 20245, 'Michale': 27115, 'Sams': 2111, 'Aimy': 9778, 'Kelly': 7855, 'Mary': 10999, 'Bob': 5887}\n",
      "{'Tom': 20245, 'Michale': 27115, 'Sams': 2111, 'Aimy': 10000, 'Kelly': 7855, 'Mary': 10999, 'Bob': 5887}\n"
     ]
    }
   ],
   "source": [
    "names = {'Mary':10999,'Sams':2111,'Aimy':9778,'Tom':20245,'Michale':27115,'Bob':5887,'Kelly':7855}\n",
    "print(names)\n",
    "names['Aimy']= 10000\n",
    "print(names)"
   ]
  },
  {
   "cell_type": "markdown",
   "metadata": {},
   "source": [
    "### 125  사전의 특정 요소 제거하기(del)"
   ]
  },
  {
   "cell_type": "code",
   "execution_count": 31,
   "metadata": {},
   "outputs": [
    {
     "name": "stdout",
     "output_type": "stream",
     "text": [
      "{'Tom': 20245, 'Michale': 27115, 'Sams': 2111, 'Aimy': 9778, 'Kelly': 7855, 'Mary': 10999, 'Bob': 5887}\n",
      "{'Tom': 20245, 'Michale': 27115, 'Sams': 2111, 'Aimy': 9778, 'Kelly': 7855, 'Bob': 5887}\n"
     ]
    }
   ],
   "source": [
    "names = {'Mary':10999,'Sams':2111,'Aimy':9778,'Tom':20245,'Michale':27115,'Bob':5887,'Kelly':7855}\n",
    "print(names)\n",
    "del names['Mary']\n",
    "print(names)"
   ]
  },
  {
   "cell_type": "markdown",
   "metadata": {},
   "source": [
    "### 126 사전의 모든 요소 제거하기(clear)"
   ]
  },
  {
   "cell_type": "code",
   "execution_count": 33,
   "metadata": {},
   "outputs": [
    {
     "name": "stdout",
     "output_type": "stream",
     "text": [
      "{'Tom': 20245, 'Michale': 27115, 'Sams': 2111, 'Aimy': 9778, 'Kelly': 7855, 'Mary': 10999, 'Bob': 5887}\n",
      "{}\n"
     ]
    }
   ],
   "source": [
    "names = {'Mary':10999,'Sams':2111,'Aimy':9778,'Tom':20245,'Michale':27115,'Bob':5887,'Kelly':7855}\n",
    "print(names)\n",
    "names.clear()\n",
    "print(names)"
   ]
  },
  {
   "cell_type": "markdown",
   "metadata": {},
   "source": [
    "### 127 사전에서 키만 추출하기(keys)"
   ]
  },
  {
   "cell_type": "code",
   "execution_count": 37,
   "metadata": {},
   "outputs": [
    {
     "name": "stdout",
     "output_type": "stream",
     "text": [
      "dict_keys(['Tom', 'Michale', 'Sams', 'Aimy', 'Kelly', 'Mary', 'Bob'])\n",
      "Key:Tom\t Values:20245\n",
      "Key:Michale\t Values:27115\n",
      "Key:Sams\t Values:2111\n",
      "Key:Aimy\t Values:9778\n",
      "Key:Kelly\t Values:7855\n",
      "Key:Mary\t Values:10999\n",
      "Key:Bob\t Values:5887\n",
      "['Tom', 'Michale', 'Sams', 'Aimy', 'Kelly', 'Mary', 'Bob']\n"
     ]
    }
   ],
   "source": [
    "names = {'Mary':10999,'Sams':2111,'Aimy':9778,'Tom':20245,'Michale':27115,'Bob':5887,'Kelly':7855}\n",
    "\n",
    "ks = names.keys()\n",
    "print(ks)\n",
    "\n",
    "for k in ks:\n",
    "    print('Key:%s\\t Values:%d'%(k,names[k]))\n",
    "    \n",
    "key_list = list(names.keys())\n",
    "print(key_list)"
   ]
  },
  {
   "cell_type": "markdown",
   "metadata": {},
   "source": [
    "### 128 사전에서 값만 추출하기(values)"
   ]
  },
  {
   "cell_type": "code",
   "execution_count": 40,
   "metadata": {},
   "outputs": [
    {
     "name": "stdout",
     "output_type": "stream",
     "text": [
      "dict_values([20245, 27115, 2111, 9778, 7855, 10999, 5887])\n",
      "[20245, 27115, 2111, 9778, 7855, 10999, 5887]\n",
      "83990\n"
     ]
    }
   ],
   "source": [
    "names = {'Mary':10999,'Sams':2111,'Aimy':9778,'Tom':20245,'Michale':27115,'Bob':5887,'Kelly':7855}\n",
    "values = names.values()\n",
    "print(values)\n",
    "\n",
    "\n",
    "values_list = list(names.values())\n",
    "print(values_list)\n",
    "ret = sum(values_list)\n",
    "print(ret)"
   ]
  },
  {
   "cell_type": "markdown",
   "metadata": {},
   "source": [
    "### 129 사전 요소를 모두 추출하기(items)"
   ]
  },
  {
   "cell_type": "code",
   "execution_count": 45,
   "metadata": {},
   "outputs": [
    {
     "name": "stdout",
     "output_type": "stream",
     "text": [
      "dict_items([('Tom', 20245), ('Michale', 27115), ('Sams', 2111), ('Aimy', 9778), ('Kelly', 7855), ('Mary', 10999), ('Bob', 5887)])\n",
      "[('Tom', 20245), ('Michale', 27115), ('Sams', 2111), ('Aimy', 9778), ('Kelly', 7855), ('Mary', 10999), ('Bob', 5887)]\n",
      "['Tom', 20245]\n",
      "['Michale', 27115]\n",
      "['Sams', 2111]\n",
      "['Aimy', 9778]\n",
      "['Kelly', 7855]\n",
      "['Mary', 10999]\n",
      "['Bob', 5887]\n"
     ]
    }
   ],
   "source": [
    "names = {'Mary':10999,'Sams':2111,'Aimy':9778,'Tom':20245,'Michale':27115,'Bob':5887,'Kelly':7855}\n",
    "items = names.items()\n",
    "print(items)\n",
    "\n",
    "items_list = list(items)\n",
    "print(items_list)\n",
    "for item in items:\n",
    "    print(list(item))"
   ]
  },
  {
   "cell_type": "markdown",
   "metadata": {},
   "source": [
    "### 130 사전에 특정 키가 존재하는지 확인하기(in)"
   ]
  },
  {
   "cell_type": "code",
   "execution_count": 52,
   "metadata": {},
   "outputs": [
    {
     "name": "stdout",
     "output_type": "stream",
     "text": [
      "이름을 입력하세요123\n",
      "자료에 <123>란 이름은 존재하지 않아 임마\n",
      "출생아수 입력12341\n",
      "없음\n"
     ]
    }
   ],
   "source": [
    "names = {'Mary':10999,'Sams':2111,'Aimy':9778,'Tom':20245,'Michale':27115,'Bob':5887,'Kelly':7855}\n",
    "\n",
    "k = input('이름을 입력하세요')\n",
    "if k in names:\n",
    "    print('이름 :%s, 출생아수 : %d' %(k, names[k]))\n",
    "else:\n",
    "    print('자료에 <%s>란 이름은 존재하지 않아 임마' %k)\n",
    "    \n",
    "value = input('출생아수 입력')\n",
    "value = int(value)\n",
    "if value in names.values():\n",
    "    print('존재')\n",
    "else :\n",
    "    print('없음')"
   ]
  },
  {
   "cell_type": "markdown",
   "metadata": {},
   "source": [
    "### 131 사전 정렬하기(sorted)"
   ]
  },
  {
   "cell_type": "code",
   "execution_count": 62,
   "metadata": {},
   "outputs": [
    {
     "name": "stdout",
     "output_type": "stream",
     "text": [
      "['Aimy', 'Bob', 'Kelly', 'Mary', 'Michale', 'Sams', 'Tom']\n",
      "[('Aimy', 9778), ('Bob', 5887), ('Kelly', 7855), ('Mary', 10999), ('Michale', 27115), ('Sams', 2111), ('Tom', 20245)]\n",
      "[('Sams', 2111), ('Bob', 5887), ('Kelly', 7855), ('Aimy', 9778), ('Mary', 10999), ('Tom', 20245), ('Michale', 27115)]\n",
      "[('Michale', 27115), ('Tom', 20245), ('Mary', 10999), ('Aimy', 9778), ('Kelly', 7855), ('Bob', 5887), ('Sams', 2111)]\n",
      "[2111, 5887, 7855, 9778, 10999, 20245, 27115]\n",
      "[27115, 20245, 10999, 9778, 7855, 5887, 2111]\n"
     ]
    }
   ],
   "source": [
    "names = {'Mary':10999,'Sams':2111,'Aimy':9778,'Tom':20245,'Michale':27115,'Bob':5887,'Kelly':7855}\n",
    "\n",
    "ret1 = sorted(names)\n",
    "print(ret1)\n",
    "\n",
    "def f1(x):\n",
    "    return x[0]\n",
    "\n",
    "def f2(x):\n",
    "    return x[1]\n",
    "\n",
    "ret2 = sorted(names.items(), key = f1)\n",
    "print(ret2)\n",
    "\n",
    "ret3 = sorted(names.items(), key = f2)\n",
    "print(ret3)\n",
    "\n",
    "ret4 = sorted(names.items(), key = f2, reverse = True)\n",
    "print(ret4)\n",
    "\n",
    "ret5 = sorted(names.values())\n",
    "print(ret5)\n",
    "\n",
    "def f3(x):\n",
    "    return int(x)\n",
    "ret6 = sorted(names.values(), key = f3)\n",
    "print(ret6)"
   ]
  },
  {
   "cell_type": "markdown",
   "metadata": {},
   "source": [
    "### 132 문자 코드값 구하기(ord)"
   ]
  },
  {
   "cell_type": "code",
   "execution_count": 65,
   "metadata": {},
   "outputs": [
    {
     "name": "stdout",
     "output_type": "stream",
     "text": [
      "문자 1개를 입력해가\n",
      "문자 가 코드값 44032[0xac00]\n"
     ]
    }
   ],
   "source": [
    "ch = input('문자 1개를 입력해')\n",
    "if len(ch) != 0:\n",
    "    ch = ch[0]\n",
    "    chv = ord(ch)\n",
    "    print('문자 %s 코드값 %d[%s]'%(ch, chv, hex(chv)))"
   ]
  },
  {
   "cell_type": "markdown",
   "metadata": {},
   "source": [
    "### 133 코드값에 대응하는 문자 얻기(chr)"
   ]
  },
  {
   "cell_type": "code",
   "execution_count": 69,
   "metadata": {},
   "outputs": [
    {
     "name": "stdout",
     "output_type": "stream",
     "text": [
      "코드값을 입력하세요114\n",
      "코드값 114[0x72], 문자 r\n"
     ]
    }
   ],
   "source": [
    "val = input('코드값을 입력하세요')\n",
    "val = int(val)\n",
    "\n",
    "try:\n",
    "    ch = chr(val)\n",
    "    print('코드값 %d[%s], 문자 %s' %(val, hex(val),ch))\n",
    "    \n",
    "except:\n",
    "    print('입력한 <%d>에 대한 문자 없어....'%val)"
   ]
  },
  {
   "cell_type": "markdown",
   "metadata": {},
   "source": [
    "### 134 문자열로 된 식을 실행하기(eval)"
   ]
  },
  {
   "cell_type": "code",
   "execution_count": 70,
   "metadata": {},
   "outputs": [
    {
     "name": "stdout",
     "output_type": "stream",
     "text": [
      "<2+3>를 실행한 결과 : 5\n",
      "<round(3.7)>를 실행한 결과 : 4\n"
     ]
    }
   ],
   "source": [
    "expr1 = '2+3'\n",
    "expr2 = 'round(3.7)'\n",
    "ret1 = eval(expr1)\n",
    "ret2 = eval(expr2)\n",
    "print('<%s>를 실행한 결과 : %d'%(expr1, ret1))\n",
    "print('<%s>를 실행한 결과 : %d'%(expr2, ret2))"
   ]
  },
  {
   "cell_type": "markdown",
   "metadata": {},
   "source": [
    "- 파이썬으로 실행 불가능한 문자열일 경우 아래와 같은  SyntaxError 발생  \n",
    "SnytaxError: unexpected EOF while parsing"
   ]
  },
  {
   "cell_type": "markdown",
   "metadata": {},
   "source": [
    "### 135 이름없는 한줄짜리 함수 만들기(lambda)"
   ]
  },
  {
   "cell_type": "code",
   "execution_count": 74,
   "metadata": {},
   "outputs": [
    {
     "name": "stdout",
     "output_type": "stream",
     "text": [
      "4\n",
      "intro.pptx\n",
      "Report.docx\n",
      "[('Aimy', 9778), ('Bob', 5887), ('Kelly', 7855), ('Mary', 10999), ('Michale', 27115), ('Sams', 2111), ('Tom', 20245)]\n"
     ]
    }
   ],
   "source": [
    "add = lambda x,y : x+y\n",
    "ret = add(1,3)\n",
    "print(ret)\n",
    "\n",
    "funcs = [lambda x: x+'.pptx', lambda x : x+'.docx']\n",
    "ret1 = funcs[0]('intro')\n",
    "ret2 = funcs[1]('Report')\n",
    "print(ret1)\n",
    "print(ret2)\n",
    "\n",
    "names = {'Mary':10999,'Sams':2111,'Aimy':9778,'Tom':20245,'Michale':27115,'Bob':5887,'Kelly':7855}\n",
    "\n",
    "ret3 = sorted(names.items(), key = lambda x :x[0])\n",
    "print(ret3)"
   ]
  },
  {
   "cell_type": "markdown",
   "metadata": {},
   "source": [
    "### 136 인자를 바꾸어 함수를 반복 호출하여 결과값 얻기(map)"
   ]
  },
  {
   "cell_type": "code",
   "execution_count": 76,
   "metadata": {},
   "outputs": [
    {
     "name": "stdout",
     "output_type": "stream",
     "text": [
      "[1, 4, 9, 16, 25]\n"
     ]
    }
   ],
   "source": [
    "f = lambda x : x*x\n",
    "args = [1,2,3,4,5]\n",
    "ret = map(f,args)\n",
    "print(list(ret))"
   ]
  },
  {
   "cell_type": "markdown",
   "metadata": {},
   "source": [
    "- 두개 이상의 반복되는 인자에 대해서도 적용가능"
   ]
  },
  {
   "cell_type": "code",
   "execution_count": 79,
   "metadata": {},
   "outputs": [
    {
     "name": "stdout",
     "output_type": "stream",
     "text": [
      "[4, 8, 16, 32, 64]\n"
     ]
    }
   ],
   "source": [
    "f = lambda x, y: x**y\n",
    "x = [2,2,2,2,2]\n",
    "y = [2,3,4,5,6]\n",
    "\n",
    "ret = map(f, x, y)\n",
    "print(list(ret))\n"
   ]
  }
 ],
 "metadata": {
  "kernelspec": {
   "display_name": "Python 3",
   "language": "python",
   "name": "python3"
  },
  "language_info": {
   "codemirror_mode": {
    "name": "ipython",
    "version": 3
   },
   "file_extension": ".py",
   "mimetype": "text/x-python",
   "name": "python",
   "nbconvert_exporter": "python",
   "pygments_lexer": "ipython3",
   "version": "3.5.3"
  }
 },
 "nbformat": 4,
 "nbformat_minor": 2
}
