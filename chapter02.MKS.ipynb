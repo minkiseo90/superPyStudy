{
 "cells": [
  {
   "cell_type": "markdown",
   "metadata": {
    "collapsed": true
   },
   "source": [
    "#2진수\n",
    "bin_data = 0b10"
   ]
  },
  {
   "cell_type": "code",
   "execution_count": 3,
   "metadata": {
    "scrolled": true
   },
   "outputs": [
    {
     "data": {
      "text/plain": [
       "2"
      ]
     },
     "execution_count": 3,
     "metadata": {},
     "output_type": "execute_result"
    }
   ],
   "source": [
    "bin_data"
   ]
  },
  {
   "cell_type": "code",
   "execution_count": 4,
   "metadata": {},
   "outputs": [
    {
     "data": {
      "text/plain": [
       "8"
      ]
     },
     "execution_count": 4,
     "metadata": {},
     "output_type": "execute_result"
    }
   ],
   "source": [
    "#8진수\n",
    "oct_data = 0o10\n",
    "oct_data"
   ]
  },
  {
   "cell_type": "code",
   "execution_count": 5,
   "metadata": {},
   "outputs": [
    {
     "data": {
      "text/plain": [
       "16"
      ]
     },
     "execution_count": 5,
     "metadata": {},
     "output_type": "execute_result"
    }
   ],
   "source": [
    "#16진수\n",
    "hex_data=0x10\n",
    "hex_data"
   ]
  },
  {
   "cell_type": "code",
   "execution_count": 7,
   "metadata": {},
   "outputs": [
    {
     "data": {
      "text/plain": [
       "1"
      ]
     },
     "execution_count": 7,
     "metadata": {},
     "output_type": "execute_result"
    }
   ],
   "source": [
    "a = 0\n",
    "a += 1 #a = a+1 과 같은말\n",
    "a"
   ]
  },
  {
   "cell_type": "code",
   "execution_count": 11,
   "metadata": {},
   "outputs": [
    {
     "name": "stdout",
     "output_type": "stream",
     "text": [
      "True\n"
     ]
    }
   ],
   "source": [
    "str1 = \"abc\"; str2 = \"python\"\n",
    "print(str1 < str2) #문자열의 크기비교는 알파벳순으로 함"
   ]
  },
  {
   "cell_type": "code",
   "execution_count": 1,
   "metadata": {
    "collapsed": true
   },
   "outputs": [],
   "source": [
    "bit1 = 0x61\n",
    "bit2 = 0x62"
   ]
  },
  {
   "cell_type": "code",
   "execution_count": 5,
   "metadata": {},
   "outputs": [
    {
     "name": "stdout",
     "output_type": "stream",
     "text": [
      "0x60\n",
      "0x63\n",
      "0x3\n",
      "0x30\n",
      "0x184\n",
      "-0x62\n"
     ]
    }
   ],
   "source": [
    "print(hex(bit1&bit2)) #bit간 and 연산(자릿수 별로 곱하기라고 보면됨)\n",
    "print(hex(bit1|bit2)) #bit간 or 연산(자릿수 별로 더하기로 보면 됨. 단, 1+1 = 1)\n",
    "print(hex(bit1^bit2)) #bit간 배타적 논리합 xor 연산 (각 자리별 비트 값이 같으면 0, 다르면 1)\n",
    "print(hex(bit1>>1)) #모든 비트를 1만큼 오른쪽으로 시프트 시킴 (맨 앞자리는 0으로 채워짐)\n",
    "print(hex(bit1<<2)) #모든 비트를 2만큼 왼쪽으로 시프트 시킴(맨 뒷자리는 0으로 채워짐)\n",
    "print(hex(~bit1)) #비트의 보수를 출력 (왜 그런지 의논해보기)"
   ]
  },
  {
   "cell_type": "code",
   "execution_count": 7,
   "metadata": {},
   "outputs": [
    {
     "name": "stdout",
     "output_type": "stream",
     "text": [
      "[1, 2, 3]\n",
      "2\n"
     ]
    }
   ],
   "source": [
    "listdata = [1,2,[1,2,3]]\n",
    "print(listdata[-1]) #음수 인덱스는 끝에서부터 몇번째인지 \n",
    "print(listdata[-1][-2])"
   ]
  },
  {
   "cell_type": "code",
   "execution_count": 10,
   "metadata": {},
   "outputs": [
    {
     "name": "stdout",
     "output_type": "stream",
     "text": [
      "Time is Mone\n",
      "y!!\n",
      "Time is Money!!\n",
      "Tm sMny!\n"
     ]
    }
   ],
   "source": [
    "strdata = \"Time is Money!!\"\n",
    "#슬라이싱 기본 --> (시작:끝:간격)\n",
    "print(strdata[:-3])\n",
    "print(strdata[-3:])\n",
    "print(strdata[:]) #전체 출력\n",
    "print(strdata[::2]) #시작, 끝이 생략 되어있으므로 전체 출력이고 간격이 2 이므로 인덱스는 1,3,5,7,9,11,13"
   ]
  },
  {
   "cell_type": "code",
   "execution_count": 12,
   "metadata": {},
   "outputs": [
    {
     "name": "stdout",
     "output_type": "stream",
     "text": [
      "I lovePython\n"
     ]
    }
   ],
   "source": [
    "strdata1 = \"I love \"; strdata2 = \"Python\"; strdata3 = \"you\"\n",
    "listdata1 = [1,2,3]; listdata2 = [4,5,6]\n",
    "print(strdata1 + strdata2)"
   ]
  },
  {
   "cell_type": "code",
   "execution_count": 13,
   "metadata": {},
   "outputs": [
    {
     "ename": "TypeError",
     "evalue": "must be str, not list",
     "output_type": "error",
     "traceback": [
      "\u001b[1;31m---------------------------------------------------------------------------\u001b[0m",
      "\u001b[1;31mTypeError\u001b[0m                                 Traceback (most recent call last)",
      "\u001b[1;32m<ipython-input-13-46cd10cacbd8>\u001b[0m in \u001b[0;36m<module>\u001b[1;34m()\u001b[0m\n\u001b[1;32m----> 1\u001b[1;33m \u001b[0mprint\u001b[0m\u001b[1;33m(\u001b[0m\u001b[0mstrdata1\u001b[0m \u001b[1;33m+\u001b[0m \u001b[0mlistdata1\u001b[0m\u001b[1;33m)\u001b[0m\u001b[1;33m\u001b[0m\u001b[0m\n\u001b[0m",
      "\u001b[1;31mTypeError\u001b[0m: must be str, not list"
     ]
    }
   ],
   "source": [
    "print(strdata1 + listdata1) #자료형이 같아야지만 시퀀스 자료가 연결됨"
   ]
  },
  {
   "cell_type": "code",
   "execution_count": 14,
   "metadata": {},
   "outputs": [
    {
     "name": "stdout",
     "output_type": "stream",
     "text": [
      "나는 Java보다 Python에 더 익숙합니다\n",
      "5 + 10 = 15\n",
      "작년 세계 경제 성장률은 전년에 비해 5%포인트 증가했다\n"
     ]
    }
   ],
   "source": [
    "txt1 = \"Java\"; txt2 = \"Python\"\n",
    "num1 = 5; num2 = 10\n",
    "print(\"나는 %s보다 %s에 더 익숙합니다\"%(txt1, txt2))\n",
    "print(\"%d + %d = %d\"%(num1,num2,num1+num2))\n",
    "print(\"작년 세계 경제 성장률은 전년에 비해 %d%%포인트 증가했다\"%num1)"
   ]
  },
  {
   "cell_type": "code",
   "execution_count": 15,
   "metadata": {
    "collapsed": true
   },
   "outputs": [],
   "source": [
    "# %s 는 문자열\n",
    "# %c 는 문자나 기호 한개에 대응\n",
    "# %f 는 실수에 대응\n",
    "# %d 는 정수에 대응\n",
    "# %% 는 %기호 자체를 표시"
   ]
  },
  {
   "cell_type": "code",
   "execution_count": 17,
   "metadata": {},
   "outputs": [
    {
     "name": "stdout",
     "output_type": "stream",
     "text": [
      " 진행률 100%"
     ]
    }
   ],
   "source": [
    "from time import sleep\n",
    "for i in range(100):\n",
    "    msg = \"\\r 진행률 %d%%\"%(i+1)\n",
    "    print(\"\"*len(msg), end =\"\")\n",
    "    print(msg, end =\"\")\n",
    "    sleep(0.1)"
   ]
  },
  {
   "cell_type": "code",
   "execution_count": 19,
   "metadata": {},
   "outputs": [
    {
     "name": "stdout",
     "output_type": "stream",
     "text": [
      "작은 따옴표(')와 큰 따옴표(\")는 문자열을 정의할 때 사용합니다\n"
     ]
    }
   ],
   "source": [
    "print(\"작은 따옴표(\\')와 큰 따옴표(\\\")는 문자열을 정의할 때 사용합니다\") # \\' 또또는 \\\"는 따옴표 가히ㅗ 자체를 표시"
   ]
  },
  {
   "cell_type": "code",
   "execution_count": 20,
   "metadata": {
    "collapsed": true
   },
   "outputs": [],
   "source": [
    "tuple3 = (1,\"a\",\"abc\", [1,2,3,4,5],[\"a\",\"b\",\"c\"])"
   ]
  },
  {
   "cell_type": "code",
   "execution_count": 22,
   "metadata": {},
   "outputs": [
    {
     "data": {
      "text/plain": [
       "[1, 5, 3, 4, 5]"
      ]
     },
     "execution_count": 22,
     "metadata": {},
     "output_type": "execute_result"
    }
   ],
   "source": [
    "tuple3[3][1] = 5\n",
    "tuple3[3] #튜플 자체의 요소는 바꿀 수 없지만 리스트인 요소는 바꿀 수 가 있음"
   ]
  },
  {
   "cell_type": "code",
   "execution_count": 23,
   "metadata": {
    "collapsed": true
   },
   "outputs": [],
   "source": [
    "def add_number(n1,n2):\n",
    "    ret = n1+n2\n",
    "    return ret"
   ]
  },
  {
   "cell_type": "code",
   "execution_count": 24,
   "metadata": {},
   "outputs": [
    {
     "data": {
      "text/plain": [
       "25"
      ]
     },
     "execution_count": 24,
     "metadata": {},
     "output_type": "execute_result"
    }
   ],
   "source": [
    "add_number(10,15)"
   ]
  },
  {
   "cell_type": "code",
   "execution_count": null,
   "metadata": {
    "collapsed": true
   },
   "outputs": [],
   "source": [
    "def add_number(n1,n2):\n",
    "    ret = n1+n2\n",
    "    print(ret)"
   ]
  },
  {
   "cell_type": "code",
   "execution_count": 30,
   "metadata": {},
   "outputs": [
    {
     "name": "stdout",
     "output_type": "stream",
     "text": [
      "25\n"
     ]
    }
   ],
   "source": [
    "add_number(10,15)"
   ]
  },
  {
   "cell_type": "code",
   "execution_count": 34,
   "metadata": {
    "collapsed": true
   },
   "outputs": [],
   "source": [
    "def func2(width, height, **kwargs):\n",
    "    print(kwargs)\n"
   ]
  },
  {
   "cell_type": "code",
   "execution_count": 35,
   "metadata": {},
   "outputs": [
    {
     "name": "stdout",
     "output_type": "stream",
     "text": [
      "{}\n"
     ]
    }
   ],
   "source": [
    "func2(10,20)"
   ]
  },
  {
   "cell_type": "code",
   "execution_count": 36,
   "metadata": {},
   "outputs": [
    {
     "name": "stdout",
     "output_type": "stream",
     "text": [
      "{'depth': 50, 'color': 'blue'}\n"
     ]
    }
   ],
   "source": [
    "func2(10,20, depth = 50, color = \"blue\")"
   ]
  },
  {
   "cell_type": "markdown",
   "metadata": {
    "collapsed": true
   },
   "source": [
    "### 41.지역변수와 전역변수 이해하기"
   ]
  },
  {
   "cell_type": "code",
   "execution_count": 1,
   "metadata": {
    "collapsed": true
   },
   "outputs": [],
   "source": [
    "param = 10\n",
    "strdata = \"전역변수\"\n",
    "\n",
    "def func1():\n",
    "    strdata = \"지역변수\"\n",
    "    print(strdata)\n",
    "\n",
    "def func2(param):\n",
    "    param = 1\n",
    "    \n",
    "def func3():\n",
    "    global param\n",
    "    param = 50"
   ]
  },
  {
   "cell_type": "code",
   "execution_count": 2,
   "metadata": {},
   "outputs": [
    {
     "name": "stdout",
     "output_type": "stream",
     "text": [
      "지역변수\n"
     ]
    }
   ],
   "source": [
    "func1()"
   ]
  },
  {
   "cell_type": "code",
   "execution_count": 3,
   "metadata": {},
   "outputs": [
    {
     "name": "stdout",
     "output_type": "stream",
     "text": [
      "전역변수\n"
     ]
    }
   ],
   "source": [
    "print(strdata)"
   ]
  },
  {
   "cell_type": "code",
   "execution_count": 4,
   "metadata": {},
   "outputs": [
    {
     "name": "stdout",
     "output_type": "stream",
     "text": [
      "10\n"
     ]
    }
   ],
   "source": [
    "print(param)"
   ]
  },
  {
   "cell_type": "code",
   "execution_count": 8,
   "metadata": {},
   "outputs": [
    {
     "name": "stdout",
     "output_type": "stream",
     "text": [
      "10\n"
     ]
    }
   ],
   "source": [
    "func2(param)\n",
    "print(param)"
   ]
  },
  {
   "cell_type": "code",
   "execution_count": 16,
   "metadata": {},
   "outputs": [
    {
     "name": "stdout",
     "output_type": "stream",
     "text": [
      "50\n"
     ]
    }
   ],
   "source": [
    "func3()\n",
    "print(param)"
   ]
  },
  {
   "cell_type": "markdown",
   "metadata": {},
   "source": [
    "### 42. 함수 리턴값 이해하기"
   ]
  },
  {
   "cell_type": "code",
   "execution_count": 17,
   "metadata": {},
   "outputs": [
    {
     "name": "stdout",
     "output_type": "stream",
     "text": [
      "(3, 2, 1)\n"
     ]
    }
   ],
   "source": [
    "def reverse(x,y,z):\n",
    "    return z,y,x\n",
    "\n",
    "ret = reverse(1,2,3)\n",
    "print(ret)"
   ]
  },
  {
   "cell_type": "code",
   "execution_count": 18,
   "metadata": {},
   "outputs": [
    {
     "name": "stdout",
     "output_type": "stream",
     "text": [
      "c\n",
      "b\n",
      "a\n"
     ]
    }
   ],
   "source": [
    "r1,r2,r3 = reverse(\"a\", \"b\", \"c\")\n",
    "print(r1); print(r2); print(r3)"
   ]
  },
  {
   "cell_type": "markdown",
   "metadata": {},
   "source": [
    "### 43. 함수 모듈 이해하기"
   ]
  },
  {
   "cell_type": "code",
   "execution_count": 19,
   "metadata": {},
   "outputs": [
    {
     "name": "stdout",
     "output_type": "stream",
     "text": [
      "5초간 프로그램을 정지합니다.\n",
      "5초가 지나갔습니다.\n"
     ]
    }
   ],
   "source": [
    "import time\n",
    "\n",
    "print('5초간 프로그램을 정지합니다.')\n",
    "time.sleep(5)\n",
    "print(\"5초가 지나갔습니다.\")"
   ]
  },
  {
   "cell_type": "markdown",
   "metadata": {
    "collapsed": true
   },
   "source": [
    "### 50. 클래스 멤버와 인스턴스 멤버 이해하기"
   ]
  },
  {
   "cell_type": "code",
   "execution_count": 4,
   "metadata": {},
   "outputs": [
    {
     "name": "stdout",
     "output_type": "stream",
     "text": [
      "안녕하세요!\n",
      "안녕\n",
      "안녕하세요!\n"
     ]
    }
   ],
   "source": [
    "class MyClass:\n",
    "    var = \"안녕하세요!\"\n",
    "    def sayHello(self):\n",
    "        param1 = \"안녕\"\n",
    "        self.param2 = \"하이\"\n",
    "        print(param1)\n",
    "        print(self.var)\n",
    "        \n",
    "obj = MyClass()\n",
    "print(obj.var)\n",
    "obj.sayHello()\n",
    "#obj.praram1"
   ]
  },
  {
   "cell_type": "markdown",
   "metadata": {},
   "source": [
    "### 51. 클래스 메소드 이해하기"
   ]
  },
  {
   "cell_type": "code",
   "execution_count": 5,
   "metadata": {
    "collapsed": true
   },
   "outputs": [],
   "source": [
    "class MyClass:\n",
    "    def sayHello(self):\n",
    "        print(\"안녕하세요\")\n",
    "        \n",
    "    def sayBye(self, name):\n",
    "        print(\"%s! 다음에 보자!\" %name)\n",
    "        \n",
    "obj = MyClass()"
   ]
  },
  {
   "cell_type": "code",
   "execution_count": 6,
   "metadata": {},
   "outputs": [
    {
     "name": "stdout",
     "output_type": "stream",
     "text": [
      "안녕하세요\n"
     ]
    }
   ],
   "source": [
    "obj.sayHello()"
   ]
  },
  {
   "cell_type": "code",
   "execution_count": 8,
   "metadata": {},
   "outputs": [
    {
     "name": "stdout",
     "output_type": "stream",
     "text": [
      "철수! 다음에 보자!\n"
     ]
    }
   ],
   "source": [
    "obj.sayBye(\"철수\")"
   ]
  },
  {
   "cell_type": "markdown",
   "metadata": {},
   "source": [
    "### 52. 클래스 생성자 이해하기"
   ]
  },
  {
   "cell_type": "code",
   "execution_count": 9,
   "metadata": {},
   "outputs": [
    {
     "name": "stdout",
     "output_type": "stream",
     "text": [
      "MyClass 인스턴스 객체가 생성되었습니다\n"
     ]
    }
   ],
   "source": [
    "class MyClass:\n",
    "    def __init__(self):\n",
    "        self.var = \"안녕하세요!\"\n",
    "        print(\"MyClass 인스턴스 객체가 생성되었습니다\")\n",
    "\n",
    "obj = MyClass()"
   ]
  },
  {
   "cell_type": "code",
   "execution_count": 10,
   "metadata": {},
   "outputs": [
    {
     "name": "stdout",
     "output_type": "stream",
     "text": [
      "안녕하세요!\n"
     ]
    }
   ],
   "source": [
    "print(obj.var)"
   ]
  },
  {
   "cell_type": "markdown",
   "metadata": {},
   "source": [
    "### 53. 클래스 소멸자 이해하기"
   ]
  },
  {
   "cell_type": "code",
   "execution_count": 11,
   "metadata": {},
   "outputs": [
    {
     "name": "stdout",
     "output_type": "stream",
     "text": [
      "MyClass 인스턴스 객체가 메모리에서 제거됩니다\n"
     ]
    }
   ],
   "source": [
    "class MyClass:\n",
    "    def __del__(self):\n",
    "        print(\"MyClass 인스턴스 객체가 메모리에서 제거됩니다\")\n",
    "\n",
    "obj = MyClass()\n",
    "del obj"
   ]
  },
  {
   "cell_type": "markdown",
   "metadata": {},
   "source": [
    "### 54. 클래스 상속 이해하기"
   ]
  },
  {
   "cell_type": "code",
   "execution_count": 26,
   "metadata": {},
   "outputs": [],
   "source": [
    "class Add:\n",
    "    def add(self, n1, n2):\n",
    "        return n1+n2\n",
    "    \n",
    "class Calculator(Add):\n",
    "    def sub(self, n1, n2):\n",
    "        return n1-n2\n",
    "    \n",
    "obj = Calculator()\n",
    "#Add가 부모클래스, Calculator가 자식 클래스"
   ]
  },
  {
   "cell_type": "code",
   "execution_count": 29,
   "metadata": {},
   "outputs": [
    {
     "name": "stdout",
     "output_type": "stream",
     "text": [
      "3\n",
      "-1\n"
     ]
    }
   ],
   "source": [
    "print(obj.add(1,2))\n",
    "print(obj.sub(1,2))"
   ]
  },
  {
   "cell_type": "code",
   "execution_count": 31,
   "metadata": {},
   "outputs": [
    {
     "name": "stdout",
     "output_type": "stream",
     "text": [
      "3\n",
      "6\n"
     ]
    }
   ],
   "source": [
    "class Multiply:\n",
    "    def multiply(self,n1,n2):\n",
    "        return n1*n2\n",
    "\n",
    "class Calculator(Add, Multiply):\n",
    "    def sub(self, n1, n2):\n",
    "        return n1-n2\n",
    "\n",
    "obj = Calculator()\n",
    "print(obj.add(1,2))\n",
    "print(obj.multiply(3,2))"
   ]
  },
  {
   "cell_type": "markdown",
   "metadata": {},
   "source": [
    "### 55. 예외처리 이해하기"
   ]
  },
  {
   "cell_type": "code",
   "execution_count": 32,
   "metadata": {},
   "outputs": [
    {
     "name": "stdout",
     "output_type": "stream",
     "text": [
      "안녕하세요\n",
      "예외가 발생했습니다!\n"
     ]
    }
   ],
   "source": [
    "try:\n",
    "    print(\"안녕하세요\")\n",
    "    print(param)\n",
    "except:\n",
    "    print(\"예외가 발생했습니다!\")"
   ]
  },
  {
   "cell_type": "markdown",
   "metadata": {},
   "source": [
    "### 56. 예외처리 이해하기 2"
   ]
  },
  {
   "cell_type": "code",
   "execution_count": 33,
   "metadata": {},
   "outputs": [
    {
     "name": "stdout",
     "output_type": "stream",
     "text": [
      "안녕하세요\n",
      "예외가 발생했습니다!\n"
     ]
    }
   ],
   "source": [
    "try:\n",
    "    print(\"안녕하세요\")\n",
    "    print(param)\n",
    "except:\n",
    "    print(\"예외가 발생했습니다!\")\n",
    "else:\n",
    "    print(\"예외가 발생하지 않았습니다.\")"
   ]
  },
  {
   "cell_type": "markdown",
   "metadata": {},
   "source": [
    "### 57.예외처리 이해하기3"
   ]
  },
  {
   "cell_type": "code",
   "execution_count": 34,
   "metadata": {},
   "outputs": [
    {
     "name": "stdout",
     "output_type": "stream",
     "text": [
      "안녕하세요\n",
      "예외가 발생했습니다!\n",
      "무조건 실행하는 코드\n"
     ]
    }
   ],
   "source": [
    "try:\n",
    "    print(\"안녕하세요\")\n",
    "    print(param)\n",
    "except:\n",
    "    print(\"예외가 발생했습니다!\")\n",
    "finally:\n",
    "    print(\"무조건 실행하는 코드\")"
   ]
  },
  {
   "cell_type": "markdown",
   "metadata": {},
   "source": [
    "### 58. 예외처리 이해하기4"
   ]
  },
  {
   "cell_type": "code",
   "execution_count": 35,
   "metadata": {},
   "outputs": [
    {
     "name": "stdout",
     "output_type": "stream",
     "text": [
      "name 'param' is not defined\n"
     ]
    }
   ],
   "source": [
    "try:\n",
    "    print(param)\n",
    "except Exception as e:\n",
    "    print(e)"
   ]
  },
  {
   "cell_type": "markdown",
   "metadata": {},
   "source": [
    "### 59.예외처리 이해하기 5"
   ]
  },
  {
   "cell_type": "code",
   "execution_count": null,
   "metadata": {},
   "outputs": [
    {
     "name": "stdout",
     "output_type": "stream",
     "text": [
      "1\n",
      "2\n",
      "3\n",
      "4\n",
      "5\n"
     ]
    }
   ],
   "source": [
    "import time\n",
    "count = 1\n",
    "try:\n",
    "    while True:\n",
    "        print(count)\n",
    "        count += 1\n",
    "        time.sleep(0.5)\n",
    "except KeyboardInterrupt:   #Ctrl+C가 입력되면 발생하는 오류\n",
    "    print(\"사용자에 의해 프로그램이 중단되었습니다.\")"
   ]
  },
  {
   "cell_type": "code",
   "execution_count": null,
   "metadata": {
    "collapsed": true
   },
   "outputs": [],
   "source": []
  }
 ],
 "metadata": {
  "kernelspec": {
   "display_name": "Python 3",
   "language": "python",
   "name": "python3"
  },
  "language_info": {
   "codemirror_mode": {
    "name": "ipython",
    "version": 3
   },
   "file_extension": ".py",
   "mimetype": "text/x-python",
   "name": "python",
   "nbconvert_exporter": "python",
   "pygments_lexer": "ipython3",
   "version": "3.6.3"
  }
 },
 "nbformat": 4,
 "nbformat_minor": 2
}
