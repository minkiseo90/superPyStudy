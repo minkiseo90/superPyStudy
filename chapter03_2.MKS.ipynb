{
 "cells": [
  {
   "cell_type": "markdown",
   "metadata": {},
   "source": [
    "### 74. 1바이트에서 상위 4비트 추출하기"
   ]
  },
  {
   "cell_type": "code",
   "execution_count": 2,
   "metadata": {},
   "outputs": [
    {
     "name": "stdout",
     "output_type": "stream",
     "text": [
      "6\n"
     ]
    }
   ],
   "source": [
    "a = 107\n",
    "b = (a>>4)& 0x0f\n",
    "print(b)"
   ]
  },
  {
   "cell_type": "markdown",
   "metadata": {},
   "source": [
    "### 75. 문자열에서 특정 위치의 문자 얻기"
   ]
  },
  {
   "cell_type": "code",
   "execution_count": 3,
   "metadata": {},
   "outputs": [
    {
     "name": "stdout",
     "output_type": "stream",
     "text": [
      "로\n"
     ]
    }
   ],
   "source": [
    "txt1 = \"aadafdafad adfad\"\n",
    "txt2 = \"개같은 프로젝트\"\n",
    "\n",
    "print(txt2[-3])"
   ]
  },
  {
   "cell_type": "markdown",
   "metadata": {},
   "source": [
    "### 76. 문자열에서 지정한 구간의 문자열 얻기"
   ]
  },
  {
   "cell_type": "code",
   "execution_count": 4,
   "metadata": {},
   "outputs": [
    {
     "name": "stdout",
     "output_type": "stream",
     "text": [
      "ajdkl\n"
     ]
    }
   ],
   "source": [
    "txt1 = \"qklajdklvndakjqewr\"\n",
    "txt2 = \"개같은 프로젝트 그만하고 싶다\"\n",
    "\n",
    "print(txt1[3:8])"
   ]
  },
  {
   "cell_type": "code",
   "execution_count": 7,
   "metadata": {},
   "outputs": [
    {
     "name": "stdout",
     "output_type": "stream",
     "text": [
      "개\n",
      "개같\n",
      "개같은\n",
      "개같은 \n",
      "개같은 프\n",
      "개같은 프로\n",
      "개같은 프로젝\n",
      "개같은 프로젝트\n",
      "개같은 프로젝트 \n",
      "개같은 프로젝트 그\n",
      "개같은 프로젝트 그만\n",
      "개같은 프로젝트 그만하\n",
      "개같은 프로젝트 그만하고\n",
      "개같은 프로젝트 그만하고 \n",
      "개같은 프로젝트 그만하고 싶\n",
      "개같은 프로젝트 그만하고 싶다\n"
     ]
    }
   ],
   "source": [
    "for i in range(len(txt2)):\n",
    "    print(txt2[:i+1])"
   ]
  },
  {
   "cell_type": "markdown",
   "metadata": {},
   "source": [
    "### 77. 문자열에서 홀수 번째 문자만 추출하기"
   ]
  },
  {
   "cell_type": "code",
   "execution_count": 8,
   "metadata": {},
   "outputs": [
    {
     "name": "stdout",
     "output_type": "stream",
     "text": [
      "dkjlnkeakn\n"
     ]
    }
   ],
   "source": [
    "txt = \"dakljvlknqklenadklnv\"\n",
    "ret = txt[::2]\n",
    "print(ret)"
   ]
  },
  {
   "cell_type": "markdown",
   "metadata": {},
   "source": [
    "### 78. 문자열 거꾸로 만들기"
   ]
  },
  {
   "cell_type": "code",
   "execution_count": 10,
   "metadata": {},
   "outputs": [
    {
     "name": "stdout",
     "output_type": "stream",
     "text": [
      "fdavweqsfda\n"
     ]
    }
   ],
   "source": [
    "txt = \"adfsqewvadf\"\n",
    "ret = txt[::-1]\n",
    "print(ret)"
   ]
  },
  {
   "cell_type": "markdown",
   "metadata": {},
   "source": [
    "### 79. 두개의 문자열 합치기"
   ]
  },
  {
   "cell_type": "code",
   "execution_count": 11,
   "metadata": {},
   "outputs": [
    {
     "name": "stdout",
     "output_type": "stream",
     "text": [
      "저장할 파일 이름을 입력하세요: 수퍼어노잉\n",
      "당신이 저장한 파일은 <수퍼어노잉.jpg>입니다\n"
     ]
    }
   ],
   "source": [
    "filename = input(\"저장할 파일 이름을 입력하세요: \")\n",
    "filename = filename + \".jpg\"\n",
    "display_msg = \"당신이 저장한 파일은 <\" + filename + \">입니다\"\n",
    "print(display_msg)"
   ]
  },
  {
   "cell_type": "markdown",
   "metadata": {},
   "source": [
    "### 80. 문자열을 반복해서 새로운 문자열로 만들기"
   ]
  },
  {
   "cell_type": "code",
   "execution_count": 12,
   "metadata": {},
   "outputs": [
    {
     "name": "stdout",
     "output_type": "stream",
     "text": [
      "여러분,파이팅!파이팅!파이팅!~!\n"
     ]
    }
   ],
   "source": [
    "msg1 = \"여러분\"\n",
    "msg2 = \"파이팅!\"\n",
    "display_msg = msg1 + \",\" + msg2*3 + \"~!\"\n",
    "print(display_msg)"
   ]
  },
  {
   "cell_type": "markdown",
   "metadata": {},
   "source": [
    "### 81. 문자열에서 특정 문자가 있는지 확인하기(in)"
   ]
  },
  {
   "cell_type": "code",
   "execution_count": 16,
   "metadata": {},
   "outputs": [
    {
     "name": "stdout",
     "output_type": "stream",
     "text": [
      "임의의 문장을 입력하세요 : adf\n",
      "당신이 입력한 문장에는 a가 있습니다.\n"
     ]
    }
   ],
   "source": [
    "msg = input(\"임의의 문장을 입력하세요 : \")\n",
    "if \"a\" in msg:\n",
    "    print(\"당신이 입력한 문장에는 a가 있습니다.\")\n",
    "else:\n",
    "    print(\"당신이 입력한 문장에느 a가 없습니다.\")"
   ]
  },
  {
   "cell_type": "markdown",
   "metadata": {},
   "source": [
    "### 82. 문자열에서 특정 문자열이 있는지 확인하기(in)"
   ]
  },
  {
   "cell_type": "code",
   "execution_count": 17,
   "metadata": {},
   "outputs": [
    {
     "name": "stdout",
     "output_type": "stream",
     "text": [
      "임의의 문장을 입력하세요: my project is super annoying\n",
      "당신이 입력한 문장에는 is가 있습니다.\n"
     ]
    }
   ],
   "source": [
    "msg = input(\"임의의 문장을 입력하세요: \")\n",
    "if \"is\" in msg:\n",
    "    print(\"당신이 입력한 문장에는 is가 있습니다.\")\n",
    "else:\n",
    "    print(\"당신이 입력한 문장에는 is가 없습니다.\")"
   ]
  },
  {
   "cell_type": "markdown",
   "metadata": {},
   "source": [
    "### 83. 문자열 길이 구하기(len)"
   ]
  },
  {
   "cell_type": "code",
   "execution_count": 18,
   "metadata": {},
   "outputs": [
    {
     "name": "stdout",
     "output_type": "stream",
     "text": [
      "임의의 문장을 입려갛세요: dkdakqelkvnㅇ미ㅏㅓ\n",
      "당신이 입력한 문장의 길이는 <15>입니다\n"
     ]
    }
   ],
   "source": [
    "msg = input(\"임의의 문장을 입려갛세요: \")\n",
    "msglen = len(msg)\n",
    "print(\"당신이 입력한 문장의 길이는 <%d>입니다\" % msglen)"
   ]
  },
  {
   "cell_type": "markdown",
   "metadata": {},
   "source": [
    "### 84. 문자열이 알파벳인지 검사하기(isalpha)"
   ]
  },
  {
   "cell_type": "code",
   "execution_count": 22,
   "metadata": {},
   "outputs": [
    {
     "name": "stdout",
     "output_type": "stream",
     "text": [
      "True\n",
      "True\n",
      "False\n",
      "False\n"
     ]
    }
   ],
   "source": [
    "txt1 = \"A\"\n",
    "txt2 = \"안녕\"\n",
    "txt3 = \"WORLD OF WARCRAFT\"\n",
    "txt4 = \"3PO\"\n",
    "\n",
    "ret1 = txt1.isalpha()\n",
    "ret2 = txt2.isalpha()\n",
    "ret3 = txt3.isalpha()\n",
    "ret4 = txt4.isalpha()\n",
    "\n",
    "\n",
    "print(ret1)\n",
    "print(ret2) #문자열이므로 TRUE\n",
    "print(ret3) #공백있으므로 FALSE\n",
    "print(ret4) #숫자있으므로 FALSE"
   ]
  },
  {
   "cell_type": "markdown",
   "metadata": {},
   "source": [
    "### 85. 문자열이 숫자인지 검사하기(isdigit) "
   ]
  },
  {
   "cell_type": "code",
   "execution_count": 24,
   "metadata": {},
   "outputs": [
    {
     "name": "stdout",
     "output_type": "stream",
     "text": [
      "False\n",
      "False\n",
      "True\n"
     ]
    }
   ],
   "source": [
    "txt1 = \"010-1234-5678\"\n",
    "txt2 = \"R2D2\"\n",
    "txt3 = \"1212\"\n",
    "\n",
    "print(txt1.isdigit())\n",
    "print(txt2.isdigit())\n",
    "print(txt3.isdigit())"
   ]
  },
  {
   "cell_type": "markdown",
   "metadata": {},
   "source": [
    "### 86. 문자열이 알파벳 또는 숫자인지 검사하기(isalnum)"
   ]
  },
  {
   "cell_type": "code",
   "execution_count": 25,
   "metadata": {},
   "outputs": [
    {
     "name": "stdout",
     "output_type": "stream",
     "text": [
      "False\n"
     ]
    }
   ],
   "source": [
    "txt1 = \"안녕하세요?\"\n",
    "txt2 = \"1.Title - 제목을 넣으세요\"\n",
    "txt3 = \"3피오R2D2\"\n",
    "\n",
    "print(txt1.isalnum())\n"
   ]
  },
  {
   "cell_type": "markdown",
   "metadata": {
    "collapsed": true
   },
   "source": [
    "### 87.문자열에서 대소문자 변환하기"
   ]
  },
  {
   "cell_type": "code",
   "execution_count": 1,
   "metadata": {},
   "outputs": [
    {
     "name": "stdout",
     "output_type": "stream",
     "text": [
      "ADAFDAFADS \n"
     ]
    }
   ],
   "source": [
    "txt = \"adafdafads \"\n",
    "ret1 = txt.upper()\n",
    "print(ret1)"
   ]
  },
  {
   "cell_type": "markdown",
   "metadata": {},
   "source": [
    "### 88.문자열에서 좌우 공백 제거하기"
   ]
  },
  {
   "cell_type": "code",
   "execution_count": 2,
   "metadata": {},
   "outputs": [
    {
     "name": "stdout",
     "output_type": "stream",
     "text": [
      "아ㅓㄹ아멀 \n",
      " 아ㅓㄹ아멀\n",
      "아ㅓㄹ아멀\n"
     ]
    }
   ],
   "source": [
    "txt = \" 아ㅓㄹ아멀 \"\n",
    "ret1 = txt.lstrip()\n",
    "ret2 = txt.rstrip()\n",
    "ret3 = txt.strip()\n",
    "\n",
    "print(ret1); print(ret2); print(ret3)"
   ]
  },
  {
   "cell_type": "markdown",
   "metadata": {},
   "source": [
    "### 89.문자열을 수치형 자료로 변환하기"
   ]
  },
  {
   "cell_type": "code",
   "execution_count": 1,
   "metadata": {},
   "outputs": [
    {
     "name": "stdout",
     "output_type": "stream",
     "text": [
      "숫자를 입력하세요:1234\n",
      "당신이 입력한 숫자는 정수 1234 입니다\n"
     ]
    }
   ],
   "source": [
    "numstr = input(\"숫자를 입력하세요:\")\n",
    "\n",
    "try:\n",
    "    num = int(numstr)\n",
    "    print(\"당신이 입력한 숫자는 정수 %d 입니다\"%num)\n",
    "except:\n",
    "    try:\n",
    "        num = float(numstr)\n",
    "        print(\"당신이 입력한 숫자는 실수 %f 입니다\"%num)\n",
    "    except:\n",
    "        print(\"@@@@@@@@숫자를 입력하세요@@@@@@@@@\")"
   ]
  },
  {
   "cell_type": "markdown",
   "metadata": {},
   "source": [
    "### 90.수치형 자료를 문자열로 변환하기"
   ]
  },
  {
   "cell_type": "code",
   "execution_count": 2,
   "metadata": {},
   "outputs": [
    {
     "name": "stdout",
     "output_type": "stream",
     "text": [
      "num1을 문자열로 변환한 값은 '1234'입니다\n"
     ]
    }
   ],
   "source": [
    "num1 = 1234\n",
    "num2 = 3.14\n",
    "\n",
    "numstr1 = str(num1)\n",
    "print(\"num1을 문자열로 변환한 값은 '%s'입니다\"%numstr1)"
   ]
  },
  {
   "cell_type": "markdown",
   "metadata": {},
   "source": [
    "### 91. 문자열에 있는 문자(열)개수 구하기"
   ]
  },
  {
   "cell_type": "code",
   "execution_count": 6,
   "metadata": {},
   "outputs": [
    {
     "name": "stdout",
     "output_type": "stream",
     "text": [
      "0\n",
      "6\n"
     ]
    }
   ],
   "source": [
    "txt = \"sklnv\"\n",
    "word_count1 = txt.count(\"a\")\n",
    "word_count2 = txt.count(\"\")\n",
    "\n",
    "print(word_count1)\n",
    "print(word_count2)###왜 6일까요?"
   ]
  },
  {
   "cell_type": "markdown",
   "metadata": {},
   "source": [
    "### 92. 문자열에서 특정문자(열) 위치 찾기"
   ]
  },
  {
   "cell_type": "code",
   "execution_count": 8,
   "metadata": {},
   "outputs": [
    {
     "name": "stdout",
     "output_type": "stream",
     "text": [
      "6\n",
      "-1\n"
     ]
    }
   ],
   "source": [
    "txt = \"adfkjqenlvdasf\"\n",
    "offset1 = txt.find(\"e\")\n",
    "offset2 = txt.find(\"adf\", 1) #두번쨰 인덱스부터 adf 찾기\n",
    "\n",
    "print(offset1)\n",
    "print(offset2) #문자열이 없으면 -1 리턴"
   ]
  },
  {
   "cell_type": "markdown",
   "metadata": {},
   "source": [
    "### 93. 문자열을 특정 문자(열)로 분리하기"
   ]
  },
  {
   "cell_type": "code",
   "execution_count": 10,
   "metadata": {},
   "outputs": [
    {
     "name": "stdout",
     "output_type": "stream",
     "text": [
      "name -> 홍길동\n",
      "age -> 17\n",
      "sex -> 남자\n",
      "nation -> 조선\n"
     ]
    }
   ],
   "source": [
    "log = \"name:홍길동 age:17 sex:남자 nation:조선\"\n",
    "\n",
    "ret2 = log.split()#공백으로 분리\n",
    "\n",
    "for data in ret2:\n",
    "    d1,d2 = data.split(\":\")\n",
    "    print(\"%s -> %s\"%(d1,d2))"
   ]
  },
  {
   "cell_type": "markdown",
   "metadata": {},
   "source": [
    "### 94. 문자열을 특정 문자(열)로 결합하기"
   ]
  },
  {
   "cell_type": "code",
   "execution_count": 12,
   "metadata": {},
   "outputs": [
    {
     "name": "stdout",
     "output_type": "stream",
     "text": [
      "ㅁㅇ라ㅣㅜㅂ;ㅁㄴ아ㅣㅁ퓝ㄷㅈㄹ;ㅇㄹ바ㅣㅂㄷ저리ㅏㅁㄴ우\n"
     ]
    }
   ],
   "source": [
    "loglist = [\"ㅁㅇ라ㅣㅜㅂ\", \"ㅁㄴ아ㅣㅁ퓝ㄷㅈㄹ\", \"ㅇㄹ바ㅣㅂㄷ저리ㅏㅁㄴ우\"]\n",
    "bond = \";\"\n",
    "log = bond.join(loglist)\n",
    "print(log)"
   ]
  },
  {
   "cell_type": "markdown",
   "metadata": {},
   "source": [
    "### 95. 문자열에서 특정 문자열을 다른 문자열로 바꾸기"
   ]
  },
  {
   "cell_type": "code",
   "execution_count": 13,
   "metadata": {},
   "outputs": [
    {
     "name": "stdout",
     "output_type": "stream",
     "text": [
      "My password is 0234\n",
      "My password is python234\n"
     ]
    }
   ],
   "source": [
    "txt = \"My password is 1234\"\n",
    "ret1 = txt.replace(\"1\", \"0\")\n",
    "ret2 = txt.replace(\"1\", \"python\")\n",
    "\n",
    "print(ret1)\n",
    "print(ret2)"
   ]
  },
  {
   "cell_type": "markdown",
   "metadata": {},
   "source": [
    "### 96. 문자열을 바이트 객체로 바꾸기"
   ]
  },
  {
   "cell_type": "code",
   "execution_count": 14,
   "metadata": {},
   "outputs": [
    {
     "name": "stdout",
     "output_type": "stream",
     "text": [
      "I love python\n",
      "b'I love python'\n"
     ]
    }
   ],
   "source": [
    "u_txt = \"I love python\"\n",
    "b_txt = u_txt.encode()\n",
    "\n",
    "print(u_txt)\n",
    "print(b_txt)"
   ]
  },
  {
   "cell_type": "code",
   "execution_count": 16,
   "metadata": {},
   "outputs": [
    {
     "name": "stdout",
     "output_type": "stream",
     "text": [
      "True\n",
      "False\n"
     ]
    }
   ],
   "source": [
    "ret1 = \"I\"==u_txt[0]\n",
    "ret2 = \"I\"==b_txt[0]\n",
    "print(ret1)\n",
    "print(ret2)"
   ]
  },
  {
   "cell_type": "markdown",
   "metadata": {},
   "source": [
    "### 97.바이트 객체를 문자열로 바꾸기"
   ]
  },
  {
   "cell_type": "code",
   "execution_count": 18,
   "metadata": {},
   "outputs": [
    {
     "name": "stdout",
     "output_type": "stream",
     "text": [
      "I hate my current project\n"
     ]
    }
   ],
   "source": [
    "b_txt = b\"I hate my current project\"\n",
    "u_txt = b_txt.decode()\n",
    "print(u_txt)"
   ]
  },
  {
   "cell_type": "markdown",
   "metadata": {},
   "source": [
    "### 98.문자열을 정렬하기"
   ]
  },
  {
   "cell_type": "code",
   "execution_count": 20,
   "metadata": {},
   "outputs": [
    {
     "name": "stdout",
     "output_type": "stream",
     "text": [
      "정렬할 문자열을 입력하세요:\"superannoying\"\n",
      "['\"', '\"', 'a', 'e', 'g', 'i', 'n', 'n', 'n', 'o', 'p', 'r', 's', 'u', 'y']\n",
      "['y', 'u', 's', 'r', 'p', 'o', 'n', 'n', 'n', 'i', 'g', 'e', 'a', '\"', '\"']\n",
      "오름차순으로 정렬된 문자열은\"\"aeginnnoprsuy입니다\n",
      "내림차순으로 정렬된 문자열은yusrponnnigea\"\"입니다\n"
     ]
    }
   ],
   "source": [
    "strdata = input(\"정렬할 문자열을 입력하세요:\")\n",
    "ret1 = sorted(strdata)\n",
    "ret2 = sorted(strdata, reverse = True)\n",
    "print(ret1)\n",
    "print(ret2)\n",
    "\n",
    "ret1 = \"\".join(ret1)\n",
    "ret2 = \"\".join(ret2)\n",
    "\n",
    "print(\"오름차순으로 정렬된 문자열은\" + ret1 + \"입니다\")\n",
    "print(\"내림차순으로 정렬된 문자열은\" + ret2 + \"입니다\")"
   ]
  },
  {
   "cell_type": "markdown",
   "metadata": {},
   "source": [
    "### 99. 순차적인 정수 리스트 만들기"
   ]
  },
  {
   "cell_type": "code",
   "execution_count": 21,
   "metadata": {},
   "outputs": [
    {
     "name": "stdout",
     "output_type": "stream",
     "text": [
      "[0, 1, 2, 3, 4, 5, 6, 7, 8, 9]\n",
      "[10, 11, 12, 13, 14, 15, 16, 17, 18, 19]\n"
     ]
    }
   ],
   "source": [
    "range1 = range(10)\n",
    "range2 = range(10, 20)\n",
    "print(list(range1))\n",
    "print(list(range2))"
   ]
  },
  {
   "cell_type": "markdown",
   "metadata": {},
   "source": [
    "### 100. 리스트에서 특정 위치의 요소 얻기"
   ]
  },
  {
   "cell_type": "code",
   "execution_count": 22,
   "metadata": {},
   "outputs": [
    {
     "name": "stdout",
     "output_type": "stream",
     "text": [
      "5\n"
     ]
    }
   ],
   "source": [
    "listdata = [1,2,\"a\",\"b\",\"c\", [4,5,6]]\n",
    "val1 = listdata[1]\n",
    "val2 = listdata[3]\n",
    "val3 = listdata[5][1]\n",
    "\n",
    "print(val3)"
   ]
  },
  {
   "cell_type": "code",
   "execution_count": null,
   "metadata": {
    "collapsed": true
   },
   "outputs": [],
   "source": []
  }
 ],
 "metadata": {
  "kernelspec": {
   "display_name": "Python 3",
   "language": "python",
   "name": "python3"
  },
  "language_info": {
   "codemirror_mode": {
    "name": "ipython",
    "version": 3
   },
   "file_extension": ".py",
   "mimetype": "text/x-python",
   "name": "python",
   "nbconvert_exporter": "python",
   "pygments_lexer": "ipython3",
   "version": "3.6.3"
  }
 },
 "nbformat": 4,
 "nbformat_minor": 2
}
