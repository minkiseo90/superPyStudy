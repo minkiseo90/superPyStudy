{
 "cells": [
  {
   "cell_type": "markdown",
   "metadata": {},
   "source": [
    "### 137 텍스트 파일을 읽고 출력하기(read)"
   ]
  },
  {
   "cell_type": "code",
   "execution_count": null,
   "metadata": {},
   "outputs": [],
   "source": [
    "f = open('stockcode.txt','r')\n",
    "data = f.read()\n",
    "print(data)\n",
    "f.close()"
   ]
  },
  {
   "cell_type": "markdown",
   "metadata": {},
   "source": [
    "### 138 텍스트 파일을 한줄씩 읽고 출력하기 1) (readline)"
   ]
  },
  {
   "cell_type": "code",
   "execution_count": null,
   "metadata": {},
   "outputs": [],
   "source": [
    "f = open('stockcode.txt','r')\n",
    "line = f.readline()\n",
    "line_num = 0;\n",
    "while line:\n",
    "    print('%d %s'%(line_num,line))\n",
    "    line = f.readline()\n",
    "    line_num += 1\n",
    "f.close()"
   ]
  },
  {
   "cell_type": "markdown",
   "metadata": {},
   "source": [
    "### 139 텍스트 파일을 한줄씩 읽고 출력하기 2) (readlines)"
   ]
  },
  {
   "cell_type": "code",
   "execution_count": null,
   "metadata": {},
   "outputs": [],
   "source": [
    "f = open('stockcode.txt','r')\n",
    "lines = f.readlines()\n",
    "for line_num, line in enumerate(lines):\n",
    "    print('%d %s' %(line_num, line))\n",
    "    \n",
    "f.close()"
   ]
  },
  {
   "cell_type": "markdown",
   "metadata": {},
   "source": [
    "### 140 화면에서 사용자 입력을 받고 파일로 쓰기 (write)"
   ]
  },
  {
   "cell_type": "code",
   "execution_count": null,
   "metadata": {},
   "outputs": [],
   "source": [
    "In = input('아무거나 입력하시오')\n",
    "\n",
    "f = open('test.txt','w')\n",
    "f.write(In)\n",
    "f.close()\n"
   ]
  },
  {
   "cell_type": "markdown",
   "metadata": {},
   "source": [
    "### 141 텍스트 파일에 한줄씩 쓰기(writelines)"
   ]
  },
  {
   "cell_type": "code",
   "execution_count": null,
   "metadata": {},
   "outputs": [],
   "source": [
    "count = 1\n",
    "data = []\n",
    "print('파일에 내용을 저장하려면 내용을 입력하기 말고[Enter]를 누르세요')\n",
    "while True:\n",
    "    text = input('[%d] 파일에 저장할 내용을 입력하세요' %count)\n",
    "    if text == \"\":\n",
    "        break\n",
    "    data.append(text+'\\n')\n",
    "    count +=1\n",
    "\n",
    "f = open('test.txt','w')\n",
    "f.writelines(data)\n",
    "f.close()"
   ]
  },
  {
   "cell_type": "markdown",
   "metadata": {},
   "source": [
    "### 142 텍스트 파일 복사하기(read , write)"
   ]
  },
  {
   "cell_type": "code",
   "execution_count": null,
   "metadata": {
    "collapsed": true
   },
   "outputs": [],
   "source": [
    "f = open('stockcode.txt','r')\n",
    "h = open('stockcode_copy.txt','w')\n",
    "\n",
    "data = f.read()\n",
    "# print(data)\n",
    "h.write(data)\n",
    "\n",
    "f.close()\n",
    "h.close()"
   ]
  },
  {
   "cell_type": "markdown",
   "metadata": {},
   "source": [
    "왜.... 저장이 안되지???"
   ]
  },
  {
   "cell_type": "markdown",
   "metadata": {},
   "source": [
    "### 143 바이너리 파일 복사하기(read, write)"
   ]
  },
  {
   "cell_type": "code",
   "execution_count": null,
   "metadata": {
    "collapsed": true
   },
   "outputs": [],
   "source": [
    "bufsize = 1024\n",
    "f = open('C://Users/Public/Pictures/Sample Pictures/Tulips.jpg','rb')\n",
    "h = open('튤립_copy.jpg','wb')\n",
    "\n",
    "data = f.read(bufsize)\n",
    "while data:\n",
    "    h.write(data)\n",
    "    data = f.read(bufsize)\n",
    "\n",
    "f.close()\n",
    "h.close()"
   ]
  },
  {
   "cell_type": "markdown",
   "metadata": {},
   "source": [
    "### 144 파일을 열고 자동으로 닫기 (with ~ as)"
   ]
  },
  {
   "cell_type": "code",
   "execution_count": null,
   "metadata": {},
   "outputs": [],
   "source": [
    "with open('stockcode.txt','r') as f:\n",
    "    for line_num, line in enumerate(f.readlines()):\n",
    "        print('%d %s' %(line_num, line),end=\"\")"
   ]
  },
  {
   "cell_type": "markdown",
   "metadata": {},
   "source": [
    "### 145 파일의 특정 부분만 복사하기 (seek, read, write)"
   ]
  },
  {
   "cell_type": "code",
   "execution_count": null,
   "metadata": {
    "collapsed": true
   },
   "outputs": [],
   "source": [
    "spos = 105\n",
    "size = 500\n",
    "\n",
    "f = open('stockcode.txt','r')\n",
    "h = open('stockcode_part.txt','w')\n",
    "\n",
    "f.seek(spos)\n",
    "data = f.read(size)\n",
    "h.write(data)\n",
    "\n",
    "h.close()\n",
    "f.close()"
   ]
  },
  {
   "cell_type": "markdown",
   "metadata": {},
   "source": [
    "### 146 파일 크기 구하기 (os.path.getsize)"
   ]
  },
  {
   "cell_type": "code",
   "execution_count": null,
   "metadata": {},
   "outputs": [],
   "source": [
    "from os.path import getsize\n",
    "\n",
    "file1 = 'stockcode.txt'\n",
    "file2 = 'C:/Users/Public/Pictures/Sample Pictures/Tulips.jpg'\n",
    "file_size1 = getsize(file1)\n",
    "file_size2 = getsize(file2)\n",
    "\n",
    "print('File Name : %s\\tFile size : %d' %(file1, file_size1))\n",
    "print('File Name : %s\\tFile size : %d' %(file2, file_size2))"
   ]
  },
  {
   "cell_type": "markdown",
   "metadata": {},
   "source": [
    "### 147 파일 삭제하기 (os.remove)"
   ]
  },
  {
   "cell_type": "code",
   "execution_count": null,
   "metadata": {},
   "outputs": [],
   "source": [
    "from os import remove\n",
    "target_file = 'stockcode_copy.txt'\n",
    "k = input('[%s]를 삭제하겠습니까?(yes or no)'%target_file)\n",
    "if k =='y':\n",
    "    remove(target_file)\n",
    "    print('[%s]를 삭제하였습니다.'%target_file)"
   ]
  },
  {
   "cell_type": "markdown",
   "metadata": {},
   "source": [
    "### 148 파일 이름 바꾸기(os.rename)"
   ]
  },
  {
   "cell_type": "code",
   "execution_count": null,
   "metadata": {},
   "outputs": [],
   "source": [
    "from os import rename\n",
    "\n",
    "target_file = 'stockcode.txt'\n",
    "newname = input('[%s]에 대한 새로운 파일이름을 입력하세요:'%target_file)\n",
    "rename(target_file, newname)\n",
    "print('[%s] -> [%s]로 변경되었습니다'%(target_file, newname))"
   ]
  },
  {
   "cell_type": "markdown",
   "metadata": {},
   "source": [
    "### 149 파일을 다른 디렉터리로 이독하기(os.rename)"
   ]
  },
  {
   "cell_type": "code",
   "execution_count": null,
   "metadata": {},
   "outputs": [],
   "source": [
    "from os import rename\n",
    "\n",
    "target_file = 'stockcode.txt'\n",
    "newpath = input('[%s]를 이동할 디렉토리의 절대경로를 입력하세요:'%target_file)\n",
    "\n",
    "if newpath[-1] =='/':\n",
    "    newname = newpath + target_file\n",
    "else:\n",
    "    newname = newpath +'/'+ target_file\n",
    "\n",
    "try:\n",
    "    rename(target_file, newname)\n",
    "    print('[%s] -> [%s]로 이동되었습니다' %(target_file, newname))\n",
    "except FileNotFoundError as e:\n",
    "    print(e)"
   ]
  },
  {
   "cell_type": "markdown",
   "metadata": {},
   "source": [
    "### 150 디렉터리에 있는 파일목록 얻기(os.listdir, glob.glob)"
   ]
  },
  {
   "cell_type": "code",
   "execution_count": null,
   "metadata": {},
   "outputs": [],
   "source": [
    "import os\n",
    "import glob\n",
    "\n",
    "folder = 'C:/Users/Administrator'\n",
    "file_list = os.listdir(folder)\n",
    "print(file_list)\n",
    "\n",
    "files = '*.txt'\n",
    "file_list = glob.glob(files)\n",
    "print(file_list)"
   ]
  },
  {
   "cell_type": "markdown",
   "metadata": {},
   "source": [
    "### 151 현재 디렉터리 확인하고 바꾸기(os.getcwd, os.chdir)"
   ]
  },
  {
   "cell_type": "code",
   "execution_count": 1,
   "metadata": {},
   "outputs": [
    {
     "name": "stdout",
     "output_type": "stream",
     "text": [
      "C:\\Users\\Administrator\n",
      "C:\\Users\n",
      "C:\\Users\\Administrator\n"
     ]
    }
   ],
   "source": [
    "import os\n",
    "\n",
    "pdir = os.getcwd()\n",
    "print(pdir)\n",
    "os.chdir('..')\n",
    "print(os.getcwd())\n",
    "os.chdir(pdir)\n",
    "print(os.getcwd())"
   ]
  },
  {
   "cell_type": "markdown",
   "metadata": {},
   "source": [
    "### 152 디렉터리 생성하기(os.mkdir)"
   ]
  },
  {
   "cell_type": "code",
   "execution_count": 9,
   "metadata": {},
   "outputs": [
    {
     "name": "stdout",
     "output_type": "stream",
     "text": [
      "C:\\Users\\Administrator\n",
      "새로 생성할 디렉터리 이름을 입력하세요python200\n",
      "[python200] 디렉터리를 새로 생성했습니다\n"
     ]
    }
   ],
   "source": [
    "import os\n",
    "os.chdir('C:/Users/Administrator')\n",
    "print(os.getcwd())\n",
    "newfolder = input('새로 생성할 디렉터리 이름을 입력하세요')\n",
    "try:\n",
    "    os.mkdir(newfolder)\n",
    "    print('[%s] 디렉터리를 새로 생성했습니다' %newfolder)\n",
    "except Exception as e:\n",
    "    print(e)"
   ]
  },
  {
   "cell_type": "markdown",
   "metadata": {},
   "source": [
    "### 153 디렉터리 제거하기(os.rmdir)"
   ]
  },
  {
   "cell_type": "code",
   "execution_count": 6,
   "metadata": {},
   "outputs": [
    {
     "name": "stdout",
     "output_type": "stream",
     "text": [
      "[python200] 디렉터리를 삭제?(yes or no)?y\n",
      "[python200] 삭제완료\n"
     ]
    }
   ],
   "source": [
    "import os\n",
    "\n",
    "target_folder = 'python200'\n",
    "k = input('[%s] 디렉터리를 삭제?(yes or no)?' %target_folder)\n",
    "if k =='y':\n",
    "    try:\n",
    "        os.rmdir(target_folder)\n",
    "        print('[%s] 삭제완료'%target_folder)\n",
    "    except Exception as e:\n",
    "        print(e)"
   ]
  },
  {
   "cell_type": "markdown",
   "metadata": {},
   "source": [
    "### 154 하위 디렉터리 파일 전체 삭제하기(shutil.rmtree)"
   ]
  },
  {
   "cell_type": "code",
   "execution_count": 8,
   "metadata": {},
   "outputs": [
    {
     "name": "stdout",
     "output_type": "stream",
     "text": [
      "[C:/Users/Administrator/python200] 하위 디렉터리 및 파일들을 삭제합니다\n",
      "[C:/Users/Administrator/python200]를 삭제하시겠습니까?(y/n)y\n",
      "[C:/Users/Administrator/python200]의 모든 하위 디렉터리와 파일들을 삭제했습니다\n"
     ]
    }
   ],
   "source": [
    "import shutil\n",
    "import os\n",
    "\n",
    "target_folder = 'C:/Users/Administrator/python200'\n",
    "print('[%s] 하위 디렉터리 및 파일들을 삭제합니다' %target_folder)\n",
    "\n",
    "for file in os.listdir(target_folder):\n",
    "    print(file)\n",
    "\n",
    "k = input('[%s]를 삭제하시겠습니까?(y/n)'%target_folder)\n",
    "if k =='y':\n",
    "    try:\n",
    "        shutil.rmtree(target_folder)\n",
    "        print('[%s]의 모든 하위 디렉터리와 파일들을 삭제했습니다'%target_folder)\n",
    "    except Exeption as e:\n",
    "        print(e)"
   ]
  },
  {
   "cell_type": "markdown",
   "metadata": {},
   "source": [
    "### 155 파일이 존재하는지 체크하기 (os.path.exists)"
   ]
  },
  {
   "cell_type": "code",
   "execution_count": 10,
   "metadata": {},
   "outputs": [
    {
     "name": "stdout",
     "output_type": "stream",
     "text": [
      "새로 생성할 디렉터리 이름을 입력하시오python200\n",
      "[python200]은 이미 존재합니다.\n"
     ]
    }
   ],
   "source": [
    "import os\n",
    "from os.path import exists\n",
    "\n",
    "dir_name = input('새로 생성할 디렉터리 이름을 입력하시오')\n",
    "if not exists(dir_name):\n",
    "    os.mkdir(dir_name)\n",
    "    print('[%s]디렉터리 생성완료' %dir_name)\n",
    "else:\n",
    "    print('[%s]은 이미 존재합니다.'%dir_name)"
   ]
  },
  {
   "cell_type": "markdown",
   "metadata": {},
   "source": [
    "### 156 파일인지 디렉터리인지 확인하기(os.path.isfile, os.path.isdir)"
   ]
  },
  {
   "cell_type": "code",
   "execution_count": 11,
   "metadata": {},
   "outputs": [
    {
     "name": "stdout",
     "output_type": "stream",
     "text": [
      "DIR : .anaconda\n",
      "DIR : .conda\n",
      "DIR : .docker\n",
      "DIR : .ipynb_checkpoints\n",
      "DIR : .ipython\n",
      "DIR : .jupyter\n",
      "DIR : .logs\n",
      "DIR : .matplotlib\n",
      "DIR : .Mendeley Desktop\n",
      "DIR : .PyCharmCE2017.2\n",
      "DIR : .QtWebEngineProcess\n",
      "DIR : .VirtualBox\n",
      "DIR : AnacondaProjects\n",
      "DIR : AppData\n",
      "DIR : Application Data\n",
      "DIR : Contacts\n",
      "DIR : Cookies\n",
      "DIR : Desktop\n",
      "DIR : df\n",
      "DIR : Documents\n",
      "DIR : Downloads\n",
      "DIR : Evernote\n",
      "DIR : Favorites\n",
      "DIR : Links\n",
      "DIR : Local Settings\n",
      "DIR : Music\n",
      "DIR : My Documents\n",
      "DIR : mypackage\n",
      "DIR : NetHood\n",
      "DIR : Pictures\n",
      "DIR : PrintHood\n",
      "DIR : PycharmProjects\n",
      "DIR : python200\n",
      "DIR : Recent\n",
      "DIR : Saved Games\n",
      "DIR : Searches\n",
      "DIR : SendTo\n",
      "DIR : Stopwatches\n",
      "DIR : Templates\n",
      "DIR : Untitled Folder\n",
      "DIR : Untitled Folder 1\n",
      "DIR : Untitled Folder 2\n",
      "DIR : Videos\n",
      "DIR : VirtualBox VMs\n",
      "DIR : __pycache__\n",
      "DIR : 시작 메뉴\n",
      "FILE : .bash_history\n",
      "FILE : .condarc\n",
      "FILE : 123.txt\n",
      "FILE : Ch1_jsk.ipynb\n",
      "FILE : Ch2_(1)_jsk.ipynb\n",
      "FILE : Ch2_(2)_jsk.ipynb\n",
      "FILE : Ch3_(1)_jsk.ipynb\n",
      "FILE : Ch3_(2)_jsk.ipynb\n",
      "FILE : Ch3_(3)_jsk.ipynb\n",
      "FILE : Ch4_(1)_jsk.ipynb\n",
      "FILE : mylib.py\n",
      "FILE : NTUSER.DAT\n",
      "FILE : ntuser.dat.LOG1\n",
      "FILE : ntuser.dat.LOG2\n",
      "FILE : NTUSER.DAT{016888bd-6c6f-11de-8d1d-001e0bcde3ec}.TM.blf\n",
      "FILE : NTUSER.DAT{016888bd-6c6f-11de-8d1d-001e0bcde3ec}.TMContainer00000000000000000001.regtrans-ms\n",
      "FILE : NTUSER.DAT{016888bd-6c6f-11de-8d1d-001e0bcde3ec}.TMContainer00000000000000000002.regtrans-ms\n",
      "FILE : ntuser.ini\n",
      "FILE : stockcode.txt.txt\n",
      "FILE : stockcode_part.txt\n",
      "FILE : test.txt\n",
      "FILE : 튤립_copy.jpg\n"
     ]
    }
   ],
   "source": [
    "import os\n",
    "from os.path import exists, isdir, isfile\n",
    "\n",
    "files = os.listdir()\n",
    "for file in files:\n",
    "    if isdir(file):\n",
    "        print('DIR : %s' %file)\n",
    "\n",
    "for file in files:\n",
    "    if isfile(file):\n",
    "        print('FILE : %s' %file)"
   ]
  },
  {
   "cell_type": "markdown",
   "metadata": {},
   "source": [
    "### 157 현재시간을 년-월-일 시:분:초로 출력하기(localtime, strftime)"
   ]
  },
  {
   "cell_type": "code",
   "execution_count": 14,
   "metadata": {},
   "outputs": [
    {
     "name": "stdout",
     "output_type": "stream",
     "text": [
      "C:\\Users\\Administrator\n"
     ]
    }
   ],
   "source": [
    "print(os.getcwd())"
   ]
  },
  {
   "cell_type": "code",
   "execution_count": 15,
   "metadata": {
    "collapsed": true
   },
   "outputs": [],
   "source": [
    "from time import localtime, strftime\n",
    "\n",
    "logfile = 'test.log'\n",
    "def writelog(logfile, log):\n",
    "    time_stamp = strftime('%Y-%m-%d %X\\t', localtime())\n",
    "    log = time_stamp + log + '\\n'\n",
    "\n",
    "    with open(logfile, 'a') as f:\n",
    "        f.writelines(log)\n",
    "        \n",
    "writelog(logfile,'첫번째 로깅 문장입니다.')"
   ]
  },
  {
   "cell_type": "markdown",
   "metadata": {},
   "source": [
    "### 158  올해 경과된 날짜수 계산하기(localtime)"
   ]
  },
  {
   "cell_type": "code",
   "execution_count": 16,
   "metadata": {},
   "outputs": [
    {
     "name": "stdout",
     "output_type": "stream",
     "text": [
      "오늘은 [2017-01-01]이후 [2017]일째 되는 날입니다\n"
     ]
    }
   ],
   "source": [
    "from time import localtime\n",
    "\n",
    "t = localtime()\n",
    "start_day = '%d-01-01' %t.tm_year\n",
    "elapsed_day = t.tm_year\n",
    "\n",
    "print('오늘은 [%s]이후 [%d]일째 되는 날입니다' %(start_day, elapsed_day))"
   ]
  }
 ],
 "metadata": {
  "kernelspec": {
   "display_name": "Python 3",
   "language": "python",
   "name": "python3"
  },
  "language_info": {
   "codemirror_mode": {
    "name": "ipython",
    "version": 3
   },
   "file_extension": ".py",
   "mimetype": "text/x-python",
   "name": "python",
   "nbconvert_exporter": "python",
   "pygments_lexer": "ipython3",
   "version": "3.5.3"
  }
 },
 "nbformat": 4,
 "nbformat_minor": 2
}
